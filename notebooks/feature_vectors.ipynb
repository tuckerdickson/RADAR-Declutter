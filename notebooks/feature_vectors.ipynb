{
 "cells": [
  {
   "cell_type": "markdown",
   "id": "ae5f349a-6efa-4b2f-a4fa-9e8486b810fd",
   "metadata": {},
   "source": [
    "# Feature Vector Calculations\n",
    "The purpose of this notebook is to write out formulas for calculating feature vector updates and to document the thought process for the implementation of feature vectors and the dictionary outside of the final program."
   ]
  },
  {
   "cell_type": "markdown",
   "id": "b41a26bc-99b4-4cdc-8669-2c224bb9116f",
   "metadata": {},
   "source": [
    "## Statistical Calculations"
   ]
  },
  {
   "cell_type": "markdown",
   "id": "db090b73-c7b6-4a7f-bad3-dd9ca78cc59c",
   "metadata": {},
   "source": [
    "### Average\n",
    "Below is the formula for calculating the current average, $\\mu_{n}$, for different fields with only the calculated average from one previous time step, $\\mu_{n-1}$, and the current value update for the field, $x_{n}$. This can be used on any of the fields present in the track dataset.\n",
    "\n",
    "$$\n",
    "\\mu_{n} = \\frac{(n-1)\\mu_{n-1} + x_{n}}{n}\n",
    "$$"
   ]
  },
  {
   "cell_type": "markdown",
   "id": "ec4dbeb1-f8db-468d-b5e0-77a56ee469b9",
   "metadata": {},
   "source": [
    "### Standard Deviation\n",
    "Below is the formula for calculating the current standard deviation, $\\sigma_{n}$, with only the previously calculated standard deviation from the last time step, $\\sigma_{n-1}$, and the current value update for the field, $x_{n}$. This can be used on any of the fields present in the track dataset.\n",
    "\n",
    "$$\n",
    "\\sigma_{n} = \\sqrt{\\frac{(n-1)\\sigma_{n-1}^{2} + (x_{n}-\\mu_{n})^2}{n}}\n",
    "$$"
   ]
  },
  {
   "cell_type": "markdown",
   "id": "57542758-8b97-4825-ad07-897419b34dce",
   "metadata": {},
   "source": [
    "## Smoothness Calculations"
   ]
  },
  {
   "cell_type": "markdown",
   "id": "a2b89223-3ac6-4674-981d-8f194ce5ea35",
   "metadata": {},
   "source": [
    "Below are the formulas for calculating both the smoothness $M(1)$ and $M(2)$ metrics. These metrics convey the relative visual smoothness of a signal processed from any of the fields either provided by the kinematic track data or features calculated throughout the script. Added variables $q$ and $c$ are also specified in the equations. $z_n$ is any field or calculated feature at the current time interval.\n",
    "$$\n",
    "q_{n} = \\frac{1}{n}(q_{n-1} * (n-1) + (z_{n} - z_{n-1}))\n",
    "$$\n",
    "$$\n",
    "M(1)_n = \\frac{1}{n}(M(1)_{n-1}*(n-1)+(z_{n}-z_{n-1}-q)^2)\n",
    "$$\n",
    "$$\n",
    "c_n = \\frac{1}{n}(c_{n-1}*(n-1)+|z_{n}-z_{n-1}|)\n",
    "$$\n",
    "$$\n",
    "M(2)_n=\\frac{M(1)_n}{c_n}\n",
    "$$"
   ]
  },
  {
   "cell_type": "markdown",
   "id": "d0f693fd-f5f7-4cf7-8724-5108675ae8d0",
   "metadata": {},
   "source": [
    "## Euclidean Distance - 3D\n",
    "\n",
    "Below is the three dimensional euclidean distance formula. For constructing the three dimensional coordinate space, we will use $latitude$ and $longitude$ of each track update as the $x$ and $y$ axis and $altitude$ as the $z$ axis. \n",
    "\n",
    "$$ d_{n}=||p-q|| = \\sqrt{(lat_{a}-lat_{b})^2+(lon_{a}-lon_{b})^2+(alt_{a}-alt_{b})^2}$$"
   ]
  },
  {
   "cell_type": "markdown",
   "id": "822fa7ce-a356-49e6-bd72-0ef1dd066261",
   "metadata": {},
   "source": [
    "## Curvature\n",
    "\n",
    "Using the three dimensional euclidean distance formula show above, curvature is calculated using the formula shown below where $a$, $b$, and $c$ are the calculated euclidean distances between 3 consecutive track updates (update 1 to 2, update 2 to 3, and update 1 to 3). This curvature formula will be considered a short term measurement of curvature, work is being done to investigate what a longer interval curvature measurement would look like.\n",
    "\n",
    "$$ \n",
    "\\kappa_{n} = cos^{-1}\\frac{a^2-b^2-c^2}{2bc}\n",
    "$$"
   ]
  },
  {
   "cell_type": "markdown",
   "id": "0176ba3c-bd57-472f-bd9e-08d6581e5a54",
   "metadata": {},
   "source": [
    "## Heading\n",
    "\n",
    "$$\n",
    "h_{n} = tan^{-1}(lon_{n-1} - lon_{n}, lat_{n-1} - lat_{n})\n",
    "$$"
   ]
  },
  {
   "cell_type": "markdown",
   "id": "72117336-1c05-4c39-bb73-7a9324b0729a",
   "metadata": {},
   "source": [
    "## Manuverability Score\n",
    "\n",
    "$$\n",
    "\\phi_{n} = \\frac{\\mu_{speed}}{\\sigma_{heading}}\n",
    "$$"
   ]
  },
  {
   "cell_type": "markdown",
   "id": "28fc4991-daa1-4114-b310-59b6a8a24066",
   "metadata": {},
   "source": [
    "### Current Feature List\n",
    "\n",
    "1. Average of speed\n",
    "2. Average of curvature\n",
    "3. Standard Deviation of speed\n",
    "4. Standard Deviation of heading\n",
    "5. Manuverability Score\n",
    "6. M(1) Smoothness of range\n",
    "7. M(1) Smoothness of azimuth\n",
    "8. M(1) Smoothness of elevation\n",
    "9. M(1) Smoothness of speed\n",
    "10. M(1) Smoothness of heading\n",
    "11. M(2) Smoothness of range\n",
    "12. M(2) Smoothness of azimuth\n",
    "13. M(2) Smoothness of elevation\n",
    "14. M(2) Smoothness of speed\n",
    "15. M(2) Smoothness of heading"
   ]
  },
  {
   "cell_type": "markdown",
   "id": "22105c2c-edd6-4f26-a759-e729bd1b7b91",
   "metadata": {},
   "source": [
    "# Feature Downselection"
   ]
  },
  {
   "cell_type": "markdown",
   "id": "daf00cf0-6fdd-411d-94aa-7bcd040e561b",
   "metadata": {},
   "source": [
    "## Import and Process Data"
   ]
  },
  {
   "cell_type": "code",
   "execution_count": 2,
   "id": "495fc8d0-28b6-4cd7-9d13-842bddd6f26c",
   "metadata": {},
   "outputs": [],
   "source": [
    "import matplotlib.pyplot as plt\n",
    "import pandas as pd\n",
    "import numpy as np\n",
    "import itertools\n",
    "import seaborn as sns\n",
    "import uuid\n",
    "import scipy.stats as st"
   ]
  },
  {
   "cell_type": "code",
   "execution_count": null,
   "id": "0d65e1e7-3bea-400f-929d-772d5eadaf57",
   "metadata": {},
   "outputs": [],
   "source": [
    "gps_df = pd.read_csv(\"../data/raw/gps/processedGPSData.csv\")\n",
    "print(list(gps_df.columns))"
   ]
  },
  {
   "cell_type": "code",
   "execution_count": 37,
   "id": "ed713816-8b62-45ef-bbcf-cc787fba7090",
   "metadata": {},
   "outputs": [],
   "source": [
    "usecols = ['UUID', 'Speed', 'Position (lat)', 'Position (lon)', 'Position (alt MSL)', 'Range', 'AZ', 'EL']\n",
    "track_lengths = 20"
   ]
  },
  {
   "cell_type": "code",
   "execution_count": 8,
   "id": "58bc7f95-3c24-4c5a-afcd-c74fe0746175",
   "metadata": {},
   "outputs": [],
   "source": [
    "def chunk_tracks(df,length):\n",
    "    uuids = df[\"UUID\"].unique()\n",
    "    for id in uuids:\n",
    "        n_plots = len(df[df[\"UUID\"] == id])\n",
    "        \n",
    "        if n_plots > length:\n",
    "            new_df = df[df[\"UUID\"] == id]\n",
    "    \n",
    "            identifier = str(uuid.uuid4())\n",
    "            for idx, row in new_df.iterrows():\n",
    "                if idx % length == 0:\n",
    "                    identifier = str(uuid.uuid4())\n",
    "                df.at[idx, \"UUID\"] = identifier"
   ]
  },
  {
   "cell_type": "code",
   "execution_count": null,
   "id": "316e1503-bb4d-4c80-8f0e-0c7501664b38",
   "metadata": {},
   "outputs": [],
   "source": [
    "\n",
    "ecco_df = pd.read_csv(\"../data/raw/crane/ecco.csv\", \n",
    "                      low_memory=False, usecols=usecols)\n",
    "\n",
    "# ecco_df_new = ecco_df.drop(columns=['Name', 'Create Time', 'User Edit Time', 'Type', 'Associated UUID', \n",
    "#                       'Note', 'Source Name', 'Source Class', 'Source LID', 'Combat ID',\n",
    "#                       'Object ID', 'Range To Contact', 'Bearing To Contact', 'Creator',\n",
    "#                       'Editor', 'Origin Position (lat)', 'Origin Position (lon)', \n",
    "#                       'Origin Position (alt MSL)', '2525', 'Radar Cross Section', \n",
    "#                       'Closest Time', 'Course', 'Source ID', 'Closest Distance', \n",
    "#                       'Deleted', 'Deleted Time', 'AIS MMSI', 'AIS IMO', 'AIS Call Sign', \n",
    "#                       'AIS Ship Type', 'AIS Destination', 'AIS ETA', 'Fused', 'Fused Tracks'])\n",
    "\n",
    "ecco_df = ecco_df.dropna(how='any')\n",
    "print(ecco_df)\n",
    "chunk_tracks(ecco_df,track_lengths)"
   ]
  },
  {
   "cell_type": "code",
   "execution_count": 80,
   "id": "7ee3439d-a370-4d1b-a640-bb5685e8f3d7",
   "metadata": {},
   "outputs": [
    {
     "name": "stdout",
     "output_type": "stream",
     "text": [
      "31211\n"
     ]
    }
   ],
   "source": [
    "marked_bird_df = pd.read_csv(\"../data/raw/crane/Marked_Radar_Data_Bird.csv\",\n",
    "                             usecols=usecols)\n",
    "marked_bird_df = marked_bird_df.dropna(how='any')\n",
    "\n",
    "chunk_tracks(marked_bird_df,track_lengths)\n",
    "print(len(marked_bird_df))"
   ]
  },
  {
   "cell_type": "code",
   "execution_count": 85,
   "id": "b70e900a-b0f9-4666-80e3-319ab6f536dd",
   "metadata": {},
   "outputs": [
    {
     "name": "stdout",
     "output_type": "stream",
     "text": [
      "8648\n"
     ]
    }
   ],
   "source": [
    "hostile_df = pd.read_csv(\"../data/raw/crane/NO_INTERP_Hostile_Radar_Data.csv\", \n",
    "                        usecols=usecols)\n",
    "hostile_df = hostile_df.dropna(how='any')\n",
    "\n",
    "chunk_tracks(hostile_df,track_lengths)\n",
    "print(len(hostile_df))\n",
    "# print(list(hostile_df.columns))"
   ]
  },
  {
   "cell_type": "markdown",
   "id": "36df321d-11ca-4689-82a2-ee5489eda352",
   "metadata": {},
   "source": [
    "### Combine marked and ecco dataframes"
   ]
  },
  {
   "cell_type": "code",
   "execution_count": 14,
   "id": "7f3cca12-0661-4475-bccf-ce48ca211b93",
   "metadata": {},
   "outputs": [],
   "source": [
    "combined_bird_df = pd.concat([ecco_df, marked_bird_df], ignore_index=True)"
   ]
  },
  {
   "cell_type": "markdown",
   "id": "c234df4c-f3b4-4ddd-93d6-780c4b42735e",
   "metadata": {},
   "source": [
    "## Feature Calculations"
   ]
  },
  {
   "cell_type": "code",
   "execution_count": 5,
   "id": "45a1df9d-197e-435e-b0c1-c4160bec0fcd",
   "metadata": {},
   "outputs": [],
   "source": [
    "def remove_outliers(column):\n",
    "    Q1 = column.quantile(0.25)\n",
    "    Q3 = column.quantile(0.75)\n",
    "    IQR = Q3 - Q1\n",
    "    outlier_mask = ~((column < (Q1 - 1.5 * IQR)) | (column > (Q3 + 1.5 * IQR)))\n",
    "    return column[outlier_mask]"
   ]
  },
  {
   "cell_type": "code",
   "execution_count": 20,
   "id": "e635e5e1-f5f9-487b-9d47-9537c8336404",
   "metadata": {},
   "outputs": [],
   "source": [
    "def analyze_df(df):\n",
    "    uuid_groups = df.groupby('UUID')\n",
    "    feature_list = ['Average Speed', 'Stan. Dev. Speed', 'Average Heading', 'Stan. Dev. Heading', 'Average Curvature',\n",
    "                   'Maneuverability', 'M1 Range', 'M1 AZ', 'M1 EL',\n",
    "                   'M1 Speed', 'M1 Heading', 'M2 Range', 'M2 AZ', 'M2 EL',\n",
    "                   'M2 Speed', 'M2 Heading']\n",
    "    calc_dict = dict()\n",
    "    calc_dict['UUID'] = []\n",
    "    for feature in feature_list:\n",
    "        calc_dict[feature] = []\n",
    "\n",
    "    for uuid, group in uuid_groups:\n",
    "        calc_dict['UUID'].append(uuid)\n",
    "        mean_speed = np.mean(group['Speed'])\n",
    "        calc_dict['Average Speed'].append(mean_speed)\n",
    "        calc_dict['Stan. Dev. Speed'].append(np.std(group['Speed'], ddof=1))\n",
    "        heading = calculate_heading(df)\n",
    "        group = group.assign(Heading=heading)\n",
    "        calc_dict['Average Heading'].append(group['Heading'].mean())\n",
    "        heading_std = np.std(heading)\n",
    "        calc_dict['Stan. Dev. Heading'].append(np.std(group['Heading'], ddof=1))\n",
    "        calc_dict['Average Curvature'].append(calculate_average_curvature(group))\n",
    "        calc_dict['Maneuverability'].append(mean_speed/heading_std)\n",
    "        for field in ['Speed', 'Range', 'AZ', 'EL', 'Heading']:\n",
    "            calc_dict['M1 ' + field].append(calculate_m1(group, field=field))\n",
    "            calc_dict['M2 ' + field].append(calculate_m2(group, field=field))\n",
    "    return calc_dict\n",
    "        "
   ]
  },
  {
   "cell_type": "code",
   "execution_count": 7,
   "id": "e04d81d1-e54f-499d-994a-fdb413be2a4c",
   "metadata": {},
   "outputs": [],
   "source": [
    "def calculate_heading(df):\n",
    "    # Calculate the differences for Position (lat) and Position (lon)\n",
    "    lat_diff = df[\"Position (lat)\"].diff(-1) \n",
    "    lon_diff = df[\"Position (lon)\"].diff(-1)\n",
    "    \n",
    "    heading = np.arctan2(lat_diff, lon_diff)\n",
    "    \n",
    "    return heading\n",
    "\n",
    "def calculate_average_curvature(df):\n",
    "    # Calculate the differences for Position (lat), Position (lon), and Position (alt MSL)\n",
    "    lat_diff = df[\"Position (lat)\"].diff(-1)\n",
    "    lon_diff = df[\"Position (lon)\"].diff(-1)\n",
    "    # alt_diff = df[\"Position (alt MSL)\"].diff(-1)\n",
    "\n",
    "    # Calculate difference between first time step and second \n",
    "    # a = np.sqrt(lat_diff ** 2 + lon_diff ** 2 + alt_diff ** 2)\n",
    "    a = np.sqrt(lat_diff ** 2 + lon_diff ** 2)\n",
    "\n",
    "    # Calculate difference between first time step and third \n",
    "    lat_diff_2 = df[\"Position (lat)\"].diff(-2)\n",
    "    lon_diff_2 = df[\"Position (lon)\"].diff(-2)\n",
    "    # alt_diff_2 = df[\"Position (alt MSL)\"].diff(-2)\n",
    "    # b = np.sqrt(lat_diff_2 ** 2 + lon_diff_2 ** 2 + alt_diff_2 ** 2)\n",
    "    b = np.sqrt(lat_diff_2 ** 2 + lon_diff_2 ** 2)\n",
    "\n",
    "    # Calculate difference between second time step and third \n",
    "    lat_diff_1_2 = lat_diff.shift(-1).dropna()\n",
    "    lon_diff_1_2 = lon_diff.shift(-1).dropna()\n",
    "    # alt_diff_1_2 = alt_diff.shift(-1).dropna()\n",
    "    # c = np.sqrt(lat_diff_1_2 ** 2 + lon_diff_1_2 ** 2 + alt_diff_1_2 ** 2)\n",
    "    c = np.sqrt(lat_diff_1_2 ** 2 + lon_diff_1_2 ** 2)\n",
    "    \n",
    "    # Calculate curvature\n",
    "    with np.errstate(invalid=\"ignore\"):\n",
    "        numerator = a ** 2 - b ** 2 - c ** 2\n",
    "        denominator = 2 * b * c + 1e-6\n",
    "        # Arccos is throwing errors when it seems like it shouldn't\n",
    "        curvature = np.arccos(numerator / denominator)\n",
    "\n",
    "    # Calculate the average curvature\n",
    "    average_curvature = curvature.mean()\n",
    "\n",
    "    return average_curvature\n",
    "\n",
    "def calculate_m1(df, field):\n",
    "        diff = df[field].diff(1)\n",
    "        q = np.sum(diff) / len(df)\n",
    "        m1 = np.sum((diff - q)**2)/len(df)\n",
    "        return m1\n",
    "    \n",
    "def calculate_m2(df,field):\n",
    "    diff = df[field].diff(1)\n",
    "    q = np.sum(diff) / len(df)\n",
    "    m1 = np.sum((diff - q)**2) / len(df)\n",
    "    c = np.sum(np.abs(diff)) / len(df)\n",
    "    c += 1e-6\n",
    "    m2 = m1/c\n",
    "    return m2\n",
    "\n",
    "def calculate_osc_factor(self, heading):\n",
    "    ###\n",
    "    ### TODO readup on what osc is\n",
    "    ### NOT FINAL\n",
    "    ###\n",
    "    theta = heading.shift(1) - heading\n",
    "\n",
    "    O = theta.copy(deep=True)\n",
    "    O[theta > 0.5] = 1\n",
    "    O[theta < -0.5] = -1\n",
    "    O[abs(theta) <= 0.5] = 0\n",
    "\n",
    "    w = O.copy(deep=True)\n",
    "    osc_number = 1\n",
    "    for i in range(1, O.shape[0] - 1):\n",
    "        w[i] = osc_number"
   ]
  },
  {
   "cell_type": "code",
   "execution_count": 33,
   "id": "1697466b-2e41-4799-b8c7-80d515b935e6",
   "metadata": {},
   "outputs": [],
   "source": [
    "def compare_bird_to_hostile(my_bird_df, hostile_calc_dict, i, my_hostile_df):\n",
    "    my_bird_df['Label'] = 0\n",
    "    my_bird_df['Target'] = \"Bird\"\n",
    "    # print(my_ecco_df)\n",
    "    \n",
    "    combined_df = pd.concat([my_hostile_df, my_bird_df], ignore_index=True)\n",
    "    \n",
    "    for (drone_key, drone_value) in hostile_calc_dict.items():\n",
    "        # print(\"Drone ->   \", drone_key, get_conf_int(.95,drone_value))\n",
    "        # print(\"Bird  ->   \", ecco_key, get_conf_int(.95,ecco_value))\n",
    "        if drone_key != 'UUID':\n",
    "            plot = sns.kdeplot(combined_df, x=drone_key, hue='Target', \n",
    "                               fill=True, alpha=.5, linewidth=0, common_norm=False)\n",
    "            plt.savefig('./plots/' + drone_key + i + \".png\")\n",
    "            plt.close()"
   ]
  },
  {
   "cell_type": "markdown",
   "id": "552ce7fa-6cab-484c-b6e0-2aa3c579660f",
   "metadata": {},
   "source": [
    "## Testing FV Outputs (Standard Demo Test 1)"
   ]
  },
  {
   "cell_type": "code",
   "execution_count": 13,
   "id": "286d136b-036b-4221-9f34-77a7de46e090",
   "metadata": {},
   "outputs": [
    {
     "name": "stdout",
     "output_type": "stream",
     "text": [
      "                                   UUID      Name  \\\n",
      "0  1f647ead-a3e0-40ad-9544-23e860aa2114  RADA-745   \n",
      "1  1f647ead-a3e0-40ad-9544-23e860aa2114  RADA-745   \n",
      "2  1f647ead-a3e0-40ad-9544-23e860aa2114  RADA-745   \n",
      "3  1f647ead-a3e0-40ad-9544-23e860aa2114  RADA-745   \n",
      "4  1f647ead-a3e0-40ad-9544-23e860aa2114  RADA-745   \n",
      "5  1f647ead-a3e0-40ad-9544-23e860aa2114  RADA-745   \n",
      "6  1f647ead-a3e0-40ad-9544-23e860aa2114  RADA-745   \n",
      "7  1f647ead-a3e0-40ad-9544-23e860aa2114  RADA-745   \n",
      "8  1f647ead-a3e0-40ad-9544-23e860aa2114  RADA-745   \n",
      "9  1f647ead-a3e0-40ad-9544-23e860aa2114  RADA-745   \n",
      "\n",
      "                   Create Time                  Update Time  User Edit Time  \\\n",
      "0  2022-06-16T17:52:01.898832Z  2022-06-16T17:54:45.692026Z             NaN   \n",
      "1  2022-06-16T17:52:01.898832Z  2022-06-16T17:54:45.725468Z             NaN   \n",
      "2  2022-06-16T17:52:01.898832Z  2022-06-16T17:54:45.829479Z             NaN   \n",
      "3  2022-06-16T17:52:01.898832Z  2022-06-16T17:54:46.036942Z             NaN   \n",
      "4  2022-06-16T17:52:01.898832Z  2022-06-16T17:54:46.090616Z             NaN   \n",
      "5  2022-06-16T17:52:01.898832Z  2022-06-16T17:54:46.299658Z             NaN   \n",
      "6  2022-06-16T17:52:01.898832Z  2022-06-16T17:54:46.490775Z             NaN   \n",
      "7  2022-06-16T17:52:01.898832Z  2022-06-16T17:54:46.568081Z             NaN   \n",
      "8  2022-06-16T17:52:01.898832Z  2022-06-16T17:54:46.763185Z             NaN   \n",
      "9  2022-06-16T17:52:01.898832Z  2022-06-16T17:54:46.821764Z             NaN   \n",
      "\n",
      "    Type                       Associated UUID  Note  Source Name  \\\n",
      "0  TRACK  00000000-0000-0000-0000-000000000000   NaN  RPS82-90deg   \n",
      "1  TRACK  00000000-0000-0000-0000-000000000000   NaN  RPS82-90deg   \n",
      "2  TRACK  00000000-0000-0000-0000-000000000000   NaN  RPS82-90deg   \n",
      "3  TRACK  00000000-0000-0000-0000-000000000000   NaN  RPS82-90deg   \n",
      "4  TRACK  00000000-0000-0000-0000-000000000000   NaN  RPS82-90deg   \n",
      "5  TRACK  00000000-0000-0000-0000-000000000000   NaN  RPS82-90deg   \n",
      "6  TRACK  00000000-0000-0000-0000-000000000000   NaN  RPS82-90deg   \n",
      "7  TRACK  00000000-0000-0000-0000-000000000000   NaN  RPS82-90deg   \n",
      "8  TRACK  00000000-0000-0000-0000-000000000000   NaN  RPS82-90deg   \n",
      "9  TRACK  00000000-0000-0000-0000-000000000000   NaN  RPS82-90deg   \n",
      "\n",
      "  Source Class  ...  Deleted                 Deleted Time AIS MMSI  AIS IMO  \\\n",
      "0        RADAR  ...     True  2022-06-16T18:00:30.308269Z        0        0   \n",
      "1        RADAR  ...     True  2022-06-16T18:00:30.308269Z        0        0   \n",
      "2        RADAR  ...     True  2022-06-16T18:00:30.308269Z        0        0   \n",
      "3        RADAR  ...     True  2022-06-16T18:00:30.308269Z        0        0   \n",
      "4        RADAR  ...     True  2022-06-16T18:00:30.308269Z        0        0   \n",
      "5        RADAR  ...     True  2022-06-16T18:00:30.308269Z        0        0   \n",
      "6        RADAR  ...     True  2022-06-16T18:00:30.308269Z        0        0   \n",
      "7        RADAR  ...     True  2022-06-16T18:00:30.308269Z        0        0   \n",
      "8        RADAR  ...     True  2022-06-16T18:00:30.308269Z        0        0   \n",
      "9        RADAR  ...     True  2022-06-16T18:00:30.308269Z        0        0   \n",
      "\n",
      "   AIS Call Sign  AIS Ship Type  AIS Destination  AIS ETA  Fused  Fused Tracks  \n",
      "0            NaN            NaN              NaN      NaN  False           NaN  \n",
      "1            NaN            NaN              NaN      NaN  False           NaN  \n",
      "2            NaN            NaN              NaN      NaN  False           NaN  \n",
      "3            NaN            NaN              NaN      NaN  False           NaN  \n",
      "4            NaN            NaN              NaN      NaN  False           NaN  \n",
      "5            NaN            NaN              NaN      NaN  False           NaN  \n",
      "6            NaN            NaN              NaN      NaN  False           NaN  \n",
      "7            NaN            NaN              NaN      NaN  False           NaN  \n",
      "8            NaN            NaN              NaN      NaN  False           NaN  \n",
      "9            NaN            NaN              NaN      NaN  False           NaN  \n",
      "\n",
      "[10 rows x 44 columns]\n"
     ]
    }
   ],
   "source": [
    "test_df = pd.read_csv(\"/Users/echo/Documents/Spring 2024/I2I-II/RADAR-Declutter/data/raw/demo/test01_complete.csv\")\n",
    "# test_df = test_df.dropna(how='any')\n",
    "print(test_df)"
   ]
  },
  {
   "cell_type": "code",
   "execution_count": 17,
   "id": "ccd5f71a-8c6b-49a5-9616-09e280a99faf",
   "metadata": {},
   "outputs": [],
   "source": [
    "test_calc_dict = analyze_df(test_df)"
   ]
  },
  {
   "cell_type": "code",
   "execution_count": 18,
   "id": "6fbde0e9-443d-40d4-95aa-cf5d9896e2c8",
   "metadata": {},
   "outputs": [
    {
     "name": "stdout",
     "output_type": "stream",
     "text": [
      "{'UUID': ['1f647ead-a3e0-40ad-9544-23e860aa2114'], 'Average Speed': [8.4216274262], 'Stan. Dev. Speed': [0.07028936303170855], 'Average Heading': [0.6541221564515648], 'Stan. Dev. Heading': [0.0586710239946709], 'Average Curvature': [1.5713435021490538], 'Maneuverability': [135.33062731235154], 'M1 Range': [0.06905687443464219], 'M1 AZ': [0.0001315589987661405], 'M1 EL': [0.00040506438627699803], 'M1 Speed': [0.000270726501087731], 'M1 Heading': [0.0032156443190653203], 'M2 Range': [0.10910780885241966], 'M2 AZ': [0.005830090166608475], 'M2 EL': [0.044909656663150416], 'M2 Speed': [0.013195280623118179], 'M2 Heading': [0.0759406041130195]}\n"
     ]
    }
   ],
   "source": [
    "print(test_calc_dict)"
   ]
  },
  {
   "cell_type": "markdown",
   "id": "66cc6111-9b54-492f-8d45-ba861482ebbb",
   "metadata": {},
   "source": [
    "### ECCO Radar Analysis"
   ]
  },
  {
   "cell_type": "code",
   "execution_count": 152,
   "id": "695ff061-7687-4ca4-9ad3-abc2dbaf441d",
   "metadata": {},
   "outputs": [
    {
     "name": "stdout",
     "output_type": "stream",
     "text": [
      "     Average Speed  Stan. Dev. Speed  Average Heading  Stan. Dev. Heading  \\\n",
      "0        16.528774          0.668575         1.128481            0.920491   \n",
      "1       138.459991          2.767962        -1.047720            2.949211   \n",
      "2       128.139090         29.895829         0.697512            2.164082   \n",
      "3         6.690936          0.064422        -1.033502            1.340606   \n",
      "4         6.973763          2.127993        -0.486568            2.239727   \n",
      "..             ...               ...              ...                 ...   \n",
      "538     108.912811          0.000000        -2.962573            0.000000   \n",
      "539      17.226019          0.061618        -0.540907            2.583449   \n",
      "540      15.781415          1.936530        -0.842213            2.019863   \n",
      "541      13.184485          3.967167        -1.499070            1.858397   \n",
      "542      12.060273          0.879879         0.905124            2.341309   \n",
      "\n",
      "     Average Curvature  Maneuverability   M1 Range        M1 AZ        M1 EL  \\\n",
      "0             2.095089         8.307263   1.897193     0.000003     0.000752   \n",
      "1             0.000000        69.589161  36.791835     1.632452     0.004177   \n",
      "2             2.943288        64.401937  98.682365  7566.475707  1729.450801   \n",
      "3             1.745507         3.362824   0.143800     0.000080     0.000100   \n",
      "4             2.699589         3.504972   2.839990     0.002370     0.009342   \n",
      "..                 ...              ...        ...          ...          ...   \n",
      "538           0.000000        54.738925   0.000000     0.000000     0.000000   \n",
      "539           2.094680         8.657694   0.387045     0.000222     0.026544   \n",
      "540           3.029144         7.931645  29.331561     0.012623     0.003663   \n",
      "541           1.721825         6.626443   1.277063     0.000438     0.000653   \n",
      "542           2.879350         6.061421   1.428550     0.000143     0.001260   \n",
      "\n",
      "      M1 Speed  M1 Heading  M2 Range       M2 AZ      M2 EL   M2 Speed  \\\n",
      "0     0.014033    0.953583  0.639235    0.000587   0.059996   0.055590   \n",
      "1     1.915404    2.174461  4.289046    0.903452   0.045699   0.978622   \n",
      "2    59.095088    5.064154  5.272621  155.975710  75.004553  10.919931   \n",
      "3     0.000089    2.652046  0.202101    0.005622   0.018159   0.004834   \n",
      "4     0.175917    9.551678  1.982259    0.043494   0.120755   0.633779   \n",
      "..         ...         ...       ...         ...        ...        ...   \n",
      "538   0.000000    0.000000  0.000000    0.000000   0.000000   0.000000   \n",
      "539   0.000666    8.050078  0.341767    0.006106   0.253426   0.024914   \n",
      "540   0.569209   10.416557  5.783356    0.068691   0.044269   0.953156   \n",
      "541   2.302864    8.379064  1.005455    0.015025   0.060921   2.091190   \n",
      "542   0.099962    6.248971  0.577748    0.010424   0.035700   0.394551   \n",
      "\n",
      "     M2 Heading                                  UUID  \n",
      "0      1.334253  006bbe01-8b18-432e-9818-849abbd4151f  \n",
      "1      1.042703  013f906e-f1eb-4d54-b5de-adba50317298  \n",
      "2      3.677436  018f24d2-dc23-4e17-8f52-901e4bff994e  \n",
      "3      2.604762  01b03d63-4211-4e44-a68b-b6e5b6bc80fa  \n",
      "4      3.945672  02234da6-593c-48c6-8057-44d7921c1a89  \n",
      "..          ...                                   ...  \n",
      "538    0.000000  fd4ae7bc-82c4-4c08-b431-a2cffdd00c9f  \n",
      "539    4.155706  fd8d4956-0900-4b14-95ab-1def6c4f4370  \n",
      "540    4.123677  fdb74fd7-b8e5-4a45-8e06-1be74416c5ba  \n",
      "541    3.939289  fe811ab7-5dd2-4ea3-bc2b-add0802df477  \n",
      "542    4.740839  ff5fe3a7-817b-4b60-8c20-80834e5c6203  \n",
      "\n",
      "[543 rows x 17 columns]\n"
     ]
    }
   ],
   "source": [
    "ecco_calc_dict = analyze_df(ecco_df)\n",
    "ecco_calc_df = pd.DataFrame(ecco_calc_dict)\n",
    "ecco_uuids = ecco_calc_df.pop('UUID')\n",
    "# Remove outliers from data before plotting and comparing\n",
    "ecco_df = ecco_df.apply(remove_outliers, axis=0)\n",
    "ecco_calc_df['UUID'] = ecco_uuids\n",
    "ecco_calc_df.fillna(0, inplace=True)\n",
    "\n",
    "my_hostile_df = pd.DataFrame(hostile_calc_dict)\n",
    "hostile_uuids = my_hostile_df.pop('UUID')\n",
    "my_hostile_df = my_hostile_df.apply(remove_outliers, axis=0)\n",
    "my_hostile_df['UUID'] = hostile_uuids\n",
    "my_hostile_df['Label'] = 1\n",
    "my_hostile_df['Target'] = \"Drone\"\n",
    "\n",
    "compare_bird_to_hostile(ecco_calc_df, hostile_calc_dict, '_ecco', my_hostile_df)"
   ]
  },
  {
   "cell_type": "code",
   "execution_count": null,
   "id": "806febd2-f59a-4ef7-b360-65e86bcb50c7",
   "metadata": {},
   "outputs": [],
   "source": [
    "for key, item in ecco_calc_dict.items():\n",
    "    plt.scatter(range(len(item)),item)\n",
    "    plt.title(key)\n",
    "    plt.show()"
   ]
  },
  {
   "cell_type": "code",
   "execution_count": null,
   "id": "151e4851-064f-470b-ba31-72641c2a04b3",
   "metadata": {},
   "outputs": [],
   "source": [
    "plt.figure(figsize=(10,8), dpi =500, constrained_layout=True)\n",
    "# print(np.corrcoef(list(ecco_calc_dict.values())))\n",
    "sns.heatmap(np.corrcoef(list(ecco_calc_dict.values())),annot=True,fmt=\".2f\", linewidth=.5, xticklabels=ecco_calc_dict.keys(), yticklabels=ecco_calc_dict.keys())\n",
    "plt.savefig('ecco_correlation_mat.png')"
   ]
  },
  {
   "cell_type": "code",
   "execution_count": null,
   "id": "e931cf0b-e3c6-48bc-9573-44eb2b093d5e",
   "metadata": {},
   "outputs": [],
   "source": [
    "# print(list(hostile_calc_dict))\n",
    "ecco_reduced = [ecco_calc_dict['Average Speed'], ecco_calc_dict['Stan. Dev. Speed'], ecco_calc_dict['Stan. Dev. Heading'], ecco_calc_dict['Maneuverability']]\n",
    "# print(hostile_reduced)\n",
    "plt.figure(figsize=(4,3), dpi =150, constrained_layout=True)\n",
    "# print(np.corrcoef(list(ecco_calc_dict.values())))\n",
    "sns.heatmap(np.corrcoef(ecco_reduced),annot=True,fmt=\".2f\", linewidth=.5, xticklabels=['Average Speed', 'STD Speed', 'STD Heading', 'Mav Factor'], yticklabels=['Average Speed', 'STD Speed', 'STD Heading', 'Mav Factor'])\n",
    "plt.savefig('ecco_reduced_correlation_mat.png')"
   ]
  },
  {
   "cell_type": "markdown",
   "id": "2e6cf31b-60f1-4635-889d-04f47a01cc3d",
   "metadata": {
    "jp-MarkdownHeadingCollapsed": true
   },
   "source": [
    "### Drone RADAR Analysis"
   ]
  },
  {
   "cell_type": "code",
   "execution_count": 10,
   "id": "54f99739-1da1-49d5-bc12-400089d82c06",
   "metadata": {},
   "outputs": [],
   "source": [
    "hostile_calc_dict = analyze_df(hostile_df)"
   ]
  },
  {
   "cell_type": "code",
   "execution_count": null,
   "id": "e8c58421-b694-4bbc-b79c-cecab15bad71",
   "metadata": {},
   "outputs": [],
   "source": [
    "for key, item in hostile_calc_dict.items():\n",
    "    plt.scatter(range(len(item)),item)\n",
    "    plt.title(key)\n",
    "    plt.show()"
   ]
  },
  {
   "cell_type": "code",
   "execution_count": null,
   "id": "3b58c626-e31e-4a86-b792-558a9f7db3ee",
   "metadata": {},
   "outputs": [],
   "source": [
    "plt.figure(figsize=(10,8), dpi =500, constrained_layout=True)\n",
    "# print(np.corrcoef(list(ecco_calc_dict.values())))\n",
    "sns.heatmap(np.corrcoef(list(hostile_calc_dict.values())),annot=True,fmt=\".2f\", linewidth=.5, xticklabels=hostile_calc_dict.keys(), yticklabels=hostile_calc_dict.keys())\n",
    "plt.savefig('hostile_correlation_mat.png')"
   ]
  },
  {
   "cell_type": "code",
   "execution_count": 44,
   "id": "5d494868-81f1-4e86-8897-b2d4b79d4979",
   "metadata": {},
   "outputs": [],
   "source": [
    "# print(list(hostile_calc_dict))\n",
    "hostile_reduced = [hostile_calc_dict['Average Speed'], hostile_calc_dict['Stan. Dev. Speed'], hostile_calc_dict['Stan. Dev. Heading'], hostile_calc_dict['Maneuverability']]\n",
    "# print(hostile_reduced)"
   ]
  },
  {
   "cell_type": "code",
   "execution_count": null,
   "id": "b2f5a1a2-4dcf-4a52-beff-51cd1dae47c4",
   "metadata": {},
   "outputs": [],
   "source": [
    "plt.figure(figsize=(4,3), dpi =150, constrained_layout=True)\n",
    "# print(np.corrcoef(list(ecco_calc_dict.values())))\n",
    "sns.heatmap(np.corrcoef(hostile_reduced),annot=True,fmt=\".2f\", linewidth=.5, xticklabels=['Average Speed', 'STD Speed', 'STD Heading', 'Mav Factor'], yticklabels=['Average Speed', 'STD Speed', 'STD Heading', 'Mav Factor'])\n",
    "plt.savefig('hostile_reduced_correlation_mat.png')"
   ]
  },
  {
   "cell_type": "markdown",
   "id": "ac920173-77da-442f-80c6-26f127f10dd0",
   "metadata": {
    "jp-MarkdownHeadingCollapsed": true
   },
   "source": [
    "### Combined Bird Data Analysis"
   ]
  },
  {
   "cell_type": "code",
   "execution_count": 23,
   "id": "6da165e5-8d9a-4caf-a510-1cfdb682f473",
   "metadata": {},
   "outputs": [],
   "source": [
    "combined_calc_dict = analyze_df(combined_bird_df)"
   ]
  },
  {
   "cell_type": "markdown",
   "id": "cea2a82d-2566-4c98-8949-4c99b4964d70",
   "metadata": {},
   "source": [
    "### Marked Bird Data Analysis"
   ]
  },
  {
   "cell_type": "code",
   "execution_count": 70,
   "id": "2db35527-db84-45f5-bdfa-63beaaf620fa",
   "metadata": {},
   "outputs": [],
   "source": [
    "marked_calc_dict = analyze_df(marked_bird_df)\n",
    "marked_df = pd.DataFrame(marked_calc_dict)\n",
    "marked_uuids = marked_df.pop('UUID')\n",
    "# Remove outliers from data before plotting and comparing\n",
    "marked_df = marked_df.apply(remove_outliers, axis=0)\n",
    "marked_df['UUID'] = marked_uuids\n",
    "\n",
    "my_hostile_df = pd.DataFrame(hostile_calc_dict)\n",
    "hostile_uuids = my_hostile_df.pop('UUID')\n",
    "my_hostile_df = my_hostile_df.apply(remove_outliers, axis=0)\n",
    "my_hostile_df['UUID'] = hostile_uuids\n",
    "my_hostile_df['Label'] = 1\n",
    "my_hostile_df['Target'] = \"Drone\"\n",
    "\n",
    "compare_bird_to_hostile(marked_df, hostile_calc_dict, '_marked', my_hostile_df)\n",
    "        "
   ]
  },
  {
   "cell_type": "markdown",
   "id": "846f26e7-0306-45d5-85c0-9993db83dd69",
   "metadata": {},
   "source": [
    "### Unmarked LARGE CSV Data Analysis"
   ]
  },
  {
   "cell_type": "code",
   "execution_count": 71,
   "id": "ec18d8d8-404c-4ac1-ab64-c2e3f497b34c",
   "metadata": {},
   "outputs": [],
   "source": [
    "# unmarked_df = pd.read_csv(\"../data/raw/crane/Contacts_20240313.csv\", low_memory=False, usecols=usecols)\n",
    "# Specify chunk size\n",
    "chunk_size = 500000  # Number of rows per chunk\n",
    "my_hostile_df = pd.DataFrame(hostile_calc_dict)\n",
    "my_hostile_df['Label'] = 1\n",
    "my_hostile_df['Target'] = \"Drone\"\n",
    "# Iterate over chunks\n",
    "for i, chunk in enumerate(pd.read_csv(\"../data/raw/crane/Contacts_20240313.csv\", chunksize=chunk_size, usecols=usecols)):\n",
    "    chunk = chunk.dropna(how='any')\n",
    "    chunk_tracks(chunk,track_lengths)\n",
    "    chunk_calc_dict = analyze_df(chunk)\n",
    "    chunk_df = pd.DataFrame(chunk_calc_dict)\n",
    "    chunk_uuids = chunk_df.pop('UUID')\n",
    "    chunk_df = chunk_df.apply(remove_outliers, axis=0)\n",
    "    chunk_df['UUID'] = chunk_uuids\n",
    "    \n",
    "    compare_bird_to_hostile(chunk_df, hostile_calc_dict, '_contacts_'+str(i), my_hostile_df)\n",
    "    "
   ]
  },
  {
   "cell_type": "markdown",
   "id": "eba6d6b6-756b-4801-89f9-db157c0fe889",
   "metadata": {
    "jp-MarkdownHeadingCollapsed": true
   },
   "source": [
    "### Drone GPS Analysis"
   ]
  },
  {
   "cell_type": "code",
   "execution_count": 163,
   "id": "71de44df-b5a3-44b1-8cfe-6f5c9a1f123d",
   "metadata": {},
   "outputs": [],
   "source": [
    "calc_dict = analyze_df(gps_df)"
   ]
  },
  {
   "cell_type": "code",
   "execution_count": null,
   "id": "29f5d801-2997-4703-9676-404044640838",
   "metadata": {},
   "outputs": [],
   "source": [
    "for key, item in calc_dict.items():\n",
    "    plt.scatter(range(len(item)),item)\n",
    "    plt.title(key)\n",
    "    plt.show()"
   ]
  },
  {
   "cell_type": "markdown",
   "id": "b2f99308-445b-4e58-b065-d72238982bd3",
   "metadata": {},
   "source": [
    "#### Correlation Between Proposed Features"
   ]
  },
  {
   "cell_type": "code",
   "execution_count": null,
   "id": "a4d554ac-2101-42a2-aba4-758062949dfb",
   "metadata": {},
   "outputs": [],
   "source": [
    "plt.figure(figsize=(10,8), dpi =500, constrained_layout=True)\n",
    "sns.heatmap(np.corrcoef(list(calc_dict.values())),annot=True,fmt=\".2f\", linewidth=.5, xticklabels=calc_dict.keys(), yticklabels=calc_dict.keys())\n",
    "plt.savefig('correlation_mat.png')"
   ]
  },
  {
   "cell_type": "markdown",
   "id": "c767da0c-6dd1-4ad4-8273-fd606dc5726a",
   "metadata": {},
   "source": [
    "## Comparisons Between Datasets"
   ]
  },
  {
   "cell_type": "markdown",
   "id": "36153e4c-58af-46cf-91ad-b24bf2765bd1",
   "metadata": {},
   "source": [
    "### Drone Artificial Variable\n",
    "\n",
    "The following calculations are creating a new potential feature which would attempt to capture some of the attributes of the standard deviation of the speed from targets. While $\\sigma_{speed}$ on its own does not provide enough disjointness between the drone and bird distributions, potentially combining this feature along with the $\\sigma_{heading}$ might provide a new variable which would provide the model with information regarding $\\sigma_{speed}$ in a method which still captures some distributional disjointness.\n",
    "\n",
    "_Thoughts as of 3/11_: currently have not tested the model performance using this variable but unsure of the real viability for passing this variable in over the original $\\sigma_{speed}$. While $\\sigma_{speed}$ is not itself disjoint, would the model figure out a method to not rely on this variable while still processing information related to it? Would this allow for better generalization as more drone and bird datasets would be involved? Fitting a model to only accurately classify on the datasets generated on the Crane RADAR could potentially lead us to overfit a model for the targets present at that location instead of focusing on solving the larger Man-made vs. Biological classification problem. \n",
    "\n",
    "The correlation matrix below is being used to show that the new artificial variable follows more closely the trend of the original $\\sigma_{speed}$, indicating that it conveys more information relating to $\\sigma_{speed}$ while still benefiting from the disjointness of $\\sigma_{heading}$."
   ]
  },
  {
   "cell_type": "code",
   "execution_count": null,
   "id": "738ee75c-31b0-440d-ba4e-2f47ac341da2",
   "metadata": {},
   "outputs": [],
   "source": [
    "drone_std_speed = np.array(hostile_calc_dict['Stan. Dev. Speed'])\n",
    "bird_std_speed = np.array(ecco_calc_dict['Stan. Dev. Speed'])\n",
    "drone_std_head = np.array(hostile_calc_dict['Stan. Dev. Heading'])\n",
    "bird_std_head = np.array(ecco_calc_dict['Stan. Dev. Heading'])\n",
    "drone_arti = np.log(drone_std_speed) * drone_std_head\n",
    "bird_arti = np.log(bird_std_speed) * bird_std_head\n",
    "# drone_arti = np.sqrt(drone_std_speed) * np.log(drone_std_head)\n",
    "# bird_arti = np.sqrt(bird_std_speed) * np.log(bird_std_head)\n",
    "sns.kdeplot({\"Drone\":drone_arti, \"Bird\":bird_arti}, fill=True, alpha=.5, linewidth=0)"
   ]
  },
  {
   "cell_type": "code",
   "execution_count": null,
   "id": "64b2a5a9-4d81-4b41-bc82-97d858f70ba2",
   "metadata": {},
   "outputs": [],
   "source": [
    "sns.heatmap(np.corrcoef([drone_arti, drone_std_head, drone_std_speed]),annot=True,fmt=\".2f\", linewidth=.5, xticklabels=[\"Artificial Variable\", \"STD Heading\", \"STD Speed\"], yticklabels=[\"Artificial Variable\", \"STD Heading\", \"STD Speed\"])\n",
    "# TODO Add in bird correlation to this chart"
   ]
  },
  {
   "cell_type": "code",
   "execution_count": null,
   "id": "f979127a-3324-4fa7-8224-e90f4ad66281",
   "metadata": {},
   "outputs": [],
   "source": [
    "ecco_m1 = ecco_calc_dict['M1 Speed']\n",
    "drone_m1 = hostile_calc_dict['M1 Speed']\n",
    "print(min(ecco_calc_dict['M1 Speed']))\n",
    "print(max(ecco_calc_dict['M1 Speed']))\n",
    "print(min(hostile_calc_dict['M1 Speed']))\n",
    "print(max(hostile_calc_dict['M1 Speed']))\n",
    "m1_ecco_conf = st.t.interval(confidence=0.90, df=len(ecco_m1)-1, \n",
    "                  loc=np.mean(ecco_m1), \n",
    "                  scale=st.sem(ecco_m1)) \n",
    "sns.kdeplot({\"Drone\":np.log(np.array(hostile_calc_dict['M1 Speed'])), \"Bird\":np.log(np.array(ecco_calc_dict['Stan. Dev. Speed']))}, fill=True, alpha=.5, linewidth=0)\n"
   ]
  },
  {
   "cell_type": "code",
   "execution_count": null,
   "id": "c6049d1a-40e0-4173-8c3a-a177bb57187b",
   "metadata": {},
   "outputs": [],
   "source": [
    "\n",
    "sns.heatmap(np.corrcoef([np.array(hostile_calc_dict['M1 Speed']), drone_std_speed]),annot=True,fmt=\".2f\", linewidth=.5, xticklabels=['M1 Speed', \"STD Speed\"], yticklabels=['M1 Speed', \"STD Speed\"])\n"
   ]
  },
  {
   "cell_type": "markdown",
   "id": "654c1ced-833c-4c69-80a1-2d0d34df0dc6",
   "metadata": {},
   "source": [
    "### Distribution Visualization\n",
    "\n",
    "Below are histogram comparisons between the distributions of the drone and bird datasets for all of the original feature vectors specified in section (1). These graphs are used for initial downselection of variables. Ideal candidate vectors for testing the model are variables which show high amounts of disjointness to their opposite class counterpart and which previously showed little correlation to other variables being considered for a given vector.\n",
    "\n",
    "_Thoughts as of 3/11_: Ideal candidates at this stage appear to be $\\sigma_{heading}$, M1 or M2 Range, M1 or M2 Heading, M1 or M2 Azimuth, and M1 or M2 EL. The artificial variable could also be useful but currently concerned of the impact it might have on the accuracy of the classifier."
   ]
  },
  {
   "cell_type": "code",
   "execution_count": 18,
   "id": "9cc08097-0b44-474a-b46d-738e3f542e02",
   "metadata": {},
   "outputs": [],
   "source": [
    "def get_conf_int(conf_lvl, sample_set):\n",
    "    return st.t.interval(confidence=conf_lvl, df=len(sample_set)-1, \n",
    "                  loc=np.mean(sample_set), \n",
    "                  scale=st.sem(sample_set)) "
   ]
  },
  {
   "cell_type": "code",
   "execution_count": 17,
   "id": "c5625ef9-ebd1-4f24-9795-d91f62a3a49f",
   "metadata": {},
   "outputs": [],
   "source": [
    "my_hostile_df = pd.DataFrame(hostile_calc_dict)\n",
    "my_hostile_df['Label'] = 1\n",
    "my_hostile_df['Target'] = \"Drone\"\n",
    "# print(my_hostile_df)\n",
    "\n",
    "my_bird_df = pd.DataFrame(marked_calc_dict)\n",
    "my_bird_df['Label'] = 0\n",
    "my_bird_df['Target'] = \"Bird\"\n",
    "# print(my_ecco_df)\n",
    "\n",
    "combined_df = pd.concat([my_hostile_df, my_bird_df], ignore_index=True)"
   ]
  },
  {
   "cell_type": "code",
   "execution_count": null,
   "id": "2a14ba3f-5add-4410-850d-ba8b9681643b",
   "metadata": {},
   "outputs": [],
   "source": [
    "for (drone_key, drone_value), (ecco_key, ecco_value) in zip(hostile_calc_dict.items(), marked_calc_dict.items()):\n",
    "    # print(\"Drone ->   \", drone_key, get_conf_int(.95,drone_value))\n",
    "    # print(\"Bird  ->   \", ecco_key, get_conf_int(.95,ecco_value))\n",
    "    if drone_key != 'UUID':\n",
    "        plot = sns.displot(combined_df, x=drone_key, hue='Target', fill=True, alpha=.5, linewidth=0)\n",
    "        plt.savefig(drone_key + \".png\")"
   ]
  },
  {
   "cell_type": "markdown",
   "id": "1d692f6b-7956-47e7-b80a-f4745fdf5338",
   "metadata": {},
   "source": [
    "# Train Classifier\n",
    "\n",
    "_Thoughts as of 3/11_: From initial 2 test feature vectors {$\\sigma_{heading}$, M2 Range, M2 AZ, M2 EL} and {M2 Range, M2 AZ, M2 EL}, classifier performance is extremely high. F1 for set 1 (not depicted below) was .99 and the model weighted $\\sigma_{heading}$ low on its importance. While it is nice to see high accuracy, my initial reaction is concerns of over fitting, potentially from feature selection or from a poor methodology for track selection. While we know that the testing and training datasets to not overlap in the chunked tracks, these shorter tracks are still being artificially generated from longer tracks which has me suspicious that the testing and training datasets can't be assumed independent. "
   ]
  },
  {
   "cell_type": "code",
   "execution_count": 171,
   "id": "5cc84d85-187a-4ffb-a231-05f07b6a0281",
   "metadata": {},
   "outputs": [],
   "source": [
    "import pickle\n",
    "\n",
    "from sklearn import metrics, tree\n",
    "from sklearn.ensemble import RandomForestClassifier\n",
    "from sklearn.model_selection import train_test_split"
   ]
  },
  {
   "cell_type": "markdown",
   "id": "e2e77526-51d4-4673-b76d-b87e36252051",
   "metadata": {},
   "source": [
    "## Separate Drone Testing and Training Datasets"
   ]
  },
  {
   "cell_type": "code",
   "execution_count": 165,
   "id": "57153634-1de0-48d2-b806-505b06b0f3b8",
   "metadata": {},
   "outputs": [],
   "source": [
    "hostile_X = pd.DataFrame(\n",
    "    {\n",
    "        # 'M2 Heading': hostile_calc_dict['M2 Heading'],\n",
    "        'M2 Range': hostile_calc_dict['M2 Range'],\n",
    "        'M2 AZ': hostile_calc_dict['M2 AZ'],\n",
    "        'M2 EL': hostile_calc_dict['M2 EL'],\n",
    "    }\n",
    ")\n",
    "\n",
    "hostile_Y = pd.DataFrame(my_hostile_df['Label'])\n",
    "# print(hostile_X)\n",
    "# print(hostile_Y)\n",
    "\n",
    "X_hostile_train, X_hostile_test, Y_hostile_train, Y_hostile_test = train_test_split(hostile_X, hostile_Y, test_size=0.3)\n",
    "# print(X_hostile_test)\n",
    "# print(Y_hostile_test)"
   ]
  },
  {
   "cell_type": "markdown",
   "id": "cfdc64b6-bd20-46dd-9b5e-ba48d81be820",
   "metadata": {},
   "source": [
    "## Separate Bird Testing and Training Datasets"
   ]
  },
  {
   "cell_type": "code",
   "execution_count": 166,
   "id": "2d654b6d-ffa2-4c6e-a8ba-05314f1c5a24",
   "metadata": {},
   "outputs": [],
   "source": [
    "ecco_X = pd.DataFrame(\n",
    "    {\n",
    "        # 'M2 Heading': ecco_calc_dict['M2 Heading'],\n",
    "        'M2 Range': ecco_calc_dict['M2 Range'],\n",
    "        'M2 AZ': ecco_calc_dict['M2 AZ'],\n",
    "        'M2 EL': ecco_calc_dict['M2 EL'],\n",
    "    }\n",
    ")\n",
    "\n",
    "ecco_Y = pd.DataFrame(my_ecco_df['Label'])\n",
    "# print(ecco_X)\n",
    "# print(ecco_Y)\n",
    "\n",
    "X_ecco_train, X_ecco_test, Y_ecco_train, Y_ecco_test = train_test_split(ecco_X, ecco_Y, test_size=0.3)\n",
    "# print(X_ecco_train)\n",
    "# print(Y_ecco_train)"
   ]
  },
  {
   "cell_type": "code",
   "execution_count": 179,
   "id": "a3f0cc33-f5e1-41fc-846a-f8d5c6f3cf4a",
   "metadata": {},
   "outputs": [],
   "source": [
    "X_train = pd.concat([X_ecco_train, X_hostile_train], ignore_index=True)\n",
    "Y_train = np.ravel(pd.concat([Y_ecco_train, Y_hostile_train], ignore_index=True))\n",
    "X_test = pd.concat([X_ecco_test, X_hostile_test], ignore_index=True)\n",
    "Y_test = np.ravel(pd.concat([Y_ecco_test, Y_hostile_test], ignore_index=True))\n",
    "# print(X_test)\n",
    "# print(Y_test)"
   ]
  },
  {
   "cell_type": "code",
   "execution_count": 168,
   "id": "95c0c134-4b58-4325-ad30-870869d6d636",
   "metadata": {},
   "outputs": [],
   "source": [
    "# define the classifier\n",
    "rf = RandomForestClassifier()\n",
    "\n",
    "# fit model on training data\n",
    "rf.fit(X_train, Y_train)\n",
    "\n",
    "# use the trained model to generate predictions\n",
    "rf_pred = rf.predict(X_test)\n",
    "\n",
    "# get the confidence levels of each model\n",
    "rf_confidence_pair = rf.predict_proba(X_test)"
   ]
  },
  {
   "cell_type": "code",
   "execution_count": 169,
   "id": "4b9fd91c-6e2b-49ae-a0a2-f754f53e2fde",
   "metadata": {},
   "outputs": [
    {
     "name": "stdout",
     "output_type": "stream",
     "text": [
      "accuracy = 100.0\n",
      "f1 score = 100.0\n",
      "\n",
      "average confidence level: 0.9957454545454547\n",
      "median confidence level: 1.0\n"
     ]
    }
   ],
   "source": [
    "accuracy = metrics.accuracy_score(Y_test, rf_pred)\n",
    "print(f'accuracy = {100 * accuracy}')\n",
    "\n",
    "accuracy = metrics.f1_score(Y_test, rf_pred)\n",
    "print(f'f1 score = {100 * accuracy}')\n",
    "\n",
    "rf_confidence = [max(pair) for pair in rf_confidence_pair]\n",
    "avg_rf_confidence = np.mean(rf_confidence)\n",
    "med_rf_confidence = np.median(rf_confidence)\n",
    "\n",
    "print(f'\\naverage confidence level: {avg_rf_confidence}')\n",
    "print(f'median confidence level: {med_rf_confidence}')"
   ]
  },
  {
   "cell_type": "code",
   "execution_count": 170,
   "id": "394ed5dd-e2f0-4a3b-8549-746236009601",
   "metadata": {},
   "outputs": [
    {
     "data": {
      "image/png": "[encoded data removed]",
      "text/plain": [
       "<Figure size 640x480 with 1 Axes>"
      ]
     },
     "metadata": {},
     "output_type": "display_data"
    }
   ],
   "source": [
    "importance = rf.feature_importances_\n",
    "\n",
    "forest_importance = pd.Series(importance, index=list(X_train.columns))\n",
    "\n",
    "fig, ax = plt.subplots()\n",
    "forest_importance.plot.bar(ax=ax)\n",
    "ax.set_title(\"Feature importances using MDI\")\n",
    "ax.set_ylabel(\"Mean decrease in impurity\")\n",
    "fig.tight_layout()"
   ]
  },
  {
   "cell_type": "code",
   "execution_count": 172,
   "id": "e5968526-cb06-474c-8dd1-816decc48bb2",
   "metadata": {},
   "outputs": [],
   "source": [
    "filename = '../models/mar11_fv.sav'\n",
    "pickle.dump(rf, open(filename, 'wb'))"
   ]
  }
 ],
 "metadata": {
  "kernelspec": {
   "display_name": "Python 3 (ipykernel)",
   "language": "python",
   "name": "python3"
  },
  "language_info": {
   "codemirror_mode": {
    "name": "ipython",
    "version": 3
   },
   "file_extension": ".py",
   "mimetype": "text/x-python",
   "name": "python",
   "nbconvert_exporter": "python",
   "pygments_lexer": "ipython3",
   "version": "3.12.2"
  }
 },
 "nbformat": 4,
 "nbformat_minor": 5
}
