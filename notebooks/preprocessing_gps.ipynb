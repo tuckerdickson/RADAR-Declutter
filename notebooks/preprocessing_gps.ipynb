{
 "cells": [
  {
   "cell_type": "code",
   "execution_count": 1,
   "id": "initial_id",
   "metadata": {
    "collapsed": true,
    "ExecuteTime": {
     "end_time": "2024-02-08T19:41:27.302570Z",
     "start_time": "2024-02-08T19:41:27.055993Z"
    }
   },
   "outputs": [],
   "source": [
    "import pandas as pd\n",
    "import glob\n",
    "import uuid"
   ]
  },
  {
   "cell_type": "markdown",
   "source": [
    "### Combine Simulated Data (DON'T NEED TO RUN!)\n",
    "Combine all of the simulated csv files (1-21) into a single dataframe."
   ],
   "metadata": {
    "collapsed": false
   },
   "id": "6bdc990bb05df1a"
  },
  {
   "cell_type": "code",
   "outputs": [
    {
     "name": "stdout",
     "output_type": "stream",
     "text": [
      "number of plots: 1708\n",
      "number of UUIDs: 94\n",
      "\tmax track size: 20\n",
      "\tmin track size: 1\n",
      "\tmean track size: 18.170212765957448\n"
     ]
    }
   ],
   "source": [
    "# files = glob.glob(\"../data/raw/simulated/simulatedDroneData*.csv\")\n",
    "# combined_df = pd.DataFrame()\n",
    "# \n",
    "# for file in files:\n",
    "#     df = pd.read_csv(file)\n",
    "#     df[\"UUID\"] = \"None\"\n",
    "#     \n",
    "#     identifier = str(uuid.uuid4())\n",
    "#     for idx, row in df.iterrows():\n",
    "#         if idx % 20 == 0:\n",
    "#             identifier = str(uuid.uuid4())\n",
    "#         df.at[idx, \"UUID\"] = identifier\n",
    "# \n",
    "#     # print(f\"{len(df)}: {len(df[\"UUID\"].unique())}\")\n",
    "#     combined_df = pd.concat([combined_df, df])\n",
    "# \n",
    "# grouped_df = combined_df.groupby(\"UUID\")\n",
    "# print(f\"number of plots: {len(combined_df)}\")\n",
    "# print(f\"number of UUIDs: {len(grouped_df)}\")\n",
    "# \n",
    "# size = grouped_df.size()\n",
    "# print(f\"\\tmax track size: {max(size)}\")\n",
    "# print(f\"\\tmin track size: {min(size)}\")\n",
    "# print(f\"\\tmean track size: {size.mean()}\")"
   ],
   "metadata": {
    "collapsed": false,
    "ExecuteTime": {
     "end_time": "2024-02-08T19:11:55.510932Z",
     "start_time": "2024-02-08T19:11:55.453753Z"
    }
   },
   "id": "b9400f3444ee32a1",
   "execution_count": 27
  },
  {
   "cell_type": "markdown",
   "source": [
    "### Save Combined Dataframe (DON'T NEED TO RUN!)"
   ],
   "metadata": {
    "collapsed": false
   },
   "id": "95abea664040e58d"
  },
  {
   "cell_type": "code",
   "outputs": [],
   "source": [
    "# combined_df.to_csv(\"../data/raw/simulated/combinedSimulatedData.csv\", index=False)"
   ],
   "metadata": {
    "collapsed": false,
    "ExecuteTime": {
     "end_time": "2024-02-08T19:13:23.736314Z",
     "start_time": "2024-02-08T19:13:23.717125Z"
    }
   },
   "id": "ea463e5aa3276ca1",
   "execution_count": 28
  },
  {
   "cell_type": "markdown",
   "source": [
    "### Read ECCO, Simulated, and GPS Data"
   ],
   "metadata": {
    "collapsed": false
   },
   "id": "8aedfc5411035a21"
  },
  {
   "cell_type": "code",
   "outputs": [
    {
     "name": "stdout",
     "output_type": "stream",
     "text": [
      "GPS: Index(['UpdateTime', 'Position_lat_', 'Position_lon_', 'Position_altMSL_',\n",
      "       'Speed', 'UUID', 'Range', 'AZ', 'EL', 'RadialVelocity'],\n",
      "      dtype='object')\n",
      "SIMU: Index(['UpdateTime', 'AZ', 'EL', 'Range', 'Position_lat_', 'Position_lon_',\n",
      "       'Position_altMSL_', 'Speed', 'RadialVelocity', 'UUID'],\n",
      "      dtype='object')\n",
      "ECCO: Index(['UUID', 'Name', 'Create Time', 'Update Time', 'User Edit Time', 'Type',\n",
      "       'Associated UUID', 'Note', 'Source Name', 'Source Class', 'Source LID',\n",
      "       'Combat ID', 'Object ID', 'Range To Contact', 'Bearing To Contact',\n",
      "       'Creator', 'Editor', 'AZ', 'EL', 'Range', 'Position (lat)',\n",
      "       'Position (lon)', 'Position (alt MSL)', 'Origin Position (lat)',\n",
      "       'Origin Position (lon)', 'Origin Position (alt MSL)', '2525', 'Speed',\n",
      "       'Radar Cross Section', 'Closest Time', 'Course', 'Source ID',\n",
      "       'Radial Velocity', 'Closest Distance', 'Deleted', 'Deleted Time',\n",
      "       'AIS MMSI', 'AIS IMO', 'AIS Call Sign', 'AIS Ship Type',\n",
      "       'AIS Destination', 'AIS ETA', 'Fused', 'Fused Tracks'],\n",
      "      dtype='object')\n"
     ]
    },
    {
     "name": "stderr",
     "output_type": "stream",
     "text": [
      "/var/folders/sx/0gyr6z3573gdm1mnzzc8vw980000gn/T/ipykernel_64790/924411033.py:7: DtypeWarning: Columns (0,1,2,3,4,5,6,8,9,11,12,26,34,35,42,43) have mixed types. Specify dtype option on import or set low_memory=False.\n",
      "  ecco_df = pd.read_csv(ecco_path)\n"
     ]
    }
   ],
   "source": [
    "gps_path = \"../data/raw/gps/processedGPSData.csv\"\n",
    "simu_path = \"../data/raw/simulated/combinedSimulatedData.csv\"\n",
    "ecco_path = \"../data/raw/crane/ecco.csv\"\n",
    "\n",
    "gps_df = pd.read_csv(gps_path)\n",
    "simu_df = pd.read_csv(simu_path)\n",
    "ecco_df = pd.read_csv(ecco_path)\n",
    "\n",
    "print(f\"GPS: {gps_df.columns}\")\n",
    "print(f\"SIMU: {simu_df.columns}\")\n",
    "print(f\"ECCO: {ecco_df.columns}\")"
   ],
   "metadata": {
    "collapsed": false,
    "ExecuteTime": {
     "end_time": "2024-02-08T19:41:40.086050Z",
     "start_time": "2024-02-08T19:41:40.019849Z"
    }
   },
   "id": "9d2b568bee301482",
   "execution_count": 2
  },
  {
   "cell_type": "markdown",
   "source": [
    "### Analyze Tracks in Each File"
   ],
   "metadata": {
    "collapsed": false
   },
   "id": "77ed353768fa179e"
  },
  {
   "cell_type": "code",
   "outputs": [
    {
     "name": "stdout",
     "output_type": "stream",
     "text": [
      "* ============================== GPS ============================== *\n",
      "number of plots: 5365\n",
      "number of UUIDs: 255\n",
      "\tmax track size: 38\n",
      "\tmin track size: 20\n",
      "\tmean track size: 21.03921568627451\n",
      "* ============================== SIMULATED ============================== *\n",
      "number of plots: 1708\n",
      "number of UUIDs: 94\n",
      "\tmax track size: 20\n",
      "\tmin track size: 1\n",
      "\tmean track size: 18.170212765957448\n",
      "* ============================== ECCO ============================== *\n",
      "number of plots: 17587\n",
      "number of UUIDs: 84\n",
      "\tmax track size: 1017\n",
      "\tmin track size: 2\n",
      "\tmean track size: 113.72619047619048\n"
     ]
    }
   ],
   "source": [
    "for df, name in [(gps_df, \"GPS\"), (simu_df, \"SIMULATED\"), (ecco_df, \"ECCO\")]:\n",
    "    print(f\"* ============================== {name} ============================== *\")\n",
    "    \n",
    "    grouped_df = df.groupby(\"UUID\")\n",
    "    print(f\"number of plots: {len(df)}\")\n",
    "    print(f\"number of UUIDs: {len(grouped_df)}\")\n",
    "    \n",
    "    size = grouped_df.size()\n",
    "    print(f\"\\tmax track size: {max(size)}\")\n",
    "    print(f\"\\tmin track size: {min(size)}\")\n",
    "    print(f\"\\tmean track size: {size.mean()}\")\n"
   ],
   "metadata": {
    "collapsed": false,
    "ExecuteTime": {
     "end_time": "2024-02-08T19:41:43.353538Z",
     "start_time": "2024-02-08T19:41:43.342825Z"
    }
   },
   "id": "24f1a178d1dac410",
   "execution_count": 3
  },
  {
   "cell_type": "markdown",
   "source": [
    "### Break ECCO Tracks Down"
   ],
   "metadata": {
    "collapsed": false
   },
   "id": "1d92615954970f1c"
  },
  {
   "cell_type": "code",
   "outputs": [],
   "source": [
    "ecco_uuids = ecco_df[\"UUID\"].unique()\n",
    "for ecco_uuid in ecco_uuids:\n",
    "    n_plots = len(ecco_df[ecco_df[\"UUID\"] == ecco_uuid])\n",
    "    \n",
    "    if n_plots > 20:\n",
    "        df = ecco_df[ecco_df[\"UUID\"] == ecco_uuid]\n",
    "\n",
    "        identifier = str(uuid.uuid4())\n",
    "        for idx, row in ecco_df.iterrows():\n",
    "            if idx % 20 == 0:\n",
    "                identifier = str(uuid.uuid4())\n",
    "            ecco_df.at[idx, \"UUID\"] = identifier\n"
   ],
   "metadata": {
    "collapsed": false,
    "ExecuteTime": {
     "end_time": "2024-02-08T19:44:17.864649Z",
     "start_time": "2024-02-08T19:44:17.490323Z"
    }
   },
   "id": "c20e0b0e7a5684ae",
   "execution_count": 7
  },
  {
   "cell_type": "code",
   "outputs": [
    {
     "name": "stdout",
     "output_type": "stream",
     "text": [
      "* ============================== ECCO ============================== *\n",
      "number of plots: 17587\n",
      "number of UUIDs: 880\n",
      "\tmax track size: 20\n",
      "\tmin track size: 7\n",
      "\tmean track size: 19.985227272727272\n"
     ]
    }
   ],
   "source": [
    "print(f\"* ============================== ECCO ============================== *\")\n",
    "\n",
    "grouped_ecco = ecco_df.groupby(\"UUID\")\n",
    "print(f\"number of plots: {len(ecco_df)}\")\n",
    "print(f\"number of UUIDs: {len(grouped_ecco)}\")\n",
    "\n",
    "size = grouped_ecco.size()\n",
    "print(f\"\\tmax track size: {max(size)}\")\n",
    "print(f\"\\tmin track size: {min(size)}\")\n",
    "print(f\"\\tmean track size: {size.mean()}\")"
   ],
   "metadata": {
    "collapsed": false,
    "ExecuteTime": {
     "end_time": "2024-02-08T19:44:19.935230Z",
     "start_time": "2024-02-08T19:44:19.923359Z"
    }
   },
   "id": "1c9c796f9cdbc5a9",
   "execution_count": 8
  },
  {
   "cell_type": "code",
   "outputs": [],
   "source": [],
   "metadata": {
    "collapsed": false
   },
   "id": "6cc5abbfaba8bb5b"
  }
 ],
 "metadata": {
  "kernelspec": {
   "display_name": "Python 3",
   "language": "python",
   "name": "python3"
  },
  "language_info": {
   "codemirror_mode": {
    "name": "ipython",
    "version": 2
   },
   "file_extension": ".py",
   "mimetype": "text/x-python",
   "name": "python",
   "nbconvert_exporter": "python",
   "pygments_lexer": "ipython2",
   "version": "2.7.6"
  }
 },
 "nbformat": 4,
 "nbformat_minor": 5
}
