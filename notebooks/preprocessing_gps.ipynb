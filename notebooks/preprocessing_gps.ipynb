{
 "cells": [
  {
   "cell_type": "code",
   "execution_count": 41,
   "id": "initial_id",
   "metadata": {
    "collapsed": true,
    "ExecuteTime": {
     "end_time": "2024-02-09T15:55:09.853998Z",
     "start_time": "2024-02-09T15:55:09.848218Z"
    }
   },
   "outputs": [],
   "source": [
    "import pickle\n",
    "import uuid\n",
    "\n",
    "import numpy as np\n",
    "import pandas as pd\n",
    "\n",
    "from sklearn import metrics\n",
    "from sklearn.ensemble import RandomForestClassifier\n",
    "from sklearn.model_selection import train_test_split"
   ]
  },
  {
   "cell_type": "markdown",
   "source": [
    "### Combine Simulated Data (DON'T NEED TO RUN!)\n",
    "Combine all the simulated csv files (1-21) into a single dataframe."
   ],
   "metadata": {
    "collapsed": false
   },
   "id": "6bdc990bb05df1a"
  },
  {
   "cell_type": "code",
   "outputs": [],
   "source": [
    "# import glob\n",
    "# files = glob.glob(\"../data/raw/simulated/simulatedDroneData*.csv\")\n",
    "# combined_df = pd.DataFrame()\n",
    "# \n",
    "# for file in files:\n",
    "#     df = pd.read_csv(file)\n",
    "#     df[\"UUID\"] = \"None\"\n",
    "#     \n",
    "#     identifier = str(uuid.uuid4())\n",
    "#     for idx, row in df.iterrows():\n",
    "#         if idx % 20 == 0:\n",
    "#             identifier = str(uuid.uuid4())\n",
    "#         df.at[idx, \"UUID\"] = identifier\n",
    "# \n",
    "#     # print(f\"{len(df)}: {len(df[\"UUID\"].unique())}\")\n",
    "#     combined_df = pd.concat([combined_df, df])\n",
    "# \n",
    "# grouped_df = combined_df.groupby(\"UUID\")\n",
    "# print(f\"number of plots: {len(combined_df)}\")\n",
    "# print(f\"number of UUIDs: {len(grouped_df)}\")\n",
    "# \n",
    "# size = grouped_df.size()\n",
    "# print(f\"\\tmax track size: {max(size)}\")\n",
    "# print(f\"\\tmin track size: {min(size)}\")\n",
    "# print(f\"\\tmean track size: {size.mean()}\")"
   ],
   "metadata": {
    "collapsed": false,
    "ExecuteTime": {
     "end_time": "2024-02-09T15:04:22.599230Z",
     "start_time": "2024-02-09T15:04:22.594928Z"
    }
   },
   "id": "b9400f3444ee32a1",
   "execution_count": 2
  },
  {
   "cell_type": "markdown",
   "source": [
    "### Save Combined Dataframe (DON'T NEED TO RUN!)"
   ],
   "metadata": {
    "collapsed": false
   },
   "id": "95abea664040e58d"
  },
  {
   "cell_type": "code",
   "outputs": [],
   "source": [
    "# combined_df.to_csv(\"../data/raw/simulated/combinedSimulatedData.csv\", index=False)"
   ],
   "metadata": {
    "collapsed": false,
    "ExecuteTime": {
     "end_time": "2024-02-09T15:04:24.060361Z",
     "start_time": "2024-02-09T15:04:24.058145Z"
    }
   },
   "id": "ea463e5aa3276ca1",
   "execution_count": 3
  },
  {
   "cell_type": "markdown",
   "source": [
    "### Read ECCO, Simulated, and GPS Data"
   ],
   "metadata": {
    "collapsed": false
   },
   "id": "8aedfc5411035a21"
  },
  {
   "cell_type": "code",
   "outputs": [
    {
     "name": "stdout",
     "output_type": "stream",
     "text": [
      "GPS: Index(['UpdateTime', 'Position_lat_', 'Position_lon_', 'Position_altMSL_',\n",
      "       'Speed', 'UUID', 'Range', 'AZ', 'EL', 'RadialVelocity'],\n",
      "      dtype='object')\n",
      "SIMU: Index(['UpdateTime', 'AZ', 'EL', 'Range', 'Position_lat_', 'Position_lon_',\n",
      "       'Position_altMSL_', 'Speed', 'RadialVelocity', 'UUID'],\n",
      "      dtype='object')\n",
      "ECCO: Index(['UUID', 'Name', 'Create Time', 'Update Time', 'User Edit Time', 'Type',\n",
      "       'Associated UUID', 'Note', 'Source Name', 'Source Class', 'Source LID',\n",
      "       'Combat ID', 'Object ID', 'Range To Contact', 'Bearing To Contact',\n",
      "       'Creator', 'Editor', 'AZ', 'EL', 'Range', 'Position (lat)',\n",
      "       'Position (lon)', 'Position (alt MSL)', 'Origin Position (lat)',\n",
      "       'Origin Position (lon)', 'Origin Position (alt MSL)', '2525', 'Speed',\n",
      "       'Radar Cross Section', 'Closest Time', 'Course', 'Source ID',\n",
      "       'Radial Velocity', 'Closest Distance', 'Deleted', 'Deleted Time',\n",
      "       'AIS MMSI', 'AIS IMO', 'AIS Call Sign', 'AIS Ship Type',\n",
      "       'AIS Destination', 'AIS ETA', 'Fused', 'Fused Tracks'],\n",
      "      dtype='object')\n"
     ]
    },
    {
     "name": "stderr",
     "output_type": "stream",
     "text": [
      "/var/folders/sx/0gyr6z3573gdm1mnzzc8vw980000gn/T/ipykernel_81913/924411033.py:7: DtypeWarning: Columns (0,1,2,3,4,5,6,8,9,11,12,26,34,35,42,43) have mixed types. Specify dtype option on import or set low_memory=False.\n",
      "  ecco_df = pd.read_csv(ecco_path)\n"
     ]
    }
   ],
   "source": [
    "gps_path = \"../data/raw/gps/processedGPSData.csv\"\n",
    "simu_path = \"../data/raw/simulated/combinedSimulatedData.csv\"\n",
    "ecco_path = \"../data/raw/crane/ecco.csv\"\n",
    "\n",
    "gps_df = pd.read_csv(gps_path)\n",
    "simu_df = pd.read_csv(simu_path)\n",
    "ecco_df = pd.read_csv(ecco_path)\n",
    "\n",
    "print(f\"GPS: {gps_df.columns}\")\n",
    "print(f\"SIMU: {simu_df.columns}\")\n",
    "print(f\"ECCO: {ecco_df.columns}\")"
   ],
   "metadata": {
    "collapsed": false,
    "ExecuteTime": {
     "end_time": "2024-02-09T15:04:25.921402Z",
     "start_time": "2024-02-09T15:04:25.856161Z"
    }
   },
   "id": "9d2b568bee301482",
   "execution_count": 4
  },
  {
   "cell_type": "markdown",
   "source": [
    "### Analyze Tracks in Each File"
   ],
   "metadata": {
    "collapsed": false
   },
   "id": "77ed353768fa179e"
  },
  {
   "cell_type": "code",
   "outputs": [
    {
     "name": "stdout",
     "output_type": "stream",
     "text": [
      "* ============================== GPS ============================== *\n",
      "number of plots: 5365\n",
      "number of UUIDs: 255\n",
      "\tmax track size: 38\n",
      "\tmin track size: 20\n",
      "\tmean track size: 21.03921568627451\n",
      "* ============================== SIMULATED ============================== *\n",
      "number of plots: 1708\n",
      "number of UUIDs: 94\n",
      "\tmax track size: 20\n",
      "\tmin track size: 1\n",
      "\tmean track size: 18.170212765957448\n",
      "* ============================== ECCO ============================== *\n",
      "number of plots: 17587\n",
      "number of UUIDs: 84\n",
      "\tmax track size: 1017\n",
      "\tmin track size: 2\n",
      "\tmean track size: 113.72619047619048\n"
     ]
    }
   ],
   "source": [
    "for df, name in [(gps_df, \"GPS\"), (simu_df, \"SIMULATED\"), (ecco_df, \"ECCO\")]:\n",
    "    print(f\"* ============================== {name} ============================== *\")\n",
    "    \n",
    "    grouped_df = df.groupby(\"UUID\")\n",
    "    print(f\"number of plots: {len(df)}\")\n",
    "    print(f\"number of UUIDs: {len(grouped_df)}\")\n",
    "    \n",
    "    size = grouped_df.size()\n",
    "    print(f\"\\tmax track size: {max(size)}\")\n",
    "    print(f\"\\tmin track size: {min(size)}\")\n",
    "    print(f\"\\tmean track size: {size.mean()}\")\n"
   ],
   "metadata": {
    "collapsed": false,
    "ExecuteTime": {
     "end_time": "2024-02-09T15:04:31.381926Z",
     "start_time": "2024-02-09T15:04:31.369553Z"
    }
   },
   "id": "24f1a178d1dac410",
   "execution_count": 5
  },
  {
   "cell_type": "markdown",
   "source": [
    "### Break ECCO Tracks Down"
   ],
   "metadata": {
    "collapsed": false
   },
   "id": "1d92615954970f1c"
  },
  {
   "cell_type": "code",
   "outputs": [],
   "source": [
    "ecco_uuids = ecco_df[\"UUID\"].unique()\n",
    "for ecco_uuid in ecco_uuids:\n",
    "    n_plots = len(ecco_df[ecco_df[\"UUID\"] == ecco_uuid])\n",
    "    \n",
    "    if n_plots > 20:\n",
    "        df = ecco_df[ecco_df[\"UUID\"] == ecco_uuid]\n",
    "\n",
    "        identifier = str(uuid.uuid4())\n",
    "        for idx, row in ecco_df.iterrows():\n",
    "            if idx % 20 == 0:\n",
    "                identifier = str(uuid.uuid4())\n",
    "            ecco_df.at[idx, \"UUID\"] = identifier\n"
   ],
   "metadata": {
    "collapsed": false,
    "ExecuteTime": {
     "end_time": "2024-02-09T15:04:43.593194Z",
     "start_time": "2024-02-09T15:04:43.264559Z"
    }
   },
   "id": "c20e0b0e7a5684ae",
   "execution_count": 6
  },
  {
   "cell_type": "code",
   "outputs": [
    {
     "name": "stdout",
     "output_type": "stream",
     "text": [
      "* ============================== ECCO ============================== *\n",
      "number of plots: 17587\n",
      "number of UUIDs: 880\n",
      "\tmax track size: 20\n",
      "\tmin track size: 7\n",
      "\tmean track size: 19.985227272727272\n"
     ]
    }
   ],
   "source": [
    "print(f\"* ============================== ECCO ============================== *\")\n",
    "\n",
    "grouped_ecco = ecco_df.groupby(\"UUID\")\n",
    "print(f\"number of plots: {len(ecco_df)}\")\n",
    "print(f\"number of UUIDs: {len(grouped_ecco)}\")\n",
    "\n",
    "size = grouped_ecco.size()\n",
    "print(f\"\\tmax track size: {max(size)}\")\n",
    "print(f\"\\tmin track size: {min(size)}\")\n",
    "print(f\"\\tmean track size: {size.mean()}\")"
   ],
   "metadata": {
    "collapsed": false,
    "ExecuteTime": {
     "end_time": "2024-02-09T15:04:45.634199Z",
     "start_time": "2024-02-09T15:04:45.615904Z"
    }
   },
   "id": "1c9c796f9cdbc5a9",
   "execution_count": 7
  },
  {
   "cell_type": "markdown",
   "source": [
    "### Match the Column Names"
   ],
   "metadata": {
    "collapsed": false
   },
   "id": "b4d9a0fb537896"
  },
  {
   "cell_type": "code",
   "outputs": [
    {
     "name": "stdout",
     "output_type": "stream",
     "text": [
      "Index(['UpdateTime', 'AZ', 'EL', 'Range', 'Position_lat_', 'Position_lon_',\n",
      "       'Position_altMSL_', 'Speed', 'RadialVelocity', 'UUID', 'Label'],\n",
      "      dtype='object')\n",
      "Index(['UpdateTime', 'AZ', 'EL', 'Range', 'Position_lat_', 'Position_lon_',\n",
      "       'Position_altMSL_', 'Speed', 'RadialVelocity', 'UUID', 'Label'],\n",
      "      dtype='object')\n",
      "Index(['UpdateTime', 'AZ', 'EL', 'Range', 'Position_lat_', 'Position_lon_',\n",
      "       'Position_altMSL_', 'Speed', 'RadialVelocity', 'UUID', 'Label'],\n",
      "      dtype='object')\n",
      "\n",
      "GPS columns == simulated columns ? True\n",
      "simulated columns == ECCO columns ? True\n"
     ]
    }
   ],
   "source": [
    "ecco_df_new = ecco_df.drop(columns=['Name', 'Create Time', 'User Edit Time', 'Type', 'Associated UUID', \n",
    "                      'Note', 'Source Name', 'Source Class', 'Source LID', 'Combat ID',\n",
    "                      'Object ID', 'Range To Contact', 'Bearing To Contact', 'Creator',\n",
    "                      'Editor', 'Origin Position (lat)', 'Origin Position (lon)', \n",
    "                      'Origin Position (alt MSL)', '2525', 'Radar Cross Section', \n",
    "                      'Closest Time', 'Course', 'Source ID', 'Closest Distance', \n",
    "                      'Deleted', 'Deleted Time', 'AIS MMSI', 'AIS IMO', 'AIS Call Sign', \n",
    "                      'AIS Ship Type', 'AIS Destination', 'AIS ETA', 'Fused', 'Fused Tracks'])\n",
    "\n",
    "ecco_df_new = ecco_df_new.rename(\n",
    "    columns={\n",
    "        'Update Time': 'UpdateTime',\n",
    "        'Position (lat)': 'Position_lat_',\n",
    "        'Position (lon)': 'Position_lon_',\n",
    "        'Position (alt MSL)': 'Position_altMSL_',\n",
    "        'Radial Velocity': 'RadialVelocity'\n",
    "    }, \n",
    "    errors='raise'\n",
    ")\n",
    "\n",
    "ecco_df_new = ecco_df_new.reindex(columns=simu_df.columns)\n",
    "ecco_df_new[\"Label\"] = 0\n",
    "\n",
    "gps_df = gps_df.reindex(columns=simu_df.columns)\n",
    "gps_df[\"Label\"] = 1\n",
    "\n",
    "simu_df[\"Label\"] = 1\n",
    "\n",
    "\n",
    "print(ecco_df_new.columns)\n",
    "print(simu_df.columns)\n",
    "print(gps_df.columns)\n",
    "\n",
    "print(f\"\\nGPS columns == simulated columns ? {all(gps_df.columns == simu_df.columns)}\")\n",
    "print(f\"simulated columns == ECCO columns ? {all(simu_df.columns == ecco_df_new.columns)}\")"
   ],
   "metadata": {
    "collapsed": false,
    "ExecuteTime": {
     "end_time": "2024-02-09T15:04:53.617009Z",
     "start_time": "2024-02-09T15:04:53.611878Z"
    }
   },
   "id": "bf1671a486f7cf6f",
   "execution_count": 8
  },
  {
   "cell_type": "markdown",
   "source": [
    "### Combine DataFrames into One"
   ],
   "metadata": {
    "collapsed": false
   },
   "id": "3b60af76feba533d"
  },
  {
   "cell_type": "code",
   "outputs": [
    {
     "name": "stdout",
     "output_type": "stream",
     "text": [
      "Shape of combined df: (24660, 11)\n",
      "Index(['UpdateTime', 'AZ', 'EL', 'Range', 'Position_lat_', 'Position_lon_',\n",
      "       'Position_altMSL_', 'Speed', 'RadialVelocity', 'UUID', 'Label'],\n",
      "      dtype='object')\n"
     ]
    }
   ],
   "source": [
    "X = pd.concat([gps_df, ecco_df_new, simu_df])\n",
    "print(f\"Shape of combined df: {X.shape}\")\n",
    "print(X.columns)"
   ],
   "metadata": {
    "collapsed": false,
    "ExecuteTime": {
     "end_time": "2024-02-09T15:09:40.172799Z",
     "start_time": "2024-02-09T15:09:40.167984Z"
    }
   },
   "id": "a3ff9230a30cc9af",
   "execution_count": 13
  },
  {
   "cell_type": "markdown",
   "source": [
    "### Functions for Calculating Feature Vectors"
   ],
   "metadata": {
    "collapsed": false
   },
   "id": "d8022dcc0aadc073"
  },
  {
   "cell_type": "code",
   "outputs": [],
   "source": [
    "def calculate_avg_speed(input_df):\n",
    "    return input_df[\"Speed\"].mean()\n",
    "\n",
    "def calculate_std_speed(input_df):\n",
    "    return input_df[\"Speed\"].std()\n",
    "\n",
    "def calculate_heading(input_df):\n",
    "    delta_x = input_df[\"Position_lat_\"] - input_df[\"Position_lat_\"].shift(-1)\n",
    "    delta_y = input_df[\"Position_lon_\"] - input_df[\"Position_lon_\"].shift(-1)   \n",
    "    return np.arctan2(delta_y, delta_x)\n",
    "\n",
    "def calculate_std_heading(input_df):\n",
    "    heading = calculate_heading(input_df)\n",
    "    return np.std(heading)\n",
    "\n",
    "def calculate_osc_factor(input_df):\n",
    "    heading = calculate_heading(input_df)\n",
    "    theta = heading.shift(1) - heading\n",
    "\n",
    "    om = theta.copy(deep=True)\n",
    "    om[theta > 0.5] = 1\n",
    "    om[theta < -0.5] = -1\n",
    "    om[abs(theta) <= 0.5] = 0\n",
    "\n",
    "    w = om.copy(deep=True)\n",
    "    osc_number = 1\n",
    "    for j in range(1, om.shape[0]-1):\n",
    "        w[j] = osc_number    "
   ],
   "metadata": {
    "collapsed": false,
    "ExecuteTime": {
     "end_time": "2024-02-09T15:13:51.525274Z",
     "start_time": "2024-02-09T15:13:51.523764Z"
    }
   },
   "id": "6cc5abbfaba8bb5b",
   "execution_count": 16
  },
  {
   "cell_type": "markdown",
   "source": [
    "### Form Feature Vector DataFrame"
   ],
   "metadata": {
    "collapsed": false
   },
   "id": "ab7d66ac0214b380"
  },
  {
   "cell_type": "code",
   "outputs": [],
   "source": [
    "X_grouped = X.groupby(\"UUID\")\n",
    "\n",
    "avg_speed = calculate_avg_speed(X_grouped)\n",
    "std_speed = calculate_std_speed(X_grouped)\n",
    "std_heading = X_grouped.apply(calculate_std_heading)\n",
    "mav_factor = avg_speed / std_heading\n",
    "\n",
    "X_new = pd.DataFrame({\n",
    "    'avg_speed': avg_speed,\n",
    "    'std_speed': std_speed,\n",
    "    'std_heading': std_heading,\n",
    "    'mav_factor': mav_factor\n",
    "})\n",
    "\n",
    "X_new.replace([np.nan], 0, inplace=True)\n",
    "X_new.replace([np.inf], 99999, inplace=True)\n",
    "X_new.replace([-np.inf], -99999, inplace=True)\n",
    "\n",
    "y_new = X_grouped[\"Label\"].first()"
   ],
   "metadata": {
    "collapsed": false,
    "ExecuteTime": {
     "end_time": "2024-02-09T15:13:54.987460Z",
     "start_time": "2024-02-09T15:13:54.758712Z"
    }
   },
   "id": "39d17a698223cc0a",
   "execution_count": 17
  },
  {
   "cell_type": "code",
   "outputs": [
    {
     "name": "stdout",
     "output_type": "stream",
     "text": [
      "                                      avg_speed  std_speed  std_heading  \\\n",
      "UUID                                                                      \n",
      "00d07c7f-8dac-47ae-a9cc-f3ea57f5a2e0   9.711575   0.863517     2.471271   \n",
      "01099908-45c3-42f7-949f-1c93afc3f177  12.265870   4.068952     1.589727   \n",
      "011b46dc-e066-4e8d-9c8b-79dbc00e7e88  10.691114   4.478470     2.026199   \n",
      "0140484d-dff0-4640-953c-0242e0c17374  11.871439   3.804042     1.641039   \n",
      "014379ca-f34c-4d9d-b0cf-a0fbaed0f528  11.164096   5.810864     1.649139   \n",
      "\n",
      "                                      mav_factor  \n",
      "UUID                                              \n",
      "00d07c7f-8dac-47ae-a9cc-f3ea57f5a2e0    3.929789  \n",
      "01099908-45c3-42f7-949f-1c93afc3f177    7.715710  \n",
      "011b46dc-e066-4e8d-9c8b-79dbc00e7e88    5.276438  \n",
      "0140484d-dff0-4640-953c-0242e0c17374    7.234099  \n",
      "014379ca-f34c-4d9d-b0cf-a0fbaed0f528    6.769652  \n",
      " \n",
      "Label\n",
      "0    880\n",
      "1    349\n",
      "Name: count, dtype: int64\n",
      "\n",
      "Bird labels in y_new == number of bird tracks ? True\n",
      "Drone labels in y_new == number of drone tracks ? True\n",
      "Length of X_new == length of y_new ? True\n"
     ]
    }
   ],
   "source": [
    "print(X_new.head())\n",
    "print(\" \")\n",
    "\n",
    "val_counts = y_new.value_counts()\n",
    "print(val_counts)\n",
    "\n",
    "check1 = val_counts[0] == len(ecco_df_new.groupby(\"UUID\"))\n",
    "print(f\"\\nBird labels in y_new == number of bird tracks ? {check1}\")\n",
    "\n",
    "check2 = val_counts[1] == (len(gps_df.groupby(\"UUID\")) + len(simu_df.groupby(\"UUID\")))\n",
    "print(f\"Drone labels in y_new == number of drone tracks ? {check2}\")\n",
    "\n",
    "check3 = len(X_new) == len(y_new)\n",
    "print(f\"Length of X_new == length of y_new ? {check3}\")"
   ],
   "metadata": {
    "collapsed": false,
    "ExecuteTime": {
     "end_time": "2024-02-09T15:41:58.608764Z",
     "start_time": "2024-02-09T15:41:58.569184Z"
    }
   },
   "id": "3eedef528b192861",
   "execution_count": 34
  },
  {
   "cell_type": "markdown",
   "source": [
    "### Train Model"
   ],
   "metadata": {
    "collapsed": false
   },
   "id": "fed049f45a1dfd90"
  },
  {
   "cell_type": "code",
   "outputs": [],
   "source": [
    "# split the data into distinct training and testing sets\n",
    "X_train, X_test, y_train, y_test = train_test_split(X_new, y_new, test_size=0.2)\n",
    "\n",
    "# define the classifier\n",
    "rf = RandomForestClassifier()\n",
    "\n",
    "# fit model on training data\n",
    "rf.fit(X_train, y_train)\n",
    "\n",
    "# use the trained model to generate predictions\n",
    "rf_pred = rf.predict(X_test)\n",
    "\n",
    "# get the confidence levels of each model\n",
    "rf_confidence_pair = rf.predict_proba(X_test)"
   ],
   "metadata": {
    "collapsed": false,
    "ExecuteTime": {
     "end_time": "2024-02-09T15:45:02.722454Z",
     "start_time": "2024-02-09T15:45:02.634766Z"
    }
   },
   "id": "817b4c730afbb097",
   "execution_count": 36
  },
  {
   "cell_type": "code",
   "outputs": [
    {
     "name": "stdout",
     "output_type": "stream",
     "text": [
      "accuracy = 99.1869918699187\n",
      "f1 score = 98.27586206896551\n",
      "\n",
      "average confidence level: 0.9890243902439025\n",
      "median confidence level: 1.0\n"
     ]
    }
   ],
   "source": [
    "accuracy = metrics.accuracy_score(y_test, rf_pred)\n",
    "print(f'accuracy = {100 * accuracy}')\n",
    "\n",
    "accuracy = metrics.f1_score(y_test, rf_pred)\n",
    "print(f'f1 score = {100 * accuracy}')\n",
    "\n",
    "rf_confidence = [max(pair) for pair in rf_confidence_pair]\n",
    "avg_rf_confidence = np.mean(rf_confidence)\n",
    "med_rf_confidence = np.median(rf_confidence)\n",
    "\n",
    "print(f'\\naverage confidence level: {avg_rf_confidence}')\n",
    "print(f'median confidence level: {med_rf_confidence}')"
   ],
   "metadata": {
    "collapsed": false,
    "ExecuteTime": {
     "end_time": "2024-02-09T15:53:09.058053Z",
     "start_time": "2024-02-09T15:53:09.052791Z"
    }
   },
   "id": "f486f11a5c0ac3aa",
   "execution_count": 40
  },
  {
   "cell_type": "markdown",
   "source": [
    "### Save Model"
   ],
   "metadata": {
    "collapsed": false
   },
   "id": "68ac84b0d787a5b9"
  },
  {
   "cell_type": "code",
   "outputs": [],
   "source": [
    "filename = '../models/feb9_fv.sav'\n",
    "pickle.dump(rf, open(filename, 'wb'))"
   ],
   "metadata": {
    "collapsed": false,
    "ExecuteTime": {
     "end_time": "2024-02-09T15:55:30.542495Z",
     "start_time": "2024-02-09T15:55:30.532590Z"
    }
   },
   "id": "a086ec12abe3839c",
   "execution_count": 42
  },
  {
   "cell_type": "code",
   "outputs": [],
   "source": [],
   "metadata": {
    "collapsed": false
   },
   "id": "ee714645dabbd6fa"
  }
 ],
 "metadata": {
  "kernelspec": {
   "display_name": "Python 3",
   "language": "python",
   "name": "python3"
  },
  "language_info": {
   "codemirror_mode": {
    "name": "ipython",
    "version": 2
   },
   "file_extension": ".py",
   "mimetype": "text/x-python",
   "name": "python",
   "nbconvert_exporter": "python",
   "pygments_lexer": "ipython2",
   "version": "2.7.6"
  }
 },
 "nbformat": 4,
 "nbformat_minor": 5
}
