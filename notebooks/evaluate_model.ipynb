{
 "cells": [
  {
   "cell_type": "markdown",
   "source": [
    "### Constants"
   ],
   "metadata": {
    "collapsed": false
   },
   "id": "4dfe343f073cde62"
  },
  {
   "cell_type": "code",
   "execution_count": 1,
   "id": "initial_id",
   "metadata": {
    "collapsed": true,
    "ExecuteTime": {
     "end_time": "2024-02-25T21:31:52.794828Z",
     "start_time": "2024-02-25T21:31:52.784473Z"
    }
   },
   "outputs": [],
   "source": [
    "MODEL_PATH = \"../models/\"\n",
    "MODEL_FILE = \"feb9_fv.sav\"\n",
    "\n",
    "DATA_PATH = \"../data/combined/\"\n",
    "DATA_FILE = \"drone_05.csv\""
   ]
  },
  {
   "cell_type": "markdown",
   "source": [
    "### Imports"
   ],
   "metadata": {
    "collapsed": false
   },
   "id": "8267df9166c2f46b"
  },
  {
   "cell_type": "code",
   "outputs": [],
   "source": [
    "import pickle\n",
    "\n",
    "import numpy as np\n",
    "import pandas as pd\n",
    "\n",
    "from sklearn import metrics"
   ],
   "metadata": {
    "collapsed": false,
    "ExecuteTime": {
     "end_time": "2024-02-25T21:31:54.490451Z",
     "start_time": "2024-02-25T21:31:53.958890Z"
    }
   },
   "id": "be77ad4a6b8c4615",
   "execution_count": 2
  },
  {
   "cell_type": "markdown",
   "source": [
    "### Load Model and Data"
   ],
   "metadata": {
    "collapsed": false
   },
   "id": "a8b380091849979c"
  },
  {
   "cell_type": "code",
   "outputs": [],
   "source": [
    "model = pickle.load(open(MODEL_PATH + MODEL_FILE, 'rb'))\n",
    "df = pd.read_csv(DATA_PATH + DATA_FILE)"
   ],
   "metadata": {
    "collapsed": false,
    "ExecuteTime": {
     "end_time": "2024-02-25T21:31:54.929936Z",
     "start_time": "2024-02-25T21:31:54.845272Z"
    }
   },
   "id": "b91379260531e46a",
   "execution_count": 3
  },
  {
   "cell_type": "code",
   "outputs": [
    {
     "name": "stdout",
     "output_type": "stream",
     "text": [
      "                    UpdateTime          AZ        EL        Range  \\\n",
      "0  2023-11-16T14:26:05.817105Z  211.255021  6.675638  1005.822650   \n",
      "1  2023-11-16T14:26:06.019511Z  211.089367  6.725823  1006.888739   \n",
      "2  2023-11-16T14:26:06.223488Z  210.960823  6.837486  1007.320185   \n",
      "3  2023-11-16T14:26:06.466126Z  210.813417  6.833537  1007.898584   \n",
      "4  2023-11-16T14:26:06.721300Z  210.688780  6.888130  1008.285913   \n",
      "\n",
      "   Position_lat_  Position_lon_  Position_altMSL_     Speed  RadialVelocity  \\\n",
      "0      38.888565     -86.853370             348.0  6.571984        4.930872   \n",
      "1      38.888544     -86.853347             349.0  6.514283        3.817499   \n",
      "2      38.888532     -86.853326             351.0  7.019407        3.134641   \n",
      "3      38.888516     -86.853304             351.0  7.099360        2.397878   \n",
      "4      38.888503     -86.853284             352.0  7.129374        1.853146   \n",
      "\n",
      "                                   UUID  Label  \n",
      "0  4b713a1c-5978-4d08-8272-27fa6f702c2a      1  \n",
      "1  4b713a1c-5978-4d08-8272-27fa6f702c2a      1  \n",
      "2  4b713a1c-5978-4d08-8272-27fa6f702c2a      1  \n",
      "3  4b713a1c-5978-4d08-8272-27fa6f702c2a      1  \n",
      "4  4b713a1c-5978-4d08-8272-27fa6f702c2a      1  \n"
     ]
    }
   ],
   "source": [
    "df.drop(columns=[\"Unnamed: 0\"], inplace=True)\n",
    "print(df.head())"
   ],
   "metadata": {
    "collapsed": false,
    "ExecuteTime": {
     "end_time": "2024-02-25T21:31:55.818663Z",
     "start_time": "2024-02-25T21:31:55.813588Z"
    }
   },
   "id": "370ea2ac0607a769",
   "execution_count": 4
  },
  {
   "cell_type": "markdown",
   "source": [
    "### Group the Data by UUID"
   ],
   "metadata": {
    "collapsed": false
   },
   "id": "9516007fd0a34e6f"
  },
  {
   "cell_type": "code",
   "outputs": [],
   "source": [
    "df_grouped = df.groupby(\"UUID\")"
   ],
   "metadata": {
    "collapsed": false,
    "ExecuteTime": {
     "end_time": "2024-02-25T21:31:56.983630Z",
     "start_time": "2024-02-25T21:31:56.980277Z"
    }
   },
   "id": "d18d6e1dc5a5f7c9",
   "execution_count": 5
  },
  {
   "cell_type": "code",
   "outputs": [
    {
     "name": "stdout",
     "output_type": "stream",
     "text": [
      "number of plots: 11403\n",
      "number of UUIDs: 2284\n",
      "\tmax track size: 5\n",
      "\tmin track size: 1\n",
      "\tmean track size: 4.992556917688266\n",
      "\n",
      "number of birds: 0\n",
      "number of drones: 2284\n"
     ]
    }
   ],
   "source": [
    "print(f\"number of plots: {len(df)}\")\n",
    "print(f\"number of UUIDs: {len(df_grouped)}\")\n",
    "\n",
    "size = df_grouped.size()\n",
    "print(f\"\\tmax track size: {max(size)}\")\n",
    "print(f\"\\tmin track size: {min(size)}\")\n",
    "print(f\"\\tmean track size: {size.mean()}\")\n",
    "\n",
    "birds = df_grouped.apply(lambda group: all(group[\"Label\"] == 0))\n",
    "print(f\"\\nnumber of birds: {len(birds.index[birds])}\")\n",
    "\n",
    "drones = df_grouped.apply(lambda group: all(group[\"Label\"] == 1))\n",
    "print(f\"number of drones: {len(drones.index[drones])}\")"
   ],
   "metadata": {
    "collapsed": false,
    "ExecuteTime": {
     "end_time": "2024-02-25T21:31:57.543569Z",
     "start_time": "2024-02-25T21:31:57.395819Z"
    }
   },
   "id": "c7d243e5a256feb8",
   "execution_count": 6
  },
  {
   "cell_type": "markdown",
   "source": [
    "### Feature Vector Functions"
   ],
   "metadata": {
    "collapsed": false
   },
   "id": "1a618eca0328dcde"
  },
  {
   "cell_type": "code",
   "outputs": [],
   "source": [
    "def calculate_avg_speed(input_df):\n",
    "    return input_df[\"Speed\"].mean()\n",
    "\n",
    "def calculate_std_speed(input_df):\n",
    "    return input_df[\"Speed\"].std()\n",
    "\n",
    "def calculate_heading(input_df):\n",
    "    delta_x = input_df[\"Position_lat_\"] - input_df[\"Position_lat_\"].shift(-1)\n",
    "    delta_y = input_df[\"Position_lon_\"] - input_df[\"Position_lon_\"].shift(-1)   \n",
    "    return np.arctan2(delta_y, delta_x)\n",
    "\n",
    "def calculate_std_heading(input_df):\n",
    "    heading = calculate_heading(input_df)\n",
    "    return np.std(heading)\n",
    "\n",
    "def calculate_osc_factor(input_df):\n",
    "    heading = calculate_heading(input_df)\n",
    "    theta = heading.shift(1) - heading\n",
    "\n",
    "    om = theta.copy(deep=True)\n",
    "    om[theta > 0.5] = 1\n",
    "    om[theta < -0.5] = -1\n",
    "    om[abs(theta) <= 0.5] = 0\n",
    "\n",
    "    w = om.copy(deep=True)\n",
    "    osc_number = 1\n",
    "    for j in range(1, om.shape[0]-1):\n",
    "        w[j] = osc_number    "
   ],
   "metadata": {
    "collapsed": false,
    "ExecuteTime": {
     "end_time": "2024-02-25T21:32:06.446692Z",
     "start_time": "2024-02-25T21:32:06.444797Z"
    }
   },
   "id": "afeb633072bc411c",
   "execution_count": 7
  },
  {
   "cell_type": "code",
   "outputs": [],
   "source": [
    "avg_speed = calculate_avg_speed(df_grouped)\n",
    "std_speed = calculate_std_speed(df_grouped)\n",
    "std_heading = df_grouped.apply(calculate_std_heading)\n",
    "mav_factor = avg_speed / std_heading\n",
    "\n",
    "model_input = pd.DataFrame({\n",
    "    'avg_speed': avg_speed,\n",
    "    'std_speed': std_speed,\n",
    "    'std_heading': std_heading,\n",
    "    'mav_factor': mav_factor\n",
    "})\n",
    "\n",
    "model_input.replace([np.nan], 0, inplace=True)\n",
    "model_input.replace([np.inf], 99999, inplace=True)\n",
    "model_input.replace([-np.inf], -99999, inplace=True)\n",
    "\n",
    "gt = df_grouped[\"Label\"].first()"
   ],
   "metadata": {
    "collapsed": false,
    "ExecuteTime": {
     "end_time": "2024-02-25T21:32:07.807740Z",
     "start_time": "2024-02-25T21:32:07.312208Z"
    }
   },
   "id": "db8aa3cb1e72626a",
   "execution_count": 8
  },
  {
   "cell_type": "code",
   "outputs": [],
   "source": [
    "# use the model to generate predictions\n",
    "preds = model.predict(model_input)\n",
    "\n",
    "# get the confidence levels of each model\n",
    "confidence_pair = model.predict_proba(model_input)"
   ],
   "metadata": {
    "collapsed": false,
    "ExecuteTime": {
     "end_time": "2024-02-25T21:32:08.457420Z",
     "start_time": "2024-02-25T21:32:08.433654Z"
    }
   },
   "id": "259924fb15b2bc73",
   "execution_count": 9
  },
  {
   "cell_type": "code",
   "outputs": [
    {
     "name": "stdout",
     "output_type": "stream",
     "text": [
      "accuracy = 99.43082311733801\n",
      "f1 score = 99.71459934138309\n",
      "\n",
      "average confidence level: 0.9869264448336251\n",
      "median confidence level: 1.0\n"
     ]
    }
   ],
   "source": [
    "accuracy = metrics.accuracy_score(gt, preds)\n",
    "print(f'accuracy = {100 * accuracy}')\n",
    "\n",
    "accuracy = metrics.f1_score(gt, preds)\n",
    "print(f'f1 score = {100 * accuracy}')\n",
    "\n",
    "rf_confidence = [max(pair) for pair in confidence_pair]\n",
    "avg_rf_confidence = np.mean(rf_confidence)\n",
    "med_rf_confidence = np.median(rf_confidence)\n",
    "\n",
    "print(f'\\naverage confidence level: {avg_rf_confidence}')\n",
    "print(f'median confidence level: {med_rf_confidence}')"
   ],
   "metadata": {
    "collapsed": false,
    "ExecuteTime": {
     "end_time": "2024-02-25T21:32:09.084646Z",
     "start_time": "2024-02-25T21:32:09.076924Z"
    }
   },
   "id": "8a653b050061275b",
   "execution_count": 10
  },
  {
   "cell_type": "code",
   "outputs": [],
   "source": [],
   "metadata": {
    "collapsed": false
   },
   "id": "3411de849f9cb783"
  }
 ],
 "metadata": {
  "kernelspec": {
   "display_name": "Python 3",
   "language": "python",
   "name": "python3"
  },
  "language_info": {
   "codemirror_mode": {
    "name": "ipython",
    "version": 2
   },
   "file_extension": ".py",
   "mimetype": "text/x-python",
   "name": "python",
   "nbconvert_exporter": "python",
   "pygments_lexer": "ipython2",
   "version": "2.7.6"
  }
 },
 "nbformat": 4,
 "nbformat_minor": 5
}
