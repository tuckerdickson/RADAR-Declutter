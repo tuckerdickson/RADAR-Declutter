{
 "cells": [
  {
   "cell_type": "code",
   "execution_count": 10,
   "id": "25f75918-7fd4-484a-9b3b-681fc3843e67",
   "metadata": {},
   "outputs": [],
   "source": [
    "import sys\n",
    "import os\n",
    "sys.path.append('/Users/echo/Documents/Spring 2024/I2I-II/RADAR-Declutter' + '/src/utilities/proto')\n",
    "# sys.path.append(os.getcwd() + '/src/utilities/proto/')\n",
    "\n",
    "import track_pb2"
   ]
  },
  {
   "cell_type": "code",
   "execution_count": 19,
   "id": "5ee965b3-25cd-4e82-9d80-25284b2b9933",
   "metadata": {},
   "outputs": [],
   "source": [
    "tracks = track_pb2.Tracks()"
   ]
  },
  {
   "cell_type": "code",
   "execution_count": 20,
   "id": "cf380142-ab5c-4d87-8276-6d45daee2da4",
   "metadata": {},
   "outputs": [],
   "source": [
    "track_update = tracks.updates.add()\n",
    "track_update.uuid = \"1234-4567-8910\"\n",
    "track_update.range = 1234.5678\n",
    "track_update.position_alt_msl = 3\n",
    "track_update.deleted = True\n",
    "\n",
    "track_update = tracks.updates.add()\n",
    "track_update.uuid = \"4567-8910-1234\"\n",
    "track_update.range = 4.5678\n",
    "track_update.position_alt_msl = 6\n",
    "track_update.deleted = False"
   ]
  },
  {
   "cell_type": "code",
   "execution_count": 21,
   "id": "3d19e4b8-56a2-45f2-8292-b42502398cd0",
   "metadata": {},
   "outputs": [
    {
     "name": "stdout",
     "output_type": "stream",
     "text": [
      "[uuid: \"1234-4567-8910\"\n",
      "range: 1234.56775\n",
      "position_alt_msl: 3\n",
      "deleted: true\n",
      ", uuid: \"4567-8910-1234\"\n",
      "range: 4.5678\n",
      "position_alt_msl: 6\n",
      "deleted: false\n",
      "]\n"
     ]
    }
   ],
   "source": [
    "print(tracks.updates)"
   ]
  },
  {
   "cell_type": "code",
   "execution_count": 22,
   "id": "325248ff-b437-4752-ba8c-d74d01a47fa3",
   "metadata": {},
   "outputs": [],
   "source": [
    "# Write track updates to serialized file\n",
    "try:\n",
    "    with open(\"./proto_output_test.proto_out\", \"rb\") as f:\n",
    "        tracks.ParseFromString(f.read())\n",
    "except IOError:\n",
    "    print(\"./proto_output_test.proto_out Could not open file. Creating a new one.\")\n",
    "\n",
    "with open(\"./proto_output_test.proto_out\", \"wb\") as f:\n",
    "    f.write(tracks.SerializeToString())"
   ]
  },
  {
   "cell_type": "code",
   "execution_count": 24,
   "id": "f73def9b-527b-4ff3-a7c9-7fd1d9f49883",
   "metadata": {},
   "outputs": [
    {
     "name": "stdout",
     "output_type": "stream",
     "text": [
      "1234-4567-8910\n",
      "0.0\n",
      "0\n",
      "False\n",
      "---------------------------------\n",
      "4567-8910-1234\n",
      "0.0\n",
      "0\n",
      "False\n",
      "---------------------------------\n"
     ]
    }
   ],
   "source": [
    "# Read in tracks from the outputted binary file from previous cells\n",
    "new_tracks = track_pb2.Tracks()\n",
    "with open(\"./proto_output_test.proto_out\", \"rb\") as f:\n",
    "    new_tracks.ParseFromString(f.read())\n",
    "for update in new_tracks.updates:\n",
    "    print(update.uuid)\n",
    "    print(update.range)\n",
    "    print(update.position_alt_msl)\n",
    "    print(update.deleted)\n",
    "    print(\"---------------------------------\")"
   ]
  },
  {
   "cell_type": "code",
   "execution_count": null,
   "id": "1b9940a5-cb0a-4e4b-b8b4-5ccd709b21d3",
   "metadata": {},
   "outputs": [],
   "source": []
  }
 ],
 "metadata": {
  "kernelspec": {
   "display_name": "Python 3 (ipykernel)",
   "language": "python",
   "name": "python3"
  },
  "language_info": {
   "codemirror_mode": {
    "name": "ipython",
    "version": 3
   },
   "file_extension": ".py",
   "mimetype": "text/x-python",
   "name": "python",
   "nbconvert_exporter": "python",
   "pygments_lexer": "ipython3",
   "version": "3.12.2"
  }
 },
 "nbformat": 4,
 "nbformat_minor": 5
}
