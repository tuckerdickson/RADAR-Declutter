{
 "cells": [
  {
   "cell_type": "markdown",
   "source": [
    "# NSWC Drone Data Analysis\n",
    "\n",
    "This notebook is intended for the analysis of the drone data provided by NSWC."
   ],
   "metadata": {
    "collapsed": false
   },
   "id": "57df941b1121a072"
  },
  {
   "cell_type": "markdown",
   "source": [
    "### Constants"
   ],
   "metadata": {
    "collapsed": false
   },
   "id": "401f58685e5611f3"
  },
  {
   "cell_type": "code",
   "outputs": [],
   "source": [
    "READ_PATH = \"../data/raw/crane/Marked_Radar_Data.csv\"\n",
    "DRONE_WRITE_PATH = \"../data/raw/crane/Drone_Radar_Data2.csv\"\n",
    "BIRD_WRITE_PATH = \"../data/raw/crane/Marked_Radar_Data_Javon.csv\"\n",
    "\n",
    "DROP_COLS = ['Name', 'Create Time', 'User Edit Time', 'Type', 'Associated UUID', 'Note', 'Source Name', \n",
    "             'Source Class', 'Source LID', 'Object ID','Range To Contact', 'Bearing To Contact', 'Creator', \n",
    "             'Editor', 'Origin Position (lat)', 'Origin Position (lon)', 'Origin Position (alt MSL)', \n",
    "             '2525', 'Radar Cross Section', 'Closest Time', 'Course', 'Source ID', 'Closest Distance', \n",
    "             'Deleted', 'Deleted Time', 'AIS MMSI', 'AIS IMO', 'AIS Call Sign', 'AIS Ship Type', \n",
    "             'AIS Destination', 'AIS ETA', 'Fused', 'Fused Tracks']"
   ],
   "metadata": {
    "collapsed": false,
    "ExecuteTime": {
     "end_time": "2024-03-15T20:13:37.144735Z",
     "start_time": "2024-03-15T20:13:37.142159Z"
    }
   },
   "id": "f6e6c487dec5f9b9",
   "execution_count": 1
  },
  {
   "cell_type": "markdown",
   "source": [
    "### Imports"
   ],
   "metadata": {
    "collapsed": false
   },
   "id": "117bea746bcc9ce9"
  },
  {
   "cell_type": "code",
   "execution_count": 2,
   "id": "initial_id",
   "metadata": {
    "collapsed": true,
    "ExecuteTime": {
     "end_time": "2024-03-15T20:13:38.977622Z",
     "start_time": "2024-03-15T20:13:38.724109Z"
    }
   },
   "outputs": [],
   "source": [
    "import pandas as pd"
   ]
  },
  {
   "cell_type": "markdown",
   "source": [
    "### Helper Functions"
   ],
   "metadata": {
    "collapsed": false
   },
   "id": "5ac552003356f2cb"
  },
  {
   "cell_type": "code",
   "outputs": [],
   "source": [
    "def get_unknown_threat(group):\n",
    "    return all(group[\"Combat ID\"] == \"UNKNOWN_THREAT\")\n",
    "\n",
    "def get_hostile(group):\n",
    "    return any(group[\"Combat ID\"] == \"HOSTILE\")"
   ],
   "metadata": {
    "collapsed": false,
    "ExecuteTime": {
     "end_time": "2024-03-15T20:13:40.004406Z",
     "start_time": "2024-03-15T20:13:40.000984Z"
    }
   },
   "id": "e0bb42bf55bad607",
   "execution_count": 3
  },
  {
   "cell_type": "markdown",
   "source": [
    "### Load the File"
   ],
   "metadata": {
    "collapsed": false
   },
   "id": "282a82cb03f2e209"
  },
  {
   "cell_type": "code",
   "outputs": [
    {
     "name": "stdout",
     "output_type": "stream",
     "text": [
      "                                   UUID    Name                  Create Time  \\\n",
      "0  7f5d87c3-f4e2-4025-8daf-9e9c0c5818dd  RADA-1  2023-11-15T13:41:08.577914Z   \n",
      "1  7f5d87c3-f4e2-4025-8daf-9e9c0c5818dd  RADA-1  2023-11-15T13:41:08.577914Z   \n",
      "2  7f5d87c3-f4e2-4025-8daf-9e9c0c5818dd  RADA-1  2023-11-15T13:41:08.577914Z   \n",
      "3  7f5d87c3-f4e2-4025-8daf-9e9c0c5818dd  RADA-1  2023-11-15T13:41:08.577914Z   \n",
      "4  7f5d87c3-f4e2-4025-8daf-9e9c0c5818dd  RADA-1  2023-11-15T13:41:08.577914Z   \n",
      "\n",
      "                   Update Time User Edit Time   Type  \\\n",
      "0  2023-11-15T13:41:08.577914Z            NaN  TRACK   \n",
      "1  2023-11-15T13:41:08.800179Z            NaN  TRACK   \n",
      "2  2023-11-15T13:41:09.008504Z            NaN  TRACK   \n",
      "3  2023-11-15T13:41:09.272647Z            NaN  TRACK   \n",
      "4  2023-11-15T13:41:09.480139Z            NaN  TRACK   \n",
      "\n",
      "                        Associated UUID  Note Source Name Source Class  ...  \\\n",
      "0  00000000-0000-0000-0000-000000000000   NaN   RIB-RADAR        RADAR  ...   \n",
      "1  00000000-0000-0000-0000-000000000000   NaN   RIB-RADAR        RADAR  ...   \n",
      "2  00000000-0000-0000-0000-000000000000   NaN   RIB-RADAR        RADAR  ...   \n",
      "3  00000000-0000-0000-0000-000000000000   NaN   RIB-RADAR        RADAR  ...   \n",
      "4  00000000-0000-0000-0000-000000000000   NaN   RIB-RADAR        RADAR  ...   \n",
      "\n",
      "   Deleted                 Deleted Time AIS MMSI  AIS IMO  AIS Call Sign  \\\n",
      "0     True  2023-11-15T13:43:04.465648Z      0.0      0.0            NaN   \n",
      "1     True  2023-11-15T13:43:04.465648Z      0.0      0.0            NaN   \n",
      "2     True  2023-11-15T13:43:04.465648Z      0.0      0.0            NaN   \n",
      "3     True  2023-11-15T13:43:04.465648Z      0.0      0.0            NaN   \n",
      "4     True  2023-11-15T13:43:04.465648Z      0.0      0.0            NaN   \n",
      "\n",
      "   AIS Ship Type  AIS Destination  AIS ETA  Fused  Fused Tracks  \n",
      "0            NaN              NaN      NaN  False           NaN  \n",
      "1            NaN              NaN      NaN  False           NaN  \n",
      "2            NaN              NaN      NaN  False           NaN  \n",
      "3            NaN              NaN      NaN  False           NaN  \n",
      "4            NaN              NaN      NaN  False           NaN  \n",
      "\n",
      "[5 rows x 44 columns]\n",
      "                                       UUID       Name  \\\n",
      "45362  8f853525-d2e7-4e5f-9975-4441b99de4f8  RADA-1295   \n",
      "45363  8f853525-d2e7-4e5f-9975-4441b99de4f8  RADA-1295   \n",
      "45364  8f853525-d2e7-4e5f-9975-4441b99de4f8  RADA-1295   \n",
      "45365  8f853525-d2e7-4e5f-9975-4441b99de4f8  RADA-1295   \n",
      "45366  8f853525-d2e7-4e5f-9975-4441b99de4f8  RADA-1295   \n",
      "\n",
      "                       Create Time                  Update Time  \\\n",
      "45362  2023-11-16T15:11:31.219511Z  2023-11-16T15:13:30.657819Z   \n",
      "45363  2023-11-16T15:11:31.219511Z  2023-11-16T15:13:30.861916Z   \n",
      "45364  2023-11-16T15:11:31.219511Z  2023-11-16T15:13:31.066327Z   \n",
      "45365  2023-11-16T15:11:31.219511Z  2023-11-16T15:13:31.270198Z   \n",
      "45366  2023-11-16T15:11:31.219511Z  2023-11-16T15:13:31.474532Z   \n",
      "\n",
      "                    User Edit Time   Type  \\\n",
      "45362  2023-11-16T15:11:42.725729Z  TRACK   \n",
      "45363  2023-11-16T15:11:42.725729Z  TRACK   \n",
      "45364  2023-11-16T15:11:42.725729Z  TRACK   \n",
      "45365  2023-11-16T15:11:42.725729Z  TRACK   \n",
      "45366  2023-11-16T15:11:42.725729Z  TRACK   \n",
      "\n",
      "                            Associated UUID  Note Source Name Source Class  \\\n",
      "45362  00000000-0000-0000-0000-000000000000   NaN   RIB-RADAR        RADAR   \n",
      "45363  00000000-0000-0000-0000-000000000000   NaN   RIB-RADAR        RADAR   \n",
      "45364  00000000-0000-0000-0000-000000000000   NaN   RIB-RADAR        RADAR   \n",
      "45365  00000000-0000-0000-0000-000000000000   NaN   RIB-RADAR        RADAR   \n",
      "45366  00000000-0000-0000-0000-000000000000   NaN   RIB-RADAR        RADAR   \n",
      "\n",
      "       ...  Deleted Deleted Time AIS MMSI  AIS IMO  AIS Call Sign  \\\n",
      "45362  ...    False          NaN      0.0      0.0            NaN   \n",
      "45363  ...    False          NaN      0.0      0.0            NaN   \n",
      "45364  ...    False          NaN      0.0      0.0            NaN   \n",
      "45365  ...    False          NaN      0.0      0.0            NaN   \n",
      "45366  ...    False          NaN      0.0      0.0            NaN   \n",
      "\n",
      "       AIS Ship Type  AIS Destination  AIS ETA  Fused  Fused Tracks  \n",
      "45362            NaN              NaN      NaN  False           NaN  \n",
      "45363            NaN              NaN      NaN  False           NaN  \n",
      "45364            NaN              NaN      NaN  False           NaN  \n",
      "45365            NaN              NaN      NaN  False           NaN  \n",
      "45366            NaN              NaN      NaN  False           NaN  \n",
      "\n",
      "[5 rows x 44 columns]\n"
     ]
    }
   ],
   "source": [
    "df = pd.read_csv(READ_PATH)\n",
    "print(df.head(5))\n",
    "print(df.tail(5))"
   ],
   "metadata": {
    "collapsed": false,
    "ExecuteTime": {
     "end_time": "2024-03-15T20:13:41.955119Z",
     "start_time": "2024-03-15T20:13:41.806259Z"
    }
   },
   "id": "6140d5b5f8a79bdf",
   "execution_count": 4
  },
  {
   "cell_type": "code",
   "outputs": [
    {
     "name": "stdout",
     "output_type": "stream",
     "text": [
      "Columns (after dropping): \n",
      "Index(['UUID', 'Update Time', 'Combat ID', 'AZ', 'EL', 'Range',\n",
      "       'Position (lat)', 'Position (lon)', 'Position (alt MSL)', 'Speed',\n",
      "       'Radial Velocity'],\n",
      "      dtype='object')\n"
     ]
    }
   ],
   "source": [
    "# drop unimportant columns\n",
    "df.drop(columns=DROP_COLS, inplace=True)\n",
    "print(f\"Columns (after dropping): \\n{df.columns}\")"
   ],
   "metadata": {
    "collapsed": false,
    "ExecuteTime": {
     "end_time": "2024-03-15T20:12:35.267385Z",
     "start_time": "2024-03-15T20:12:35.261632Z"
    }
   },
   "id": "7ad30f548395274e",
   "execution_count": 5
  },
  {
   "cell_type": "code",
   "outputs": [
    {
     "name": "stdout",
     "output_type": "stream",
     "text": [
      "<class 'pandas.core.frame.DataFrame'>\n",
      "RangeIndex: 45367 entries, 0 to 45366\n",
      "Data columns (total 44 columns):\n",
      " #   Column                     Non-Null Count  Dtype  \n",
      "---  ------                     --------------  -----  \n",
      " 0   UUID                       42623 non-null  object \n",
      " 1   Name                       42623 non-null  object \n",
      " 2   Create Time                42623 non-null  object \n",
      " 3   Update Time                42623 non-null  object \n",
      " 4   User Edit Time             8787 non-null   object \n",
      " 5   Type                       42623 non-null  object \n",
      " 6   Associated UUID            42623 non-null  object \n",
      " 7   Note                       0 non-null      float64\n",
      " 8   Source Name                42623 non-null  object \n",
      " 9   Source Class               42623 non-null  object \n",
      " 10  Source LID                 42623 non-null  float64\n",
      " 11  Combat ID                  42623 non-null  object \n",
      " 12  Object ID                  42623 non-null  object \n",
      " 13  Range To Contact           42623 non-null  float64\n",
      " 14  Bearing To Contact         42623 non-null  float64\n",
      " 15  Creator                    0 non-null      float64\n",
      " 16  Editor                     0 non-null      float64\n",
      " 17  AZ                         42614 non-null  float64\n",
      " 18  EL                         42614 non-null  float64\n",
      " 19  Range                      42614 non-null  float64\n",
      " 20  Position (lat)             42623 non-null  float64\n",
      " 21  Position (lon)             42623 non-null  float64\n",
      " 22  Position (alt MSL)         42623 non-null  float64\n",
      " 23  Origin Position (lat)      42614 non-null  float64\n",
      " 24  Origin Position (lon)      42614 non-null  float64\n",
      " 25  Origin Position (alt MSL)  42614 non-null  float64\n",
      " 26  2525                       42623 non-null  object \n",
      " 27  Speed                      42623 non-null  float64\n",
      " 28  Radar Cross Section        42623 non-null  float64\n",
      " 29  Closest Distance           42623 non-null  float64\n",
      " 30  Closest Time               42623 non-null  float64\n",
      " 31  Course                     0 non-null      float64\n",
      " 32  Source ID                  42623 non-null  float64\n",
      " 33  Radial Velocity            42623 non-null  float64\n",
      " 34  Deleted                    42623 non-null  object \n",
      " 35  Deleted Time               40871 non-null  object \n",
      " 36  AIS MMSI                   42623 non-null  float64\n",
      " 37  AIS IMO                    42623 non-null  float64\n",
      " 38  AIS Call Sign              0 non-null      float64\n",
      " 39  AIS Ship Type              0 non-null      float64\n",
      " 40  AIS Destination            0 non-null      float64\n",
      " 41  AIS ETA                    0 non-null      float64\n",
      " 42  Fused                      42623 non-null  object \n",
      " 43  Fused Tracks               0 non-null      float64\n",
      "dtypes: float64(29), object(15)\n",
      "memory usage: 15.2+ MB\n",
      "None\n"
     ]
    }
   ],
   "source": [
    "# drop the remaining NaN rows\n",
    "df.dropna(axis=\"index\", inplace=True)\n",
    "print(df.info())"
   ],
   "metadata": {
    "collapsed": false,
    "ExecuteTime": {
     "end_time": "2024-03-15T20:15:30.780628Z",
     "start_time": "2024-03-15T20:15:30.754675Z"
    }
   },
   "id": "5b8a3a0d856ddcb5",
   "execution_count": 5
  },
  {
   "cell_type": "code",
   "outputs": [
    {
     "name": "stdout",
     "output_type": "stream",
     "text": [
      "Total updates (rows): 45367\n",
      "Total tracks: 142\n",
      "\tUNKNOWN_THREAT tracks: 133\n",
      "\tHOSTILE tracks: 9\n"
     ]
    }
   ],
   "source": [
    "# number of individual updates in the dataset\n",
    "print(f\"Total updates (rows): {df.shape[0]}\")\n",
    "\n",
    "# group the data on UUID to compute track statistics\n",
    "grouped_df = df.groupby(\"UUID\")\n",
    "\n",
    "# total number of tracks\n",
    "print(f\"Total tracks: {len(grouped_df)}\")\n",
    "\n",
    "# number of tracks where every update is labeled \"UNKNOWN_THREAT\" (not drones)\n",
    "unknown_threat = grouped_df.apply(get_unknown_threat)\n",
    "unknown_threat_uuids = unknown_threat.index[unknown_threat]\n",
    "print(f\"\\tUNKNOWN_THREAT tracks: {len(unknown_threat_uuids)}\")\n",
    "\n",
    "# number of tracks where at least one update is labeled \"HOSTILE\" (drones)\n",
    "hostile = grouped_df.apply(get_hostile)\n",
    "hostile_uuids = hostile.index[hostile]\n",
    "print(f\"\\tHOSTILE tracks: {len(hostile_uuids)}\")"
   ],
   "metadata": {
    "collapsed": false,
    "ExecuteTime": {
     "end_time": "2024-03-15T20:15:46.082287Z",
     "start_time": "2024-03-15T20:15:46.038650Z"
    }
   },
   "id": "ab18d0e897c8ed69",
   "execution_count": 6
  },
  {
   "cell_type": "code",
   "outputs": [
    {
     "name": "stdout",
     "output_type": "stream",
     "text": [
      "Number of updates for each HOSTILE track:\n",
      "UUID\n",
      "00e7e451-7265-4006-9b07-9db2bfe7da95     531\n",
      "22e1ccd9-fb65-4175-9cc4-a9a698bcc52c    2754\n",
      "7b8d985f-f7b7-45c8-8cef-15f6f2cda72e    2082\n",
      "8f853525-d2e7-4e5f-9975-4441b99de4f8     556\n",
      "9d5dbb74-c7a3-42c3-b333-a0a57981c8b1     579\n",
      "a72c56b8-1410-45a2-a58d-ec9c9572066b     669\n",
      "b116b7fa-19de-4a43-acb0-b850eb73d9ce    1118\n",
      "bac2d555-0a56-4fca-a2a9-641d077e3dfe    1140\n",
      "d28262b2-c446-4ddb-8bdb-24b365cc4ced    1983\n",
      "dtype: int64\n",
      "\n",
      "Total HOSTILE updates: 11412\n"
     ]
    },
    {
     "name": "stderr",
     "output_type": "stream",
     "text": [
      "/var/folders/sx/0gyr6z3573gdm1mnzzc8vw980000gn/T/ipykernel_98521/4234858696.py:5: SettingWithCopyWarning: \n",
      "A value is trying to be set on a copy of a slice from a DataFrame\n",
      "\n",
      "See the caveats in the documentation: https://pandas.pydata.org/pandas-docs/stable/user_guide/indexing.html#returning-a-view-versus-a-copy\n",
      "  hostile_df.drop(columns=[\"Combat ID\"], inplace=True)\n"
     ]
    }
   ],
   "source": [
    "# create a new dataframe from the hostile UUIDs\n",
    "hostile_df = df[df[\"UUID\"].isin(hostile_uuids)]\n",
    "\n",
    "# drop the combat id field to avoid future confusion\n",
    "hostile_df.drop(columns=[\"Combat ID\"], inplace=True)\n",
    "\n",
    "# group the hostile dataframe on UUID\n",
    "hostile_grouped_df = hostile_df.groupby(\"UUID\")\n",
    "\n",
    "# find out the number of updates for each of the hostile tracks\n",
    "print(f\"Number of updates for each HOSTILE track:\\n{hostile_grouped_df.size()}\")\n",
    "\n",
    "# total number of hostile updates\n",
    "print(f\"\\nTotal HOSTILE updates: {len(hostile_df)}\")"
   ],
   "metadata": {
    "collapsed": false,
    "ExecuteTime": {
     "end_time": "2024-03-15T20:15:59.700623Z",
     "start_time": "2024-03-15T20:15:59.689024Z"
    }
   },
   "id": "14817af5f1ef5228",
   "execution_count": 7
  },
  {
   "cell_type": "code",
   "outputs": [],
   "source": [
    "# write the hostile dataframe back to a file\n",
    "hostile_df.to_csv(DRONE_WRITE_PATH, index=False)"
   ],
   "metadata": {
    "collapsed": false,
    "ExecuteTime": {
     "end_time": "2024-03-14T23:20:07.102867Z",
     "start_time": "2024-03-14T23:20:07.041119Z"
    }
   },
   "id": "7bb29168bbacaa6f",
   "execution_count": 9
  },
  {
   "cell_type": "code",
   "outputs": [
    {
     "name": "stdout",
     "output_type": "stream",
     "text": [
      "Number of updates for each UT track:\n",
      "UUID\n",
      "00be8250-5a18-432c-8fed-ed5c5c58a09e     28\n",
      "05d6c350-1e7f-461b-9062-1a8f1fc21449    260\n",
      "0685909e-177a-448a-a43c-483ec7e4a0c6    220\n",
      "096c9327-b2d1-4d1c-9115-6225b6749bda    199\n",
      "13bba5c3-b9aa-4e75-868d-9858c0e80caf    288\n",
      "                                       ... \n",
      "f13432f8-6d5b-4ee9-92eb-4b37925ec183    151\n",
      "f5abbec0-ac2d-474c-a205-217cf4aebbfa     31\n",
      "f95e53ea-ecc6-4f86-9f89-323df72aa1fd     91\n",
      "fc07744f-4654-49f9-9924-458c73410871     61\n",
      "fe6c620d-eb8f-453d-a4eb-e63aac933d42    133\n",
      "Length: 133, dtype: int64\n",
      "\n",
      "Total UT updates: 31211\n"
     ]
    },
    {
     "name": "stderr",
     "output_type": "stream",
     "text": [
      "/var/folders/sx/0gyr6z3573gdm1mnzzc8vw980000gn/T/ipykernel_98521/299679584.py:5: SettingWithCopyWarning: \n",
      "A value is trying to be set on a copy of a slice from a DataFrame\n",
      "\n",
      "See the caveats in the documentation: https://pandas.pydata.org/pandas-docs/stable/user_guide/indexing.html#returning-a-view-versus-a-copy\n",
      "  ut_df.drop(columns=[\"Combat ID\"], inplace=True)\n"
     ]
    }
   ],
   "source": [
    "# create a new dataframe from the bird UUIDs\n",
    "ut_df = df[df[\"UUID\"].isin(unknown_threat_uuids)]\n",
    "\n",
    "# drop the combat id field to avoid future confusion\n",
    "ut_df.drop(columns=[\"Combat ID\"], inplace=True)\n",
    "\n",
    "# group the bird dataframe on UUID\n",
    "ut_grouped_df = ut_df.groupby(\"UUID\")\n",
    "\n",
    "# find out the number of updates for each of the bird tracks\n",
    "print(f\"Number of updates for each UT track:\\n{ut_grouped_df.size()}\")\n",
    "\n",
    "# total number of bird updates\n",
    "print(f\"\\nTotal UT updates: {len(ut_df)}\")"
   ],
   "metadata": {
    "collapsed": false,
    "ExecuteTime": {
     "end_time": "2024-03-15T20:16:23.848076Z",
     "start_time": "2024-03-15T20:16:23.831031Z"
    }
   },
   "id": "bd39d7bd731aaa01",
   "execution_count": 8
  },
  {
   "cell_type": "code",
   "outputs": [],
   "source": [
    "# write the bird dataframe back to a file\n",
    "ut_df.to_csv(BIRD_WRITE_PATH, index=False)"
   ],
   "metadata": {
    "collapsed": false,
    "ExecuteTime": {
     "end_time": "2024-03-15T20:16:45.025794Z",
     "start_time": "2024-03-15T20:16:44.654257Z"
    }
   },
   "id": "f2177e37b9fa9bb5",
   "execution_count": 9
  },
  {
   "cell_type": "code",
   "outputs": [],
   "source": [],
   "metadata": {
    "collapsed": false
   },
   "id": "e2a190d7b8bc646a"
  }
 ],
 "metadata": {
  "kernelspec": {
   "display_name": "Python 3",
   "language": "python",
   "name": "python3"
  },
  "language_info": {
   "codemirror_mode": {
    "name": "ipython",
    "version": 2
   },
   "file_extension": ".py",
   "mimetype": "text/x-python",
   "name": "python",
   "nbconvert_exporter": "python",
   "pygments_lexer": "ipython2",
   "version": "2.7.6"
  }
 },
 "nbformat": 4,
 "nbformat_minor": 5
}
