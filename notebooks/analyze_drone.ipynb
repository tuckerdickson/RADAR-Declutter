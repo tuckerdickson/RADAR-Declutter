{
 "cells": [
  {
   "cell_type": "markdown",
   "source": [
    "# NSWC Drone Data Analysis\n",
    "\n",
    "This notebook is intended for the analysis of the drone data provided by NSWC."
   ],
   "metadata": {
    "collapsed": false
   },
   "id": "57df941b1121a072"
  },
  {
   "cell_type": "markdown",
   "source": [
    "### Constants"
   ],
   "metadata": {
    "collapsed": false
   },
   "id": "401f58685e5611f3"
  },
  {
   "cell_type": "code",
   "outputs": [],
   "source": [
    "READ_PATH = \"../data/raw/crane/Marked_Radar_Data.csv\"\n",
    "WRITE_PATH = \"../data/raw/crane/Hostile_Radar_Data.csv\"\n",
    "\n",
    "DROP_COLS = ['Name', 'Create Time', 'User Edit Time', 'Type', 'Associated UUID', 'Note', 'Source Name', \n",
    "             'Source Class', 'Source LID', 'Object ID','Range To Contact', 'Bearing To Contact', 'Creator', \n",
    "             'Editor', 'Origin Position (lat)', 'Origin Position (lon)', 'Origin Position (alt MSL)', \n",
    "             '2525', 'Radar Cross Section', 'Closest Time', 'Course', 'Source ID', 'Closest Distance', \n",
    "             'Deleted', 'Deleted Time', 'AIS MMSI', 'AIS IMO', 'AIS Call Sign', 'AIS Ship Type', \n",
    "             'AIS Destination', 'AIS ETA', 'Fused', 'Fused Tracks']"
   ],
   "metadata": {
    "collapsed": false,
    "ExecuteTime": {
     "end_time": "2024-02-25T14:20:12.400078Z",
     "start_time": "2024-02-25T14:20:12.396540Z"
    }
   },
   "id": "f6e6c487dec5f9b9",
   "execution_count": 68
  },
  {
   "cell_type": "markdown",
   "source": [
    "### Imports"
   ],
   "metadata": {
    "collapsed": false
   },
   "id": "117bea746bcc9ce9"
  },
  {
   "cell_type": "code",
   "execution_count": 34,
   "id": "initial_id",
   "metadata": {
    "collapsed": true,
    "ExecuteTime": {
     "end_time": "2024-02-25T13:29:57.897857Z",
     "start_time": "2024-02-25T13:29:57.894349Z"
    }
   },
   "outputs": [],
   "source": [
    "import pandas as pd"
   ]
  },
  {
   "cell_type": "markdown",
   "source": [
    "### Helper Functions"
   ],
   "metadata": {
    "collapsed": false
   },
   "id": "5ac552003356f2cb"
  },
  {
   "cell_type": "code",
   "outputs": [],
   "source": [
    "def get_unknown_threat(group):\n",
    "    return all(group[\"Combat ID\"] == \"UNKNOWN_THREAT\")\n",
    "\n",
    "def get_hostile(group):\n",
    "    return any(group[\"Combat ID\"] == \"HOSTILE\")"
   ],
   "metadata": {
    "collapsed": false,
    "ExecuteTime": {
     "end_time": "2024-02-25T13:51:36.968492Z",
     "start_time": "2024-02-25T13:51:36.964602Z"
    }
   },
   "id": "e0bb42bf55bad607",
   "execution_count": 55
  },
  {
   "cell_type": "markdown",
   "source": [
    "### Load the File"
   ],
   "metadata": {
    "collapsed": false
   },
   "id": "282a82cb03f2e209"
  },
  {
   "cell_type": "code",
   "outputs": [
    {
     "name": "stdout",
     "output_type": "stream",
     "text": [
      "                                   UUID    Name                  Create Time  \\\n",
      "0  7f5d87c3-f4e2-4025-8daf-9e9c0c5818dd  RADA-1  2023-11-15T13:41:08.577914Z   \n",
      "1  7f5d87c3-f4e2-4025-8daf-9e9c0c5818dd  RADA-1  2023-11-15T13:41:08.577914Z   \n",
      "2  7f5d87c3-f4e2-4025-8daf-9e9c0c5818dd  RADA-1  2023-11-15T13:41:08.577914Z   \n",
      "3  7f5d87c3-f4e2-4025-8daf-9e9c0c5818dd  RADA-1  2023-11-15T13:41:08.577914Z   \n",
      "4  7f5d87c3-f4e2-4025-8daf-9e9c0c5818dd  RADA-1  2023-11-15T13:41:08.577914Z   \n",
      "\n",
      "                   Update Time User Edit Time   Type  \\\n",
      "0  2023-11-15T13:41:08.577914Z            NaN  TRACK   \n",
      "1  2023-11-15T13:41:08.800179Z            NaN  TRACK   \n",
      "2  2023-11-15T13:41:09.008504Z            NaN  TRACK   \n",
      "3  2023-11-15T13:41:09.272647Z            NaN  TRACK   \n",
      "4  2023-11-15T13:41:09.480139Z            NaN  TRACK   \n",
      "\n",
      "                        Associated UUID  Note Source Name Source Class  ...  \\\n",
      "0  00000000-0000-0000-0000-000000000000   NaN   RIB-RADAR        RADAR  ...   \n",
      "1  00000000-0000-0000-0000-000000000000   NaN   RIB-RADAR        RADAR  ...   \n",
      "2  00000000-0000-0000-0000-000000000000   NaN   RIB-RADAR        RADAR  ...   \n",
      "3  00000000-0000-0000-0000-000000000000   NaN   RIB-RADAR        RADAR  ...   \n",
      "4  00000000-0000-0000-0000-000000000000   NaN   RIB-RADAR        RADAR  ...   \n",
      "\n",
      "   Deleted                 Deleted Time AIS MMSI  AIS IMO  AIS Call Sign  \\\n",
      "0     True  2023-11-15T13:43:04.465648Z      0.0      0.0            NaN   \n",
      "1     True  2023-11-15T13:43:04.465648Z      0.0      0.0            NaN   \n",
      "2     True  2023-11-15T13:43:04.465648Z      0.0      0.0            NaN   \n",
      "3     True  2023-11-15T13:43:04.465648Z      0.0      0.0            NaN   \n",
      "4     True  2023-11-15T13:43:04.465648Z      0.0      0.0            NaN   \n",
      "\n",
      "   AIS Ship Type  AIS Destination  AIS ETA  Fused  Fused Tracks  \n",
      "0            NaN              NaN      NaN  False           NaN  \n",
      "1            NaN              NaN      NaN  False           NaN  \n",
      "2            NaN              NaN      NaN  False           NaN  \n",
      "3            NaN              NaN      NaN  False           NaN  \n",
      "4            NaN              NaN      NaN  False           NaN  \n",
      "\n",
      "[5 rows x 44 columns]\n",
      "                                       UUID       Name  \\\n",
      "45362  8f853525-d2e7-4e5f-9975-4441b99de4f8  RADA-1295   \n",
      "45363  8f853525-d2e7-4e5f-9975-4441b99de4f8  RADA-1295   \n",
      "45364  8f853525-d2e7-4e5f-9975-4441b99de4f8  RADA-1295   \n",
      "45365  8f853525-d2e7-4e5f-9975-4441b99de4f8  RADA-1295   \n",
      "45366  8f853525-d2e7-4e5f-9975-4441b99de4f8  RADA-1295   \n",
      "\n",
      "                       Create Time                  Update Time  \\\n",
      "45362  2023-11-16T15:11:31.219511Z  2023-11-16T15:13:30.657819Z   \n",
      "45363  2023-11-16T15:11:31.219511Z  2023-11-16T15:13:30.861916Z   \n",
      "45364  2023-11-16T15:11:31.219511Z  2023-11-16T15:13:31.066327Z   \n",
      "45365  2023-11-16T15:11:31.219511Z  2023-11-16T15:13:31.270198Z   \n",
      "45366  2023-11-16T15:11:31.219511Z  2023-11-16T15:13:31.474532Z   \n",
      "\n",
      "                    User Edit Time   Type  \\\n",
      "45362  2023-11-16T15:11:42.725729Z  TRACK   \n",
      "45363  2023-11-16T15:11:42.725729Z  TRACK   \n",
      "45364  2023-11-16T15:11:42.725729Z  TRACK   \n",
      "45365  2023-11-16T15:11:42.725729Z  TRACK   \n",
      "45366  2023-11-16T15:11:42.725729Z  TRACK   \n",
      "\n",
      "                            Associated UUID  Note Source Name Source Class  \\\n",
      "45362  00000000-0000-0000-0000-000000000000   NaN   RIB-RADAR        RADAR   \n",
      "45363  00000000-0000-0000-0000-000000000000   NaN   RIB-RADAR        RADAR   \n",
      "45364  00000000-0000-0000-0000-000000000000   NaN   RIB-RADAR        RADAR   \n",
      "45365  00000000-0000-0000-0000-000000000000   NaN   RIB-RADAR        RADAR   \n",
      "45366  00000000-0000-0000-0000-000000000000   NaN   RIB-RADAR        RADAR   \n",
      "\n",
      "       ...  Deleted Deleted Time AIS MMSI  AIS IMO  AIS Call Sign  \\\n",
      "45362  ...    False          NaN      0.0      0.0            NaN   \n",
      "45363  ...    False          NaN      0.0      0.0            NaN   \n",
      "45364  ...    False          NaN      0.0      0.0            NaN   \n",
      "45365  ...    False          NaN      0.0      0.0            NaN   \n",
      "45366  ...    False          NaN      0.0      0.0            NaN   \n",
      "\n",
      "       AIS Ship Type  AIS Destination  AIS ETA  Fused  Fused Tracks  \n",
      "45362            NaN              NaN      NaN  False           NaN  \n",
      "45363            NaN              NaN      NaN  False           NaN  \n",
      "45364            NaN              NaN      NaN  False           NaN  \n",
      "45365            NaN              NaN      NaN  False           NaN  \n",
      "45366            NaN              NaN      NaN  False           NaN  \n",
      "\n",
      "[5 rows x 44 columns]\n"
     ]
    }
   ],
   "source": [
    "df = pd.read_csv(READ_PATH)\n",
    "print(df.head(5))\n",
    "print(df.tail(5))"
   ],
   "metadata": {
    "collapsed": false,
    "ExecuteTime": {
     "end_time": "2024-02-25T13:29:59.166736Z",
     "start_time": "2024-02-25T13:29:59.021470Z"
    }
   },
   "id": "6140d5b5f8a79bdf",
   "execution_count": 35
  },
  {
   "cell_type": "code",
   "outputs": [
    {
     "name": "stdout",
     "output_type": "stream",
     "text": [
      "Columns (after dropping): \n",
      "Index(['UUID', 'Update Time', 'Combat ID', 'AZ', 'EL', 'Range',\n",
      "       'Position (lat)', 'Position (lon)', 'Position (alt MSL)', 'Speed',\n",
      "       'Radial Velocity'],\n",
      "      dtype='object')\n"
     ]
    }
   ],
   "source": [
    "# drop unimportant columns\n",
    "df.drop(columns=DROP_COLS, inplace=True)\n",
    "print(f\"Columns (after dropping): \\n{df.columns}\")"
   ],
   "metadata": {
    "collapsed": false,
    "ExecuteTime": {
     "end_time": "2024-02-25T13:30:05.095178Z",
     "start_time": "2024-02-25T13:30:05.085561Z"
    }
   },
   "id": "7ad30f548395274e",
   "execution_count": 36
  },
  {
   "cell_type": "code",
   "outputs": [
    {
     "name": "stdout",
     "output_type": "stream",
     "text": [
      "<class 'pandas.core.frame.DataFrame'>\n",
      "Index: 42614 entries, 0 to 45366\n",
      "Data columns (total 11 columns):\n",
      " #   Column              Non-Null Count  Dtype  \n",
      "---  ------              --------------  -----  \n",
      " 0   UUID                42614 non-null  object \n",
      " 1   Update Time         42614 non-null  object \n",
      " 2   Combat ID           42614 non-null  object \n",
      " 3   AZ                  42614 non-null  float64\n",
      " 4   EL                  42614 non-null  float64\n",
      " 5   Range               42614 non-null  float64\n",
      " 6   Position (lat)      42614 non-null  float64\n",
      " 7   Position (lon)      42614 non-null  float64\n",
      " 8   Position (alt MSL)  42614 non-null  float64\n",
      " 9   Speed               42614 non-null  float64\n",
      " 10  Radial Velocity     42614 non-null  float64\n",
      "dtypes: float64(8), object(3)\n",
      "memory usage: 3.9+ MB\n",
      "None\n"
     ]
    }
   ],
   "source": [
    "# drop the remaining NaN rows\n",
    "df.dropna(axis=\"index\", inplace=True)\n",
    "print(df.info())"
   ],
   "metadata": {
    "collapsed": false,
    "ExecuteTime": {
     "end_time": "2024-02-25T13:30:12.320961Z",
     "start_time": "2024-02-25T13:30:12.306637Z"
    }
   },
   "id": "5b8a3a0d856ddcb5",
   "execution_count": 37
  },
  {
   "cell_type": "code",
   "outputs": [
    {
     "name": "stdout",
     "output_type": "stream",
     "text": [
      "Total updates (rows): 42614\n",
      "Total tracks: 142\n",
      "\tUNKNOWN_THREAT tracks: 133\n",
      "\tHOSTILE tracks: 9\n"
     ]
    }
   ],
   "source": [
    "# number of individual updates in the dataset\n",
    "print(f\"Total updates (rows): {df.shape[0]}\")\n",
    "\n",
    "# group the data on UUID to compute track statistics\n",
    "grouped_df = df.groupby(\"UUID\")\n",
    "\n",
    "# total number of tracks\n",
    "print(f\"Total tracks: {len(grouped_df)}\")\n",
    "\n",
    "# number of tracks where every update is labeled \"UNKNOWN_THREAT\" (not drones)\n",
    "unknown_threat = grouped_df.apply(get_unknown_threat)\n",
    "unknown_threat_uuids = unknown_threat.index[unknown_threat]\n",
    "print(f\"\\tUNKNOWN_THREAT tracks: {len(unknown_threat_uuids)}\")\n",
    "\n",
    "# number of tracks where at least one update is labeled \"HOSTILE\" (drones)\n",
    "hostile = grouped_df.apply(get_hostile)\n",
    "hostile_uuids = hostile.index[hostile]\n",
    "print(f\"\\tHOSTILE tracks: {len(hostile_uuids)}\")"
   ],
   "metadata": {
    "collapsed": false,
    "ExecuteTime": {
     "end_time": "2024-02-25T13:53:42.603974Z",
     "start_time": "2024-02-25T13:53:42.579032Z"
    }
   },
   "id": "ab18d0e897c8ed69",
   "execution_count": 59
  },
  {
   "cell_type": "code",
   "outputs": [
    {
     "name": "stdout",
     "output_type": "stream",
     "text": [
      "Number of updates for each HOSTILE track:\n",
      "UUID\n",
      "00e7e451-7265-4006-9b07-9db2bfe7da95     530\n",
      "22e1ccd9-fb65-4175-9cc4-a9a698bcc52c    2753\n",
      "7b8d985f-f7b7-45c8-8cef-15f6f2cda72e    2081\n",
      "8f853525-d2e7-4e5f-9975-4441b99de4f8     555\n",
      "9d5dbb74-c7a3-42c3-b333-a0a57981c8b1     578\n",
      "a72c56b8-1410-45a2-a58d-ec9c9572066b     668\n",
      "b116b7fa-19de-4a43-acb0-b850eb73d9ce    1117\n",
      "bac2d555-0a56-4fca-a2a9-641d077e3dfe    1139\n",
      "d28262b2-c446-4ddb-8bdb-24b365cc4ced    1982\n",
      "dtype: int64\n",
      "\n",
      "Total HOSTILE updates: 11403\n"
     ]
    },
    {
     "name": "stderr",
     "output_type": "stream",
     "text": [
      "/var/folders/sx/0gyr6z3573gdm1mnzzc8vw980000gn/T/ipykernel_71155/4234858696.py:5: SettingWithCopyWarning: \n",
      "A value is trying to be set on a copy of a slice from a DataFrame\n",
      "\n",
      "See the caveats in the documentation: https://pandas.pydata.org/pandas-docs/stable/user_guide/indexing.html#returning-a-view-versus-a-copy\n",
      "  hostile_df.drop(columns=[\"Combat ID\"], inplace=True)\n"
     ]
    }
   ],
   "source": [
    "# create a new dataframe from the hostile UUIDs\n",
    "hostile_df = df[df[\"UUID\"].isin(hostile_uuids)]\n",
    "\n",
    "# drop the combat id field to avoid future confusion\n",
    "hostile_df.drop(columns=[\"Combat ID\"], inplace=True)\n",
    "\n",
    "# group the hostile dataframe on UUID\n",
    "hostile_grouped_df = hostile_df.groupby(\"UUID\")\n",
    "\n",
    "# find out the number of updates for each of the hostile tracks\n",
    "print(f\"Number of updates for each HOSTILE track:\\n{hostile_grouped_df.size()}\")\n",
    "\n",
    "# total number of hostile updates\n",
    "print(f\"\\nTotal HOSTILE updates: {len(hostile_df)}\")"
   ],
   "metadata": {
    "collapsed": false,
    "ExecuteTime": {
     "end_time": "2024-02-25T14:17:44.175799Z",
     "start_time": "2024-02-25T14:17:44.167968Z"
    }
   },
   "id": "14817af5f1ef5228",
   "execution_count": 67
  },
  {
   "cell_type": "code",
   "outputs": [],
   "source": [
    "# write the hostile dataframe back to a file\n",
    "hostile_df.to_csv(WRITE_PATH, index=False)"
   ],
   "metadata": {
    "collapsed": false,
    "ExecuteTime": {
     "end_time": "2024-02-25T14:46:16.918291Z",
     "start_time": "2024-02-25T14:46:16.863462Z"
    }
   },
   "id": "7bb29168bbacaa6f",
   "execution_count": 70
  },
  {
   "cell_type": "code",
   "outputs": [],
   "source": [],
   "metadata": {
    "collapsed": false
   },
   "id": "bd39d7bd731aaa01"
  }
 ],
 "metadata": {
  "kernelspec": {
   "display_name": "Python 3",
   "language": "python",
   "name": "python3"
  },
  "language_info": {
   "codemirror_mode": {
    "name": "ipython",
    "version": 2
   },
   "file_extension": ".py",
   "mimetype": "text/x-python",
   "name": "python",
   "nbconvert_exporter": "python",
   "pygments_lexer": "ipython2",
   "version": "2.7.6"
  }
 },
 "nbformat": 4,
 "nbformat_minor": 5
}
