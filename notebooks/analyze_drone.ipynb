{
 "cells": [
  {
   "cell_type": "markdown",
   "id": "57df941b1121a072",
   "metadata": {
    "collapsed": false
   },
   "source": [
    "# NSWC Drone Data Analysis\n",
    "\n",
    "This notebook is intended for the analysis of the drone data provided by NSWC."
   ]
  },
  {
   "cell_type": "markdown",
   "id": "401f58685e5611f3",
   "metadata": {
    "collapsed": false
   },
   "source": [
    "### Constants"
   ]
  },
  {
   "cell_type": "code",
   "execution_count": 1,
   "id": "f6e6c487dec5f9b9",
   "metadata": {
    "ExecuteTime": {
     "end_time": "2024-02-25T14:20:12.400078Z",
     "start_time": "2024-02-25T14:20:12.396540Z"
    },
    "collapsed": false
   },
   "outputs": [],
   "source": [
    "READ_PATH = \"../data/raw/crane/Marked_Radar_Data.csv\"\n",
    "DRONE_WRITE_PATH = \"../data/raw/crane/Drone_Radar_Data2.csv\"\n",
    "BIRD_WRITE_PATH = \"../data/raw/crane/Marked_Radar_Data_Javon.csv\"\n",
    "\n",
    "DROP_COLS = ['Name', 'Create Time', 'User Edit Time', 'Type', 'Associated UUID', 'Note', 'Source Name', \n",
    "             'Source Class', 'Source LID', 'Object ID','Range To Contact', 'Bearing To Contact', 'Creator', \n",
    "             'Editor', 'Origin Position (lat)', 'Origin Position (lon)', 'Origin Position (alt MSL)', \n",
    "             '2525', 'Closest Time', 'Course', 'Source ID', 'Closest Distance', \n",
    "             'Deleted', 'Deleted Time', 'AIS MMSI', 'AIS IMO', 'AIS Call Sign', 'AIS Ship Type', \n",
    "             'AIS Destination', 'AIS ETA', 'Fused', 'Fused Tracks']"
   ]
  },
  {
   "cell_type": "markdown",
   "id": "117bea746bcc9ce9",
   "metadata": {
    "collapsed": false
   },
   "source": [
    "### Imports"
   ]
  },
  {
   "cell_type": "code",
   "execution_count": 2,
   "id": "initial_id",
   "metadata": {
    "ExecuteTime": {
     "end_time": "2024-03-15T20:13:38.977622Z",
     "start_time": "2024-03-15T20:13:38.724109Z"
    }
   },
   "outputs": [],
   "source": [
    "import pandas as pd"
   ]
  },
  {
   "cell_type": "markdown",
   "id": "5ac552003356f2cb",
   "metadata": {
    "collapsed": false
   },
   "source": [
    "### Helper Functions"
   ]
  },
  {
   "cell_type": "code",
   "execution_count": 3,
   "id": "e0bb42bf55bad607",
   "metadata": {
    "ExecuteTime": {
     "end_time": "2024-02-25T13:51:36.968492Z",
     "start_time": "2024-02-25T13:51:36.964602Z"
    },
    "collapsed": false
   },
   "outputs": [],
   "source": [
    "def get_unknown_threat(group):\n",
    "    return all(group[\"Combat ID\"] == \"UNKNOWN_THREAT\")\n",
    "\n",
    "def get_hostile(group):\n",
    "    return any(group[\"Combat ID\"] == \"HOSTILE\")"
   ]
  },
  {
   "cell_type": "markdown",
   "id": "282a82cb03f2e209",
   "metadata": {
    "collapsed": false
   },
   "source": [
    "### Load the File"
   ]
  },
  {
   "cell_type": "code",
   "execution_count": 4,
   "id": "6140d5b5f8a79bdf",
   "metadata": {
    "ExecuteTime": {
     "end_time": "2024-02-25T13:29:59.166736Z",
     "start_time": "2024-02-25T13:29:59.021470Z"
    },
    "collapsed": false
   },
   "outputs": [
    {
     "name": "stdout",
     "output_type": "stream",
     "text": [
      "                                   UUID    Name                  Create Time  \\\n",
      "0  7f5d87c3-f4e2-4025-8daf-9e9c0c5818dd  RADA-1  2023-11-15T13:41:08.577914Z   \n",
      "1  7f5d87c3-f4e2-4025-8daf-9e9c0c5818dd  RADA-1  2023-11-15T13:41:08.577914Z   \n",
      "2  7f5d87c3-f4e2-4025-8daf-9e9c0c5818dd  RADA-1  2023-11-15T13:41:08.577914Z   \n",
      "3  7f5d87c3-f4e2-4025-8daf-9e9c0c5818dd  RADA-1  2023-11-15T13:41:08.577914Z   \n",
      "4  7f5d87c3-f4e2-4025-8daf-9e9c0c5818dd  RADA-1  2023-11-15T13:41:08.577914Z   \n",
      "\n",
      "                   Update Time User Edit Time   Type  \\\n",
      "0  2023-11-15T13:41:08.577914Z            NaN  TRACK   \n",
      "1  2023-11-15T13:41:08.800179Z            NaN  TRACK   \n",
      "2  2023-11-15T13:41:09.008504Z            NaN  TRACK   \n",
      "3  2023-11-15T13:41:09.272647Z            NaN  TRACK   \n",
      "4  2023-11-15T13:41:09.480139Z            NaN  TRACK   \n",
      "\n",
      "                        Associated UUID  Note Source Name Source Class  ...  \\\n",
      "0  00000000-0000-0000-0000-000000000000   NaN   RIB-RADAR        RADAR  ...   \n",
      "1  00000000-0000-0000-0000-000000000000   NaN   RIB-RADAR        RADAR  ...   \n",
      "2  00000000-0000-0000-0000-000000000000   NaN   RIB-RADAR        RADAR  ...   \n",
      "3  00000000-0000-0000-0000-000000000000   NaN   RIB-RADAR        RADAR  ...   \n",
      "4  00000000-0000-0000-0000-000000000000   NaN   RIB-RADAR        RADAR  ...   \n",
      "\n",
      "   Deleted                 Deleted Time AIS MMSI  AIS IMO  AIS Call Sign  \\\n",
      "0     True  2023-11-15T13:43:04.465648Z      0.0      0.0            NaN   \n",
      "1     True  2023-11-15T13:43:04.465648Z      0.0      0.0            NaN   \n",
      "2     True  2023-11-15T13:43:04.465648Z      0.0      0.0            NaN   \n",
      "3     True  2023-11-15T13:43:04.465648Z      0.0      0.0            NaN   \n",
      "4     True  2023-11-15T13:43:04.465648Z      0.0      0.0            NaN   \n",
      "\n",
      "   AIS Ship Type  AIS Destination  AIS ETA  Fused  Fused Tracks  \n",
      "0            NaN              NaN      NaN  False           NaN  \n",
      "1            NaN              NaN      NaN  False           NaN  \n",
      "2            NaN              NaN      NaN  False           NaN  \n",
      "3            NaN              NaN      NaN  False           NaN  \n",
      "4            NaN              NaN      NaN  False           NaN  \n",
      "\n",
      "[5 rows x 44 columns]\n",
      "                                       UUID       Name  \\\n",
      "45362  8f853525-d2e7-4e5f-9975-4441b99de4f8  RADA-1295   \n",
      "45363  8f853525-d2e7-4e5f-9975-4441b99de4f8  RADA-1295   \n",
      "45364  8f853525-d2e7-4e5f-9975-4441b99de4f8  RADA-1295   \n",
      "45365  8f853525-d2e7-4e5f-9975-4441b99de4f8  RADA-1295   \n",
      "45366  8f853525-d2e7-4e5f-9975-4441b99de4f8  RADA-1295   \n",
      "\n",
      "                       Create Time                  Update Time  \\\n",
      "45362  2023-11-16T15:11:31.219511Z  2023-11-16T15:13:30.657819Z   \n",
      "45363  2023-11-16T15:11:31.219511Z  2023-11-16T15:13:30.861916Z   \n",
      "45364  2023-11-16T15:11:31.219511Z  2023-11-16T15:13:31.066327Z   \n",
      "45365  2023-11-16T15:11:31.219511Z  2023-11-16T15:13:31.270198Z   \n",
      "45366  2023-11-16T15:11:31.219511Z  2023-11-16T15:13:31.474532Z   \n",
      "\n",
      "                    User Edit Time   Type  \\\n",
      "45362  2023-11-16T15:11:42.725729Z  TRACK   \n",
      "45363  2023-11-16T15:11:42.725729Z  TRACK   \n",
      "45364  2023-11-16T15:11:42.725729Z  TRACK   \n",
      "45365  2023-11-16T15:11:42.725729Z  TRACK   \n",
      "45366  2023-11-16T15:11:42.725729Z  TRACK   \n",
      "\n",
      "                            Associated UUID  Note Source Name Source Class  \\\n",
      "45362  00000000-0000-0000-0000-000000000000   NaN   RIB-RADAR        RADAR   \n",
      "45363  00000000-0000-0000-0000-000000000000   NaN   RIB-RADAR        RADAR   \n",
      "45364  00000000-0000-0000-0000-000000000000   NaN   RIB-RADAR        RADAR   \n",
      "45365  00000000-0000-0000-0000-000000000000   NaN   RIB-RADAR        RADAR   \n",
      "45366  00000000-0000-0000-0000-000000000000   NaN   RIB-RADAR        RADAR   \n",
      "\n",
      "       ...  Deleted Deleted Time AIS MMSI  AIS IMO  AIS Call Sign  \\\n",
      "45362  ...    False          NaN      0.0      0.0            NaN   \n",
      "45363  ...    False          NaN      0.0      0.0            NaN   \n",
      "45364  ...    False          NaN      0.0      0.0            NaN   \n",
      "45365  ...    False          NaN      0.0      0.0            NaN   \n",
      "45366  ...    False          NaN      0.0      0.0            NaN   \n",
      "\n",
      "       AIS Ship Type  AIS Destination  AIS ETA  Fused  Fused Tracks  \n",
      "45362            NaN              NaN      NaN  False           NaN  \n",
      "45363            NaN              NaN      NaN  False           NaN  \n",
      "45364            NaN              NaN      NaN  False           NaN  \n",
      "45365            NaN              NaN      NaN  False           NaN  \n",
      "45366            NaN              NaN      NaN  False           NaN  \n",
      "\n",
      "[5 rows x 44 columns]\n"
     ]
    }
   ],
   "source": [
    "df = pd.read_csv(READ_PATH)\n",
    "print(df.head(5))\n",
    "print(df.tail(5))"
   ]
  },
  {
   "cell_type": "code",
   "execution_count": 5,
   "id": "7ad30f548395274e",
   "metadata": {
    "ExecuteTime": {
     "end_time": "2024-02-25T13:30:05.095178Z",
     "start_time": "2024-02-25T13:30:05.085561Z"
    },
    "collapsed": false
   },
   "outputs": [
    {
     "name": "stdout",
     "output_type": "stream",
     "text": [
      "Columns (after dropping): \n",
      "Index(['UUID', 'Update Time', 'Combat ID', 'AZ', 'EL', 'Range',\n",
      "       'Position (lat)', 'Position (lon)', 'Position (alt MSL)', 'Speed',\n",
      "       'Radial Velocity'],\n",
      "      dtype='object')\n"
     ]
    }
   ],
   "source": [
    "# drop unimportant columns\n",
    "df.drop(columns=DROP_COLS, inplace=True)\n",
    "print(f\"Columns (after dropping): \\n{df.columns}\")"
   ]
  },
  {
   "cell_type": "code",
   "execution_count": 6,
   "id": "5b8a3a0d856ddcb5",
   "metadata": {
    "ExecuteTime": {
     "end_time": "2024-02-25T13:30:12.320961Z",
     "start_time": "2024-02-25T13:30:12.306637Z"
    },
    "collapsed": false
   },
   "outputs": [
    {
     "name": "stdout",
     "output_type": "stream",
     "text": [
      "<class 'pandas.core.frame.DataFrame'>\n",
      "RangeIndex: 45367 entries, 0 to 45366\n",
      "Data columns (total 44 columns):\n",
      " #   Column                     Non-Null Count  Dtype  \n",
      "---  ------                     --------------  -----  \n",
      " 0   UUID                       42623 non-null  object \n",
      " 1   Name                       42623 non-null  object \n",
      " 2   Create Time                42623 non-null  object \n",
      " 3   Update Time                42623 non-null  object \n",
      " 4   User Edit Time             8787 non-null   object \n",
      " 5   Type                       42623 non-null  object \n",
      " 6   Associated UUID            42623 non-null  object \n",
      " 7   Note                       0 non-null      float64\n",
      " 8   Source Name                42623 non-null  object \n",
      " 9   Source Class               42623 non-null  object \n",
      " 10  Source LID                 42623 non-null  float64\n",
      " 11  Combat ID                  42623 non-null  object \n",
      " 12  Object ID                  42623 non-null  object \n",
      " 13  Range To Contact           42623 non-null  float64\n",
      " 14  Bearing To Contact         42623 non-null  float64\n",
      " 15  Creator                    0 non-null      float64\n",
      " 16  Editor                     0 non-null      float64\n",
      " 17  AZ                         42614 non-null  float64\n",
      " 18  EL                         42614 non-null  float64\n",
      " 19  Range                      42614 non-null  float64\n",
      " 20  Position (lat)             42623 non-null  float64\n",
      " 21  Position (lon)             42623 non-null  float64\n",
      " 22  Position (alt MSL)         42623 non-null  float64\n",
      " 23  Origin Position (lat)      42614 non-null  float64\n",
      " 24  Origin Position (lon)      42614 non-null  float64\n",
      " 25  Origin Position (alt MSL)  42614 non-null  float64\n",
      " 26  2525                       42623 non-null  object \n",
      " 27  Speed                      42623 non-null  float64\n",
      " 28  Radar Cross Section        42623 non-null  float64\n",
      " 29  Closest Distance           42623 non-null  float64\n",
      " 30  Closest Time               42623 non-null  float64\n",
      " 31  Course                     0 non-null      float64\n",
      " 32  Source ID                  42623 non-null  float64\n",
      " 33  Radial Velocity            42623 non-null  float64\n",
      " 34  Deleted                    42623 non-null  object \n",
      " 35  Deleted Time               40871 non-null  object \n",
      " 36  AIS MMSI                   42623 non-null  float64\n",
      " 37  AIS IMO                    42623 non-null  float64\n",
      " 38  AIS Call Sign              0 non-null      float64\n",
      " 39  AIS Ship Type              0 non-null      float64\n",
      " 40  AIS Destination            0 non-null      float64\n",
      " 41  AIS ETA                    0 non-null      float64\n",
      " 42  Fused                      42623 non-null  object \n",
      " 43  Fused Tracks               0 non-null      float64\n",
      "dtypes: float64(29), object(15)\n",
      "memory usage: 15.2+ MB\n",
      "None\n"
     ]
    }
   ],
   "source": [
    "# drop the remaining NaN rows\n",
    "df.dropna(axis=\"index\", inplace=True)\n",
    "print(df.info())"
   ]
  },
  {
   "cell_type": "code",
   "execution_count": 7,
   "id": "ab18d0e897c8ed69",
   "metadata": {
    "ExecuteTime": {
     "end_time": "2024-02-25T13:53:42.603974Z",
     "start_time": "2024-02-25T13:53:42.579032Z"
    },
    "collapsed": false
   },
   "outputs": [
    {
     "name": "stdout",
     "output_type": "stream",
     "text": [
      "Total updates (rows): 45367\n",
      "Total tracks: 142\n",
      "\tUNKNOWN_THREAT tracks: 133\n",
      "\tHOSTILE tracks: 9\n"
     ]
    },
    {
     "name": "stderr",
     "output_type": "stream",
     "text": [
      "/var/folders/b0/dbb_xh6j1tsd_mmlmfvztyy80000gn/T/ipykernel_3380/1165838615.py:11: DeprecationWarning: DataFrameGroupBy.apply operated on the grouping columns. This behavior is deprecated, and in a future version of pandas the grouping columns will be excluded from the operation. Either pass `include_groups=False` to exclude the groupings or explicitly select the grouping columns after groupby to silence this warning.\n",
      "  unknown_threat = grouped_df.apply(get_unknown_threat)\n",
      "/var/folders/b0/dbb_xh6j1tsd_mmlmfvztyy80000gn/T/ipykernel_3380/1165838615.py:16: DeprecationWarning: DataFrameGroupBy.apply operated on the grouping columns. This behavior is deprecated, and in a future version of pandas the grouping columns will be excluded from the operation. Either pass `include_groups=False` to exclude the groupings or explicitly select the grouping columns after groupby to silence this warning.\n",
      "  hostile = grouped_df.apply(get_hostile)\n"
     ]
    }
   ],
   "source": [
    "# number of individual updates in the dataset\n",
    "print(f\"Total updates (rows): {df.shape[0]}\")\n",
    "\n",
    "# group the data on UUID to compute track statistics\n",
    "grouped_df = df.groupby(\"UUID\")\n",
    "\n",
    "# total number of tracks\n",
    "print(f\"Total tracks: {len(grouped_df)}\")\n",
    "\n",
    "# number of tracks where every update is labeled \"UNKNOWN_THREAT\" (not drones)\n",
    "unknown_threat = grouped_df.apply(get_unknown_threat)\n",
    "unknown_threat_uuids = unknown_threat.index[unknown_threat]\n",
    "print(f\"\\tUNKNOWN_THREAT tracks: {len(unknown_threat_uuids)}\")\n",
    "\n",
    "# number of tracks where at least one update is labeled \"HOSTILE\" (drones)\n",
    "hostile = grouped_df.apply(get_hostile)\n",
    "hostile_uuids = hostile.index[hostile]\n",
    "print(f\"\\tHOSTILE tracks: {len(hostile_uuids)}\")"
   ]
  },
  {
   "cell_type": "code",
   "execution_count": 18,
   "id": "14817af5f1ef5228",
   "metadata": {
    "ExecuteTime": {
     "end_time": "2024-02-25T14:17:44.175799Z",
     "start_time": "2024-02-25T14:17:44.167968Z"
    },
    "collapsed": false
   },
   "outputs": [
    {
     "name": "stdout",
     "output_type": "stream",
     "text": [
      "Number of updates for each HOSTILE track:\n",
      "UUID\n",
      "00e7e451-7265-4006-9b07-9db2bfe7da95     531\n",
      "22e1ccd9-fb65-4175-9cc4-a9a698bcc52c    2754\n",
      "7b8d985f-f7b7-45c8-8cef-15f6f2cda72e    2082\n",
      "8f853525-d2e7-4e5f-9975-4441b99de4f8     556\n",
      "9d5dbb74-c7a3-42c3-b333-a0a57981c8b1     579\n",
      "a72c56b8-1410-45a2-a58d-ec9c9572066b     669\n",
      "b116b7fa-19de-4a43-acb0-b850eb73d9ce    1118\n",
      "bac2d555-0a56-4fca-a2a9-641d077e3dfe    1140\n",
      "d28262b2-c446-4ddb-8bdb-24b365cc4ced    1983\n",
      "dtype: int64\n",
      "\n",
      "Total HOSTILE updates: 11412\n"
     ]
    },
    {
     "name": "stderr",
     "output_type": "stream",
     "text": [
      "/var/folders/b0/dbb_xh6j1tsd_mmlmfvztyy80000gn/T/ipykernel_3380/1480786874.py:5: SettingWithCopyWarning: \n",
      "A value is trying to be set on a copy of a slice from a DataFrame\n",
      "\n",
      "See the caveats in the documentation: https://pandas.pydata.org/pandas-docs/stable/user_guide/indexing.html#returning-a-view-versus-a-copy\n",
      "  hostile_df.drop(columns=[\"Combat ID\"], inplace=True)\n"
     ]
    }
   ],
   "source": [
    "# create a new dataframe from the hostile UUIDs\n",
    "hostile_df = df[df[\"UUID\"].isin(hostile_uuids)]\n",
    "\n",
    "# drop the combat id field to avoid future confusion\n",
    "hostile_df.drop(columns=[\"Combat ID\"], inplace=True)\n",
    "\n",
    "# group the hostile dataframe on UUID\n",
    "hostile_grouped_df = hostile_df.groupby(\"UUID\")\n",
    "\n",
    "# find out the number of updates for each of the hostile tracks\n",
    "print(f\"Number of updates for each HOSTILE track:\\n{hostile_grouped_df.size()}\")\n",
    "\n",
    "# total number of hostile updates\n",
    "print(f\"\\nTotal HOSTILE updates: {len(hostile_df)}\")"
   ]
  },
  {
   "cell_type": "code",
   "execution_count": 9,
   "id": "7bb29168bbacaa6f",
   "metadata": {
    "ExecuteTime": {
     "end_time": "2024-02-25T14:46:16.918291Z",
     "start_time": "2024-02-25T14:46:16.863462Z"
    },
    "collapsed": false
   },
   "outputs": [],
   "source": [
    "# write the hostile dataframe back to a file\n",
    "hostile_df.to_csv(WRITE_PATH, index=False)"
   ]
  },
  {
   "cell_type": "code",
   "execution_count": 29,
   "id": "bd39d7bd731aaa01",
   "metadata": {
    "collapsed": false
   },
   "outputs": [],
   "source": [
    "# drop interpolated updates and save to new csv file\n",
    "# interpolated points are indicated by a speed value not updating\n",
    "rows_to_drop = []\n",
    "reset_hostile_df = hostile_df.reset_index(drop=True)\n",
    "for index, row in reset_hostile_df.iterrows():\n",
    "    if index < len(reset_hostile_df) - 1 and row['Speed'] == reset_hostile_df.at[index+1, 'Speed']:\n",
    "        rows_to_drop.append(index+1)\n",
    "hostile_no_interp_df = reset_hostile_df.drop(index=rows_to_drop)\n",
    "\n",
    "hostile_no_interp_df.to_csv(\"../data/raw/crane/NO_INTERP_Hostile_Radar_Data.csv\", index=False)"
   ]
  },
  {
   "cell_type": "code",
   "execution_count": null,
   "id": "347f47eb-cff2-4e46-bd71-2b4656b68444",
   "metadata": {},
   "outputs": [],
   "source": []
  }
 ],
 "metadata": {
  "kernelspec": {
   "display_name": "Python 3 (ipykernel)",
   "language": "python",
   "name": "python3"
  },
  "language_info": {
   "codemirror_mode": {
    "name": "ipython",
    "version": 3
   },
   "file_extension": ".py",
   "mimetype": "text/x-python",
   "name": "python",
   "nbconvert_exporter": "python",
   "pygments_lexer": "ipython3",
   "version": "3.12.2"
  }
 },
 "nbformat": 4,
 "nbformat_minor": 5
}
