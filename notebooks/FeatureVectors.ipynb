{
 "cells": [
  {
   "cell_type": "markdown",
   "id": "ae5f349a-6efa-4b2f-a4fa-9e8486b810fd",
   "metadata": {},
   "source": [
    "# Feature Vectors\n",
    "The purpose of this notebook is to write out formulas for calculating feature vector updates and to document the thought process for the implementation of feature vectors and the dictionary outside of the final program."
   ]
  },
  {
   "cell_type": "markdown",
   "id": "b41a26bc-99b4-4cdc-8669-2c224bb9116f",
   "metadata": {},
   "source": [
    "## Statistical Calculations"
   ]
  },
  {
   "cell_type": "markdown",
   "id": "db090b73-c7b6-4a7f-bad3-dd9ca78cc59c",
   "metadata": {},
   "source": [
    "### Average\n",
    "Below is the formula for calculating the current average, $\\mu_{n}$, for different fields with only the calculated average from one previous time step, $\\mu_{n-1}$, and the current value update for the field, $x_{n}$. This can be used on any of the fields present in the track dataset.\n",
    "\n",
    "$$\n",
    "\\mu_{n} = \\frac{(n-1)\\mu_{n-1} + x_{n}}{n}\n",
    "$$"
   ]
  },
  {
   "cell_type": "markdown",
   "id": "ec4dbeb1-f8db-468d-b5e0-77a56ee469b9",
   "metadata": {},
   "source": [
    "### Standard Deviation\n",
    "Below is the formula for calculating the current standard deviation, $\\sigma_{n}$, with only the previously calculated standard deviation from the last time step, $\\sigma_{n-1}$, and the current value update for the field, $x_{n}$. This can be used on any of the fields present in the track dataset.\n",
    "\n",
    "$$\n",
    "\\sigma_{n} = \\sqrt{\\frac{(n-2)\\sigma_{n-1}^{2} + (x_{n}-\\mu_{n})*(x_{n}-\\mu_{n-1})}{n-1}}\n",
    "$$"
   ]
  },
  {
   "cell_type": "markdown",
   "id": "57542758-8b97-4825-ad07-897419b34dce",
   "metadata": {},
   "source": [
    "## Smoothness Calculations"
   ]
  },
  {
   "cell_type": "markdown",
   "id": "a2b89223-3ac6-4674-981d-8f194ce5ea35",
   "metadata": {},
   "source": [
    "Below are the formulas for calculating both the smoothness $M(1)$ and $M(2)$ metrics. These metrics convey the relative visual smoothness of a signal processed from any of the fields either provided by the kinematic track data or features calculated throughout the script. Added variables $q$ and $c$ are also specified in the equations. $z_n$ is any field or calculated feature at the current time interval.\n",
    "$$\n",
    "q = \\frac{1}{n}(q_{n-1} * (n-1) + (z_{n} - z_{n-1}))\n",
    "$$\n",
    "$$\n",
    "M(1) = \\frac{1}{n}(M(1)_{n-1}*(n-1)+(z_{n}-z_{n-1}-q)^2)^2\n",
    "$$\n",
    "$$\n",
    "c = \\frac{1}{n}(c_{n-1}*(n-1)+|z_{n}-z_{n-1}|)\n",
    "$$\n",
    "$$\n",
    "M(2)=\\frac{M(1)}{c}\n",
    "$$"
   ]
  },
  {
   "cell_type": "code",
   "execution_count": null,
   "id": "3fd15d1d-4b3b-4ee4-886e-8d1b11e8d550",
   "metadata": {},
   "outputs": [],
   "source": []
  }
 ],
 "metadata": {
  "kernelspec": {
   "display_name": "Python 3 (ipykernel)",
   "language": "python",
   "name": "python3"
  },
  "language_info": {
   "codemirror_mode": {
    "name": "ipython",
    "version": 3
   },
   "file_extension": ".py",
   "mimetype": "text/x-python",
   "name": "python",
   "nbconvert_exporter": "python",
   "pygments_lexer": "ipython3",
   "version": "3.11.5"
  }
 },
 "nbformat": 4,
 "nbformat_minor": 5
}
