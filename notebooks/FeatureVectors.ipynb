{
 "cells": [
  {
   "cell_type": "markdown",
   "id": "ae5f349a-6efa-4b2f-a4fa-9e8486b810fd",
   "metadata": {},
   "source": [
    "# Feature Vector Calculations\n",
    "The purpose of this notebook is to write out formulas for calculating feature vector updates and to document the thought process for the implementation of feature vectors and the dictionary outside of the final program."
   ]
  },
  {
   "cell_type": "markdown",
   "id": "b41a26bc-99b4-4cdc-8669-2c224bb9116f",
   "metadata": {},
   "source": [
    "## Statistical Calculations"
   ]
  },
  {
   "cell_type": "markdown",
   "id": "db090b73-c7b6-4a7f-bad3-dd9ca78cc59c",
   "metadata": {},
   "source": [
    "### Average\n",
    "Below is the formula for calculating the current average, $\\mu_{n}$, for different fields with only the calculated average from one previous time step, $\\mu_{n-1}$, and the current value update for the field, $x_{n}$. This can be used on any of the fields present in the track dataset.\n",
    "\n",
    "$$\n",
    "\\mu_{n} = \\frac{(n-1)\\mu_{n-1} + x_{n}}{n}\n",
    "$$"
   ]
  },
  {
   "cell_type": "markdown",
   "id": "ec4dbeb1-f8db-468d-b5e0-77a56ee469b9",
   "metadata": {},
   "source": [
    "### Standard Deviation\n",
    "Below is the formula for calculating the current standard deviation, $\\sigma_{n}$, with only the previously calculated standard deviation from the last time step, $\\sigma_{n-1}$, and the current value update for the field, $x_{n}$. This can be used on any of the fields present in the track dataset.\n",
    "\n",
    "$$\n",
    "\\sigma_{n} = \\sqrt{\\frac{(n-1)\\sigma_{n-1}^{2} + (x_{n}-\\mu_{n})^2}{n}}\n",
    "$$"
   ]
  },
  {
   "cell_type": "markdown",
   "id": "57542758-8b97-4825-ad07-897419b34dce",
   "metadata": {},
   "source": [
    "## Smoothness Calculations"
   ]
  },
  {
   "cell_type": "markdown",
   "id": "a2b89223-3ac6-4674-981d-8f194ce5ea35",
   "metadata": {},
   "source": [
    "Below are the formulas for calculating both the smoothness $M(1)$ and $M(2)$ metrics. These metrics convey the relative visual smoothness of a signal processed from any of the fields either provided by the kinematic track data or features calculated throughout the script. Added variables $q$ and $c$ are also specified in the equations. $z_n$ is any field or calculated feature at the current time interval.\n",
    "$$\n",
    "q_{n} = \\frac{1}{n}(q_{n-1} * (n-1) + (z_{n} - z_{n-1}))\n",
    "$$\n",
    "$$\n",
    "M(1)_n = \\frac{1}{n}(M(1)_{n-1}*(n-1)+(z_{n}-z_{n-1}-q)^2)\n",
    "$$\n",
    "$$\n",
    "c_n = \\frac{1}{n}(c_{n-1}*(n-1)+|z_{n}-z_{n-1}|)\n",
    "$$\n",
    "$$\n",
    "M(2)_n=\\frac{M(1)_n}{c_n}\n",
    "$$"
   ]
  },
  {
   "cell_type": "markdown",
   "id": "d0f693fd-f5f7-4cf7-8724-5108675ae8d0",
   "metadata": {},
   "source": [
    "## Euclidean Distance - 3D\n",
    "\n",
    "Below is the three dimensional euclidean distance formula. For constructing the three dimensional coordinate space, we will use $latitude$ and $longitude$ of each track update as the $x$ and $y$ axis and $altitude$ as the $z$ axis. \n",
    "\n",
    "$$ d_{n}=||p-q|| = \\sqrt{(lat_{a}-lat_{b})^2+(lon_{a}-lon_{b})^2+(alt_{a}-alt_{b})^2}$$"
   ]
  },
  {
   "cell_type": "markdown",
   "id": "822fa7ce-a356-49e6-bd72-0ef1dd066261",
   "metadata": {},
   "source": [
    "## Curvature\n",
    "\n",
    "Using the three dimensional euclidean distance formula show above, curvature is calculated using the formula shown below where $a$, $b$, and $c$ are the calculated euclidean distances for 3 consecutive track updates. This curvature formula will be considered a short term measurement of curvature, work is being done to investigate what a longer interval curvature measurement would look like.\n",
    "\n",
    "$$ \n",
    "\\kappa_{n} = cos^{-1}\\frac{a^2-b^2-c^2}{2bc}\n",
    "$$"
   ]
  },
  {
   "cell_type": "markdown",
   "id": "0176ba3c-bd57-472f-bd9e-08d6581e5a54",
   "metadata": {},
   "source": [
    "## Heading\n",
    "\n",
    "$$\n",
    "h_{n} = tan^{-1}(lon_{n-1} - lon_{n}, lat_{n-1} - lat_{n})\n",
    "$$"
   ]
  },
  {
   "cell_type": "markdown",
   "id": "72117336-1c05-4c39-bb73-7a9324b0729a",
   "metadata": {},
   "source": [
    "## Manuverability Score\n",
    "\n",
    "$$\n",
    "\\phi_{n} = \\frac{\\mu_{speed}}{\\sigma_{heading}}\n",
    "$$"
   ]
  },
  {
   "cell_type": "markdown",
   "id": "28fc4991-daa1-4114-b310-59b6a8a24066",
   "metadata": {},
   "source": [
    "### Current Feature List\n",
    "\n",
    "1. Average of speed\n",
    "2. Average of heading\n",
    "3. Average of curvature\n",
    "4. Standard Deviation of speed\n",
    "5. Standard Deviation of heading\n",
    "6. Manuverability Score\n",
    "7. M(1) Smoothness of range\n",
    "8. M(1) Smoothness of azimuth\n",
    "9. M(1) Smoothness of elevation\n",
    "10. M(1) Smoothness of speed\n",
    "11. M(1) Smoothness of heading\n",
    "12. M(2) Smoothness of range\n",
    "13. M(2) Smoothness of azimuth\n",
    "14. M(2) Smoothness of elevation\n",
    "15. M(2) Smoothness of speed\n",
    "16. M(2) Smoothness of heading"
   ]
  },
  {
   "cell_type": "code",
   "execution_count": null,
   "id": "61e65240-1e4d-4964-8895-244649b00399",
   "metadata": {},
   "outputs": [],
   "source": []
  }
 ],
 "metadata": {
  "kernelspec": {
   "display_name": "Python 3 (ipykernel)",
   "language": "python",
   "name": "python3"
  },
  "language_info": {
   "codemirror_mode": {
    "name": "ipython",
    "version": 3
   },
   "file_extension": ".py",
   "mimetype": "text/x-python",
   "name": "python",
   "nbconvert_exporter": "python",
   "pygments_lexer": "ipython3",
   "version": "3.11.5"
  }
 },
 "nbformat": 4,
 "nbformat_minor": 5
}
