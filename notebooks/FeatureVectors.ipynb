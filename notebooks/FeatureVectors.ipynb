{
 "cells": [
  {
   "cell_type": "markdown",
   "id": "ae5f349a-6efa-4b2f-a4fa-9e8486b810fd",
   "metadata": {},
   "source": [
    "# Feature Vector Calculations\n",
    "The purpose of this notebook is to write out formulas for calculating feature vector updates and to document the thought process for the implementation of feature vectors and the dictionary outside of the final program."
   ]
  },
  {
   "cell_type": "markdown",
   "id": "b41a26bc-99b4-4cdc-8669-2c224bb9116f",
   "metadata": {},
   "source": [
    "## Statistical Calculations"
   ]
  },
  {
   "cell_type": "markdown",
   "id": "db090b73-c7b6-4a7f-bad3-dd9ca78cc59c",
   "metadata": {},
   "source": [
    "### Average\n",
    "Below is the formula for calculating the current average, $\\mu_{n}$, for different fields with only the calculated average from one previous time step, $\\mu_{n-1}$, and the current value update for the field, $x_{n}$. This can be used on any of the fields present in the track dataset.\n",
    "\n",
    "$$\n",
    "\\mu_{n} = \\frac{(n-1)\\mu_{n-1} + x_{n}}{n}\n",
    "$$"
   ]
  },
  {
   "cell_type": "markdown",
   "id": "ec4dbeb1-f8db-468d-b5e0-77a56ee469b9",
   "metadata": {},
   "source": [
    "### Standard Deviation\n",
    "Below is the formula for calculating the current standard deviation, $\\sigma_{n}$, with only the previously calculated standard deviation from the last time step, $\\sigma_{n-1}$, and the current value update for the field, $x_{n}$. This can be used on any of the fields present in the track dataset.\n",
    "\n",
    "$$\n",
    "\\sigma_{n} = \\sqrt{\\frac{(n-1)\\sigma_{n-1}^{2} + (x_{n}-\\mu_{n})^2}{n}}\n",
    "$$"
   ]
  },
  {
   "cell_type": "markdown",
   "id": "57542758-8b97-4825-ad07-897419b34dce",
   "metadata": {},
   "source": [
    "## Smoothness Calculations"
   ]
  },
  {
   "cell_type": "markdown",
   "id": "a2b89223-3ac6-4674-981d-8f194ce5ea35",
   "metadata": {},
   "source": [
    "Below are the formulas for calculating both the smoothness $M(1)$ and $M(2)$ metrics. These metrics convey the relative visual smoothness of a signal processed from any of the fields either provided by the kinematic track data or features calculated throughout the script. Added variables $q$ and $c$ are also specified in the equations. $z_n$ is any field or calculated feature at the current time interval.\n",
    "$$\n",
    "q_{n} = \\frac{1}{n}(q_{n-1} * (n-1) + (z_{n} - z_{n-1}))\n",
    "$$\n",
    "$$\n",
    "M(1)_n = \\frac{1}{n}(M(1)_{n-1}*(n-1)+(z_{n}-z_{n-1}-q)^2)\n",
    "$$\n",
    "$$\n",
    "c_n = \\frac{1}{n}(c_{n-1}*(n-1)+|z_{n}-z_{n-1}|)\n",
    "$$\n",
    "$$\n",
    "M(2)_n=\\frac{M(1)_n}{c_n}\n",
    "$$"
   ]
  },
  {
   "cell_type": "markdown",
   "id": "d0f693fd-f5f7-4cf7-8724-5108675ae8d0",
   "metadata": {},
   "source": [
    "## Euclidean Distance - 3D\n",
    "\n",
    "Below is the three dimensional euclidean distance formula. For constructing the three dimensional coordinate space, we will use $latitude$ and $longitude$ of each track update as the $x$ and $y$ axis and $altitude$ as the $z$ axis. \n",
    "\n",
    "$$ d_{n}=||p-q|| = \\sqrt{(lat_{a}-lat_{b})^2+(lon_{a}-lon_{b})^2+(alt_{a}-alt_{b})^2}$$"
   ]
  },
  {
   "cell_type": "markdown",
   "id": "822fa7ce-a356-49e6-bd72-0ef1dd066261",
   "metadata": {},
   "source": [
    "## Curvature\n",
    "\n",
    "Using the three dimensional euclidean distance formula show above, curvature is calculated using the formula shown below where $a$, $b$, and $c$ are the calculated euclidean distances between 3 consecutive track updates (update 1 to 2, update 2 to 3, and update 1 to 3). This curvature formula will be considered a short term measurement of curvature, work is being done to investigate what a longer interval curvature measurement would look like.\n",
    "\n",
    "$$ \n",
    "\\kappa_{n} = cos^{-1}\\frac{a^2-b^2-c^2}{2bc}\n",
    "$$"
   ]
  },
  {
   "cell_type": "markdown",
   "id": "0176ba3c-bd57-472f-bd9e-08d6581e5a54",
   "metadata": {},
   "source": [
    "## Heading\n",
    "\n",
    "$$\n",
    "h_{n} = tan^{-1}(lon_{n-1} - lon_{n}, lat_{n-1} - lat_{n})\n",
    "$$"
   ]
  },
  {
   "cell_type": "markdown",
   "id": "72117336-1c05-4c39-bb73-7a9324b0729a",
   "metadata": {},
   "source": [
    "## Manuverability Score\n",
    "\n",
    "$$\n",
    "\\phi_{n} = \\frac{\\mu_{speed}}{\\sigma_{heading}}\n",
    "$$"
   ]
  },
  {
   "cell_type": "markdown",
   "id": "28fc4991-daa1-4114-b310-59b6a8a24066",
   "metadata": {},
   "source": [
    "### Current Feature List\n",
    "\n",
    "1. Average of speed\n",
    "2. Average of heading\n",
    "3. Average of curvature\n",
    "4. Standard Deviation of speed\n",
    "5. Standard Deviation of heading\n",
    "6. Manuverability Score\n",
    "7. M(1) Smoothness of range\n",
    "8. M(1) Smoothness of azimuth\n",
    "9. M(1) Smoothness of elevation\n",
    "10. M(1) Smoothness of speed\n",
    "11. M(1) Smoothness of heading\n",
    "12. M(2) Smoothness of range\n",
    "13. M(2) Smoothness of azimuth\n",
    "14. M(2) Smoothness of elevation\n",
    "15. M(2) Smoothness of speed\n",
    "16. M(2) Smoothness of heading"
   ]
  },
  {
   "cell_type": "markdown",
   "id": "22105c2c-edd6-4f26-a759-e729bd1b7b91",
   "metadata": {},
   "source": [
    "# Feature Downselection"
   ]
  },
  {
   "cell_type": "markdown",
   "id": "daf00cf0-6fdd-411d-94aa-7bcd040e561b",
   "metadata": {},
   "source": [
    "## Import and Process Data"
   ]
  },
  {
   "cell_type": "code",
   "execution_count": 130,
   "id": "495fc8d0-28b6-4cd7-9d13-842bddd6f26c",
   "metadata": {},
   "outputs": [],
   "source": [
    "import matplotlib.pyplot as plt\n",
    "import pandas as pd\n",
    "import numpy as np\n",
    "import itertools\n",
    "import seaborn as sns"
   ]
  },
  {
   "cell_type": "code",
   "execution_count": 10,
   "id": "0d65e1e7-3bea-400f-929d-772d5eadaf57",
   "metadata": {},
   "outputs": [
    {
     "name": "stdout",
     "output_type": "stream",
     "text": [
      "['UpdateTime', 'Position_lat_', 'Position_lon_', 'Position_altMSL_', 'Speed', 'UUID', 'Range', 'AZ', 'EL', 'RadialVelocity']\n"
     ]
    }
   ],
   "source": [
    "gps_df = pd.read_csv(\"../data/raw/gps/processedGPSData.csv\")\n",
    "print(list(gps_df.columns))"
   ]
  },
  {
   "cell_type": "markdown",
   "id": "c234df4c-f3b4-4ddd-93d6-780c4b42735e",
   "metadata": {},
   "source": [
    "## Feature Calculations"
   ]
  },
  {
   "cell_type": "code",
   "execution_count": 106,
   "id": "71de44df-b5a3-44b1-8cfe-6f5c9a1f123d",
   "metadata": {},
   "outputs": [],
   "source": [
    "uuid_groups = gps_df.groupby('UUID')\n",
    "feature_list = ['Average Speed', 'Standard Deviation Speed', 'Average Heading', 'Standard Deviation Heading', 'Average Curvature',\n",
    "               'Manuverability Score', 'M1 Smoothness Range', 'M1 Smoothness AZ', 'M1 Smoothness EL',\n",
    "               'M1 Smoothness Speed', 'M1 Smoothness Heading', 'M2 Smoothness Range', 'M2 Smoothness AZ', 'M2 Smoothness EL',\n",
    "               'M2 Smoothness Speed', 'M2 Smoothness Heading']\n",
    "calc_dict = dict()\n",
    "for feature in feature_list:\n",
    "    calc_dict[feature] = []\n",
    "\n",
    "def calculate_average_curvature(df):\n",
    "    a = np.sqrt((group[\"Position_lat_\"] - group[\"Position_lat_\"].shift(-1))**2 + \n",
    "                (group[\"Position_lon_\"] - group[\"Position_lon_\"].shift(-1))**2 + \n",
    "                (group[\"Position_altMSL_\"] - group[\"Position_altMSL_\"].shift(-1))**2)\n",
    "    b = np.sqrt((group[\"Position_lat_\"] - group[\"Position_lat_\"].shift(-2))**2 + \n",
    "                (group[\"Position_lon_\"] - group[\"Position_lon_\"].shift(-2))**2 + \n",
    "                (group[\"Position_altMSL_\"] - group[\"Position_altMSL_\"].shift(-2))**2)\n",
    "    c = np.sqrt((group[\"Position_lat_\"].shift(-1) - group[\"Position_lat_\"].shift(-2))**2 + \n",
    "                (group[\"Position_lon_\"].shift(-1) - group[\"Position_lon_\"].shift(-2))**2 + \n",
    "                (group[\"Position_altMSL_\"].shift(-1) - group[\"Position_altMSL_\"].shift(-2))**2)\n",
    "    with np.errstate(invalid=\"ignore\"): \n",
    "        # arccos throwing invalid value error on what seems to be valid inputs\n",
    "        curvature = np.arccos((a[:-2]**2 - b[:-2]**2 - c[:-2]**2)/(2 * b[:-2] * c[:-2]))\n",
    "    return curvature.mean()\n",
    "\n",
    "def calculate_m1(df, field):\n",
    "    diff = (df[field].shift(-1) - df[field])[:-1]\n",
    "    q = np.sum(diff) / len(df)\n",
    "    m1 = np.sum((diff - q)**2)/len(df)\n",
    "    return m1\n",
    "    \n",
    "def calculate_m2(df,field):\n",
    "    diff = (df[field].shift(-1) - df[field])[:-1]\n",
    "    q = np.sum(diff) / len(df)\n",
    "    m1 = np.sum((diff - q)**2) / len(df)\n",
    "    c = np.sum(np.abs(diff)) / len(df)\n",
    "    if c == 0:\n",
    "        return 0\n",
    "    m2 = m1/c\n",
    "    return m2\n",
    "\n",
    "for uuid, group in uuid_groups:\n",
    "    mean_speed = group['Speed'].mean()\n",
    "    calc_dict['Average Speed'].append(mean_speed)\n",
    "    calc_dict['Standard Deviation Speed'].append(group['Speed'].std())\n",
    "    heading = np.arctan2(group[\"Position_lat_\"] - group[\"Position_lat_\"].shift(-1), group[\"Position_lon_\"] - group[\"Position_lon_\"].shift(-1))\n",
    "    group = group.assign(Heading=heading)\n",
    "    calc_dict['Average Heading'].append(group['Heading'].mean())\n",
    "    heading_std = heading.std()\n",
    "    calc_dict['Standard Deviation Heading'].append(group['Heading'].std())\n",
    "    calc_dict['Average Curvature'].append(calculate_average_curvature(group))\n",
    "    calc_dict['Manuverability Score'].append(mean_speed/heading_std)\n",
    "    for field in ['Speed', 'Range', 'AZ', 'EL', 'Heading']:\n",
    "        calc_dict['M1 Smoothness ' + field].append(calculate_m1(group, field))\n",
    "        calc_dict['M2 Smoothness ' + field].append(calculate_m2(group, field))\n"
   ]
  },
  {
   "cell_type": "code",
   "execution_count": null,
   "id": "29f5d801-2997-4703-9676-404044640838",
   "metadata": {},
   "outputs": [],
   "source": [
    "for key, item in calc_dict.items():\n",
    "    plt.scatter(item, range(len(item)))\n",
    "    plt.title(key)\n",
    "    plt.show()"
   ]
  },
  {
   "cell_type": "markdown",
   "id": "b2f99308-445b-4e58-b065-d72238982bd3",
   "metadata": {},
   "source": [
    "## Correlation Between Proposed Features"
   ]
  },
  {
   "cell_type": "code",
   "execution_count": null,
   "id": "a4d554ac-2101-42a2-aba4-758062949dfb",
   "metadata": {},
   "outputs": [],
   "source": [
    "plt.figure(figsize=(10,8), dpi =500)\n",
    "sns.heatmap(np.corrcoef(list(calc_dict.values())),annot=True,fmt=\".2f\", linewidth=.5, xticklabels=calc_dict.keys(), yticklabels=calc_dict.keys())\n"
   ]
  },
  {
   "cell_type": "code",
   "execution_count": null,
   "id": "53743d54-4c06-4cfc-ac9b-3fde11d461c1",
   "metadata": {},
   "outputs": [],
   "source": []
  }
 ],
 "metadata": {
  "kernelspec": {
   "display_name": "Python 3 (ipykernel)",
   "language": "python",
   "name": "python3"
  },
  "language_info": {
   "codemirror_mode": {
    "name": "ipython",
    "version": 3
   },
   "file_extension": ".py",
   "mimetype": "text/x-python",
   "name": "python",
   "nbconvert_exporter": "python",
   "pygments_lexer": "ipython3",
   "version": "3.11.7"
  }
 },
 "nbformat": 4,
 "nbformat_minor": 5
}
