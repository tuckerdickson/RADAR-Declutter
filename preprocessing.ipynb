{
 "cells": [
  {
   "cell_type": "markdown",
   "metadata": {},
   "source": [
    "# README\n",
    "\n",
    "This notebook is intended to serve as a test site for code related to experimenting with the ECCO bird data and simulated drone data. \n",
    "\n",
    "The notebook is organized by sections as follows:\n",
    "<ol type=\"I\">\n",
    "    <li><b>General:</b> code meant to be used across all of the sections (e.g., imports, common constants, helper functions, etc.).\n",
    "    <li><b>Preprocessing:</b> anything having to do with preprocessing the datasets (e.g., dropping columns, reformatting fields, etc.).\n",
    "    <li><b>Principal Component Analysis:</b> dedicated to analyzing data with PCA.\n",
    "    <li><b>Comparing Classifiers:</b>: testing different classifiers and comparing for accuracy. \n",
    "</ol>\n",
    "These sections are meant to be (more or less) independent of each other. For example, <b>Principal Component Analysis</b> doesn't need to be run before <b>Comparing Classifiers</b>. You can choose which preprocessing cells to run depending on your needs.\n"
   ]
  },
  {
   "cell_type": "markdown",
   "metadata": {},
   "source": [
    "# I. General"
   ]
  },
  {
   "cell_type": "markdown",
   "metadata": {},
   "source": [
    "### Imports"
   ]
  },
  {
   "cell_type": "code",
   "execution_count": 11,
   "metadata": {},
   "outputs": [],
   "source": [
    "import matplotlib.pyplot as plt\n",
    "import pandas as pd\n",
    "import seaborn as sns\n",
    "\n",
    "from datetime import datetime\n",
    "from sklearn.ensemble import RandomForestClassifier\n",
    "from sklearn.decomposition import PCA\n",
    "from sklearn.preprocessing import StandardScaler"
   ]
  },
  {
   "cell_type": "markdown",
   "metadata": {},
   "source": [
    "### Constants"
   ]
  },
  {
   "cell_type": "code",
   "execution_count": 12,
   "metadata": {},
   "outputs": [],
   "source": [
    "# ecco fields deemed not important by aaron\n",
    "NI_ECCO = ['User Edit Time', 'Type', 'Associated UUID', 'Note', 'Combat ID', \n",
    "           'Creator', 'Editor', 'AZ', 'Range', '2525', 'Closest Distance', \n",
    "           'Course', 'AIS MMSI', 'AIS IMO', 'AIS Call Sign', 'AIS Ship Type', \n",
    "           'AIS Destination', 'AIS ETA', 'Fused', 'Fused Tracks']\n",
    "\n",
    "# fields that only have one or two unique values:\n",
    "# Source Name:  ['RPS82-90deg' 'ctcve']\n",
    "# Source Class: ['RADAR']\n",
    "# Source LID:   [21. 49.]\n",
    "# Closest Time: [0.]\n",
    "REPEAT_ECCO = ['Source Name', 'Source Class', 'Source LID', 'Closest Time']\n",
    "\n",
    "# all other ecco fields (aside from position, velocity, heading)\n",
    "OTHER_ECCO = ['UUID', 'Name', 'Create Time', 'Object ID', 'Origin Position (lat)',\n",
    "              'Origin Position (lon)', 'Origin Position (alt MSL)', 'Radar Cross Section',\n",
    "              'Source ID', 'Deleted', 'Deleted Time']\n",
    "\n",
    "# the ecco fields related to time\n",
    "TIME_COLS = ['Create Time', 'Update Time', 'Deleted Time']\n",
    "\n",
    "# mapping between ecco and simulated\n",
    "ECCO_SIMU_MAP = {\n",
    "    'Update Time': 'UpdateTime',\n",
    "    'Range To Contact': 'Range',\n",
    "    'Bearing To Contact': 'AZ',\n",
    "    'EL': 'EL',\n",
    "    'Position (lat)': 'Position_lat_',\n",
    "    'Position (lon)': 'Position_lon_',\n",
    "    'Position (alt MSL)': 'Position_altMSL_',\n",
    "    'Speed': 'Speed',\n",
    "    'Radial Velocity': 'RadialVelocity'\n",
    "}\n"
   ]
  },
  {
   "cell_type": "markdown",
   "metadata": {},
   "source": [
    "### Helper Functions"
   ]
  },
  {
   "cell_type": "code",
   "execution_count": 13,
   "metadata": {},
   "outputs": [],
   "source": [
    "# prints a summary of each dataframe passed in\n",
    "# - dfs: a list of pandas dataframes\n",
    "def printInfo(dfs):\n",
    "    for df in dfs:\n",
    "        print(df.info())\n",
    "        print('\\n======================================================\\n')\n",
    "\n",
    "# reformats the time columns in ecco\n",
    "# time_str: a time value from ecco (formatted as a string)\n",
    "def formatTime(time_str):\n",
    "    # convert the time (a string) to a datetime\n",
    "    time_obj = datetime.strptime(time_str, '%Y-%m-%dT%H:%M:%S.%fZ')\n",
    "    return time_obj\n"
   ]
  },
  {
   "cell_type": "markdown",
   "metadata": {},
   "source": [
    "### Load ECCO and Simulated Datasets"
   ]
  },
  {
   "cell_type": "code",
   "execution_count": 14,
   "metadata": {},
   "outputs": [
    {
     "name": "stdout",
     "output_type": "stream",
     "text": [
      "<class 'pandas.core.frame.DataFrame'>\n",
      "RangeIndex: 17587 entries, 0 to 17586\n",
      "Data columns (total 44 columns):\n",
      " #   Column                     Non-Null Count  Dtype  \n",
      "---  ------                     --------------  -----  \n",
      " 0   UUID                       9553 non-null   object \n",
      " 1   Name                       9553 non-null   object \n",
      " 2   Create Time                9553 non-null   object \n",
      " 3   Update Time                9553 non-null   object \n",
      " 4   User Edit Time             62 non-null     object \n",
      " 5   Type                       9553 non-null   object \n",
      " 6   Associated UUID            9553 non-null   object \n",
      " 7   Note                       0 non-null      float64\n",
      " 8   Source Name                9553 non-null   object \n",
      " 9   Source Class               9553 non-null   object \n",
      " 10  Source LID                 9553 non-null   float64\n",
      " 11  Combat ID                  9553 non-null   object \n",
      " 12  Object ID                  9553 non-null   object \n",
      " 13  Range To Contact           9553 non-null   float64\n",
      " 14  Bearing To Contact         9553 non-null   float64\n",
      " 15  Creator                    0 non-null      float64\n",
      " 16  Editor                     0 non-null      float64\n",
      " 17  AZ                         9551 non-null   float64\n",
      " 18  EL                         9551 non-null   float64\n",
      " 19  Range                      9551 non-null   float64\n",
      " 20  Position (lat)             9553 non-null   float64\n",
      " 21  Position (lon)             9553 non-null   float64\n",
      " 22  Position (alt MSL)         9553 non-null   float64\n",
      " 23  Origin Position (lat)      9551 non-null   float64\n",
      " 24  Origin Position (lon)      9551 non-null   float64\n",
      " 25  Origin Position (alt MSL)  9551 non-null   float64\n",
      " 26  2525                       9553 non-null   object \n",
      " 27  Speed                      9553 non-null   float64\n",
      " 28  Radar Cross Section        9553 non-null   float64\n",
      " 29  Closest Time               9553 non-null   float64\n",
      " 30  Course                     0 non-null      float64\n",
      " 31  Source ID                  9553 non-null   float64\n",
      " 32  Radial Velocity            9553 non-null   float64\n",
      " 33  Closest Distance           9553 non-null   float64\n",
      " 34  Deleted                    9553 non-null   object \n",
      " 35  Deleted Time               9553 non-null   object \n",
      " 36  AIS MMSI                   9553 non-null   float64\n",
      " 37  AIS IMO                    9553 non-null   float64\n",
      " 38  AIS Call Sign              0 non-null      float64\n",
      " 39  AIS Ship Type              0 non-null      float64\n",
      " 40  AIS Destination            0 non-null      float64\n",
      " 41  AIS ETA                    0 non-null      float64\n",
      " 42  Fused                      9553 non-null   object \n",
      " 43  Fused Tracks               1529 non-null   object \n",
      "dtypes: float64(28), object(16)\n",
      "memory usage: 5.9+ MB\n",
      "None\n",
      "\n",
      "======================================================\n",
      "\n",
      "<class 'pandas.core.frame.DataFrame'>\n",
      "RangeIndex: 228 entries, 0 to 227\n",
      "Data columns (total 9 columns):\n",
      " #   Column            Non-Null Count  Dtype  \n",
      "---  ------            --------------  -----  \n",
      " 0   UpdateTime        228 non-null    float64\n",
      " 1   AZ                228 non-null    float64\n",
      " 2   EL                228 non-null    float64\n",
      " 3   Range             228 non-null    float64\n",
      " 4   Position_lat_     228 non-null    float64\n",
      " 5   Position_lon_     228 non-null    float64\n",
      " 6   Position_altMSL_  228 non-null    float64\n",
      " 7   Speed             228 non-null    float64\n",
      " 8   RadialVelocity    228 non-null    float64\n",
      "dtypes: float64(9)\n",
      "memory usage: 16.2 KB\n",
      "None\n",
      "\n",
      "======================================================\n",
      "\n"
     ]
    },
    {
     "name": "stderr",
     "output_type": "stream",
     "text": [
      "/var/folders/sx/0gyr6z3573gdm1mnzzc8vw980000gn/T/ipykernel_47795/601345300.py:2: DtypeWarning: Columns (0,1,2,3,4,5,6,8,9,11,12,26,34,35,42,43) have mixed types. Specify dtype option on import or set low_memory=False.\n",
      "  df_ecco = pd.read_csv('Data/ecco.csv')\n"
     ]
    }
   ],
   "source": [
    "# load ecco dataset\n",
    "df_ecco = pd.read_csv('Data/ecco.csv')\n",
    "df_ecco.name = 'ecco.csv'\n",
    "\n",
    "# load simulated dataset\n",
    "df_simu = pd.read_csv('Data/simulatedDroneData.csv')\n",
    "df_simu.name = 'simulatedDroneData.csv'\n",
    "\n",
    "# display a summary of the fields for each dataset\n",
    "printInfo([df_ecco, df_simu])"
   ]
  },
  {
   "cell_type": "markdown",
   "metadata": {},
   "source": [
    "# II. Preprocessing"
   ]
  },
  {
   "cell_type": "markdown",
   "metadata": {},
   "source": [
    "### Drop Rows and Columns from ECCO"
   ]
  },
  {
   "cell_type": "code",
   "execution_count": 15,
   "metadata": {},
   "outputs": [
    {
     "name": "stdout",
     "output_type": "stream",
     "text": [
      "dropping the following fields:\n",
      "['User Edit Time', 'Type', 'Associated UUID', 'Note', 'Combat ID', 'Creator', 'Editor', 'AZ', 'Range', '2525', 'Closest Distance', 'Course', 'AIS MMSI', 'AIS IMO', 'AIS Call Sign', 'AIS Ship Type', 'AIS Destination', 'AIS ETA', 'Fused', 'Fused Tracks', 'Source Name', 'Source Class', 'Source LID', 'Closest Time']...\n",
      "\n",
      "<class 'pandas.core.frame.DataFrame'>\n",
      "RangeIndex: 17587 entries, 0 to 17586\n",
      "Data columns (total 20 columns):\n",
      " #   Column                     Non-Null Count  Dtype  \n",
      "---  ------                     --------------  -----  \n",
      " 0   UUID                       9553 non-null   object \n",
      " 1   Name                       9553 non-null   object \n",
      " 2   Create Time                9553 non-null   object \n",
      " 3   Update Time                9553 non-null   object \n",
      " 4   Object ID                  9553 non-null   object \n",
      " 5   Range To Contact           9553 non-null   float64\n",
      " 6   Bearing To Contact         9553 non-null   float64\n",
      " 7   EL                         9551 non-null   float64\n",
      " 8   Position (lat)             9553 non-null   float64\n",
      " 9   Position (lon)             9553 non-null   float64\n",
      " 10  Position (alt MSL)         9553 non-null   float64\n",
      " 11  Origin Position (lat)      9551 non-null   float64\n",
      " 12  Origin Position (lon)      9551 non-null   float64\n",
      " 13  Origin Position (alt MSL)  9551 non-null   float64\n",
      " 14  Speed                      9553 non-null   float64\n",
      " 15  Radar Cross Section        9553 non-null   float64\n",
      " 16  Source ID                  9553 non-null   float64\n",
      " 17  Radial Velocity            9553 non-null   float64\n",
      " 18  Deleted                    9553 non-null   object \n",
      " 19  Deleted Time               9553 non-null   object \n",
      "dtypes: float64(13), object(7)\n",
      "memory usage: 2.7+ MB\n",
      "None\n",
      "\n",
      "======================================================\n",
      "\n",
      "rows before dropping nan: 17587\n",
      "rows after dropping nan: 9551\n"
     ]
    }
   ],
   "source": [
    "# drop non-important features from ecco dataset\n",
    "DROP_ECCO = NI_ECCO + REPEAT_ECCO\n",
    "print(f'dropping the following fields:\\n{DROP_ECCO}...\\n')\n",
    "df_ecco = df_ecco.drop(columns=DROP_ECCO)\n",
    "\n",
    "# display a summary of the fields for each dataset\n",
    "printInfo([df_ecco])\n",
    "\n",
    "# drop all rows with nan\n",
    "print(f'rows before dropping nan: {len(df_ecco)}')\n",
    "df_ecco = df_ecco.dropna()\n",
    "print(f'rows after dropping nan: {len(df_ecco)}')\n"
   ]
  },
  {
   "cell_type": "markdown",
   "metadata": {},
   "source": [
    "### Reformat Time Columns in ECCO"
   ]
  },
  {
   "cell_type": "code",
   "execution_count": 16,
   "metadata": {},
   "outputs": [
    {
     "name": "stdout",
     "output_type": "stream",
     "text": [
      "Time columns before reformatting:\n",
      "Create Time: <class 'str'>\n",
      "Update Time: <class 'str'>\n",
      "Deleted Time: <class 'str'>\n",
      "                   Create Time                  Update Time  \\\n",
      "0  2022-06-16T17:52:01.898832Z  2022-06-16T17:54:45.692026Z   \n",
      "1  2022-06-16T17:53:00.654140Z  2022-06-16T17:54:45.692520Z   \n",
      "2  2022-06-16T17:52:01.898832Z  2022-06-16T17:54:45.725468Z   \n",
      "3  2022-06-16T17:52:01.898832Z  2022-06-16T17:54:45.829479Z   \n",
      "4  2022-06-16T17:52:06.462136Z  2022-06-16T17:54:45.840658Z   \n",
      "\n",
      "                  Deleted Time  \n",
      "0  2022-06-16T18:00:30.308269Z  \n",
      "1  2022-06-16T17:58:09.980982Z  \n",
      "2  2022-06-16T18:00:30.308269Z  \n",
      "3  2022-06-16T18:00:30.308269Z  \n",
      "4  2022-06-16T17:58:16.230071Z  \n",
      "\n",
      "======================================================\n",
      "\n",
      "Time columns after reformatting:\n",
      "Create Time: <class 'pandas._libs.tslibs.timestamps.Timestamp'>\n",
      "Update Time: <class 'pandas._libs.tslibs.timestamps.Timestamp'>\n",
      "Deleted Time: <class 'pandas._libs.tslibs.timestamps.Timestamp'>\n",
      "                 Create Time                Update Time  \\\n",
      "0 2022-06-16 17:52:01.898832 2022-06-16 17:54:45.692026   \n",
      "1 2022-06-16 17:53:00.654140 2022-06-16 17:54:45.692520   \n",
      "2 2022-06-16 17:52:01.898832 2022-06-16 17:54:45.725468   \n",
      "3 2022-06-16 17:52:01.898832 2022-06-16 17:54:45.829479   \n",
      "4 2022-06-16 17:52:06.462136 2022-06-16 17:54:45.840658   \n",
      "\n",
      "                Deleted Time  \n",
      "0 2022-06-16 18:00:30.308269  \n",
      "1 2022-06-16 17:58:09.980982  \n",
      "2 2022-06-16 18:00:30.308269  \n",
      "3 2022-06-16 18:00:30.308269  \n",
      "4 2022-06-16 17:58:16.230071  \n"
     ]
    }
   ],
   "source": [
    "# display the first few values of each time column before formatting\n",
    "print('Time columns before reformatting:')\n",
    "for tc in TIME_COLS:\n",
    "    print(f'{tc}: {type(df_ecco[tc][0])}')\n",
    "print(df_ecco[TIME_COLS].head())\n",
    "\n",
    "# reformat each of the time columns (one-by-one)\n",
    "for tc in TIME_COLS:\n",
    "    df_ecco[tc] = df_ecco[tc].apply(formatTime)\n",
    "\n",
    "# display the first few values of each time column after formatting\n",
    "print('\\n======================================================\\n')\n",
    "print('Time columns after reformatting:')\n",
    "for tc in TIME_COLS:\n",
    "    print(f'{tc}: {type(df_ecco[tc][0])}')\n",
    "print(df_ecco[TIME_COLS].head())\n"
   ]
  },
  {
   "cell_type": "markdown",
   "metadata": {},
   "source": [
    "### Match ECCO Fields to Simulated Fields"
   ]
  },
  {
   "cell_type": "code",
   "execution_count": 17,
   "metadata": {},
   "outputs": [
    {
     "name": "stdout",
     "output_type": "stream",
     "text": [
      "are the ecco and simu column names equal? True\n"
     ]
    }
   ],
   "source": [
    "# drop all remaining columns from ecco that aren't in simu\n",
    "df_ecco = df_ecco.drop(columns=OTHER_ECCO)\n",
    "\n",
    "# rename all of the ecco columns to match simu\n",
    "df_ecco = df_ecco.rename(columns=ECCO_SIMU_MAP, errors='raise')\n",
    "\n",
    "# reorder df_ecco columns to match up with df_simu\n",
    "df_ecco = df_ecco.reindex(columns=df_simu.columns)\n",
    "\n",
    "# compare the column names of ecco and simu\n",
    "same = df_ecco.columns.to_list() == df_simu.columns.to_list()\n",
    "print(f'are the ecco and simu column names equal? {same}')\n"
   ]
  },
  {
   "cell_type": "markdown",
   "metadata": {},
   "source": [
    "### Combine ECCO and Simulated into Dataset X and Labels y"
   ]
  },
  {
   "cell_type": "code",
   "execution_count": 18,
   "metadata": {},
   "outputs": [],
   "source": [
    "# add labels to ecco and simu\n",
    "df_ecco['Label'] = 0\n",
    "df_simu['Label'] = 1\n",
    "\n",
    "# combine ecco and simu into one dataset\n",
    "X = pd.concat([df_ecco, df_simu])\n",
    "\n",
    "# create the labels using the label column of X\n",
    "y = X['Label']\n",
    "\n",
    "# drop the label column from X\n",
    "X = X.drop(columns='Label')\n",
    "\n",
    "# for now, also drop times\n",
    "X = X.drop(columns='UpdateTime')\n"
   ]
  },
  {
   "cell_type": "markdown",
   "metadata": {},
   "source": [
    "### Scale the Data"
   ]
  },
  {
   "cell_type": "code",
   "execution_count": null,
   "metadata": {},
   "outputs": [],
   "source": [
    "# the scaled data should have a mean of 0 and standard deviation of 1\n",
    "scaler = StandardScaler()\n",
    "scaler.fit(X)\n",
    "scaled_X = pd.DataFrame(scaler.transform(X))\n"
   ]
  },
  {
   "cell_type": "markdown",
   "metadata": {},
   "source": [
    "# III. Principal Component Analysis"
   ]
  },
  {
   "cell_type": "markdown",
   "metadata": {},
   "source": [
    "### Perform PCA "
   ]
  },
  {
   "cell_type": "code",
   "execution_count": 10,
   "metadata": {},
   "outputs": [
    {
     "data": {
      "image/png": "[encoded data removed]",
      "text/plain": [
       "<Figure size 640x480 with 1 Axes>"
      ]
     },
     "metadata": {},
     "output_type": "display_data"
    },
    {
     "data": {
      "text/plain": [
       "<Axes: >"
      ]
     },
     "execution_count": 10,
     "metadata": {},
     "output_type": "execute_result"
    },
    {
     "data": {
      "image/png": "[encoded data removed]",
      "text/plain": [
       "<Figure size 640x480 with 2 Axes>"
      ]
     },
     "metadata": {},
     "output_type": "display_data"
    }
   ],
   "source": [
    "# perform PCA on the scaled data\n",
    "pca = PCA(n_components=2)\n",
    "pca.fit(scaled_X)\n",
    "X_pca = pca.transform(scaled_X)\n",
    "\n",
    "# plot the first PC vs the second PC\n",
    "plot = plt.scatter(X_pca[:, 0], X_pca[:, 1], c=y)\n",
    "plt.xlabel('First Principal Component')\n",
    "plt.ylabel('Second Principal Component')\n",
    "plt.title('PCA Visualization of ECCO and Simulated Data')\n",
    "plt.legend(handles=plot.legend_elements()[0], labels=['Biological', 'Man-made'])\n",
    "plt.show()\n",
    "\n",
    "components = pd.DataFrame(pca.components_, columns=X.columns)\n",
    "sns.heatmap(components)\n"
   ]
  },
  {
   "cell_type": "markdown",
   "metadata": {},
   "source": []
  },
  {
   "cell_type": "markdown",
   "metadata": {},
   "source": [
    "# IV. Comparing Classifiers"
   ]
  },
  {
   "cell_type": "code",
   "execution_count": null,
   "metadata": {},
   "outputs": [],
   "source": []
  }
 ],
 "metadata": {
  "kernelspec": {
   "display_name": "Python 3",
   "language": "python",
   "name": "python3"
  },
  "language_info": {
   "codemirror_mode": {
    "name": "ipython",
    "version": 3
   },
   "file_extension": ".py",
   "mimetype": "text/x-python",
   "name": "python",
   "nbconvert_exporter": "python",
   "pygments_lexer": "ipython3",
   "version": "3.12.0"
  }
 },
 "nbformat": 4,
 "nbformat_minor": 2
}
