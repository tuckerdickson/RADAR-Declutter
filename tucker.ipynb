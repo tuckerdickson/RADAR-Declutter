{
 "cells": [
  {
   "cell_type": "code",
   "execution_count": 42,
   "metadata": {},
   "outputs": [],
   "source": [
    "import pandas as pd"
   ]
  },
  {
   "cell_type": "code",
   "execution_count": 44,
   "metadata": {},
   "outputs": [
    {
     "name": "stdout",
     "output_type": "stream",
     "text": [
      "Columns in ecco.csv: 44\n",
      "Columns in simulatedDroneData.csv: 5\n"
     ]
    },
    {
     "name": "stderr",
     "output_type": "stream",
     "text": [
      "/var/folders/sx/0gyr6z3573gdm1mnzzc8vw980000gn/T/ipykernel_71285/673809090.py:1: DtypeWarning: Columns (0,1,2,3,4,5,6,8,9,11,12,26,34,35,42,43) have mixed types. Specify dtype option on import or set low_memory=False.\n",
      "  df_ecco = pd.read_csv('Data/ecco.csv')\n"
     ]
    }
   ],
   "source": [
    "df_ecco = pd.read_csv('Data/ecco.csv')\n",
    "df_ecco.name = 'ecco.csv'\n",
    "\n",
    "df_simu = pd.read_csv('Data/simulatedDroneData.csv')\n",
    "df_simu.name = 'simulatedDroneData.csv'\n",
    "\n",
    "print(f'Columns in {df_ecco.name}: {len(df_ecco.columns)}')\n",
    "print(f'Columns in {df_simu.name}: {len(df_simu.columns)}')"
   ]
  },
  {
   "cell_type": "code",
   "execution_count": 45,
   "metadata": {},
   "outputs": [
    {
     "name": "stdout",
     "output_type": "stream",
     "text": [
      "Null fields in ecco.csv:\n",
      "['Note', 'Creator', 'Editor', 'Course', 'AIS Call Sign', 'AIS Ship Type', 'AIS Destination', 'AIS ETA']\n",
      "\n",
      "Dropping Null fields in ecco.csv...\n",
      "Columns in ecco.csv: 36\n"
     ]
    }
   ],
   "source": [
    "null_mask = df_ecco.isnull().all(axis=0)\n",
    "null_fields = df_ecco.columns[null_mask].to_list()\n",
    "print(f'Null fields in {df_ecco.name}:\\n{null_fields}')\n",
    "\n",
    "if len(null_fields) > 0:\n",
    "    print(f'\\nDropping Null fields in {df_ecco.name}...')\n",
    "    df_ecco.drop(null_fields, axis=1, inplace=True)\n",
    "    print(f'Columns in {df_ecco.name}: {len(df_ecco.columns)}')\n",
    "\n",
    "\n"
   ]
  },
  {
   "cell_type": "code",
   "execution_count": null,
   "metadata": {},
   "outputs": [],
   "source": []
  }
 ],
 "metadata": {
  "kernelspec": {
   "display_name": "Python 3",
   "language": "python",
   "name": "python3"
  },
  "language_info": {
   "codemirror_mode": {
    "name": "ipython",
    "version": 3
   },
   "file_extension": ".py",
   "mimetype": "text/x-python",
   "name": "python",
   "nbconvert_exporter": "python",
   "pygments_lexer": "ipython3",
   "version": "3.12.0"
  }
 },
 "nbformat": 4,
 "nbformat_minor": 2
}
