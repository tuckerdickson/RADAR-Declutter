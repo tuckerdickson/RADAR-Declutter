{
 "cells": [
  {
   "cell_type": "code",
   "execution_count": 1,
   "metadata": {},
   "outputs": [],
   "source": [
    "import pandas as pd"
   ]
  },
  {
   "cell_type": "markdown",
   "metadata": {},
   "source": [
    "# Constants"
   ]
  },
  {
   "cell_type": "code",
   "execution_count": 2,
   "metadata": {},
   "outputs": [],
   "source": [
    "# ecco fields deemed not important by aaron\n",
    "DROP_ECCO = ['Type', 'Associated UUID', 'Note', 'Combat ID', \n",
    "             'Creator', 'Editor', 'AZ', 'Range', '2525', 'Closest Distance', \n",
    "             'Course', 'AIS MMSI', 'AIS IMO', 'AIS Call Sign', 'AIS Ship Type', \n",
    "             'AIS Destination', 'AIS ETA', 'Fused', 'Fused Tracks']\n"
   ]
  },
  {
   "cell_type": "markdown",
   "metadata": {},
   "source": [
    "# Helper Functions"
   ]
  },
  {
   "cell_type": "code",
   "execution_count": 3,
   "metadata": {},
   "outputs": [],
   "source": [
    "def printInfo(df_ecco, df_simu):\n",
    "    print(f'Columns in {df_ecco.name}: {len(df_ecco.columns)}\\n')\n",
    "    print(df_ecco.info())\n",
    "\n",
    "    print('======================================================')\n",
    "    print(f'Columns in {df_simu.name}: {len(df_simu.columns)}\\n')\n",
    "    print(df_simu.info())"
   ]
  },
  {
   "cell_type": "markdown",
   "metadata": {},
   "source": [
    "# Load ECCO and Simulated Datasets"
   ]
  },
  {
   "cell_type": "code",
   "execution_count": 4,
   "metadata": {},
   "outputs": [
    {
     "name": "stdout",
     "output_type": "stream",
     "text": [
      "Columns in ecco.csv: 44\n",
      "\n",
      "<class 'pandas.core.frame.DataFrame'>\n",
      "RangeIndex: 17587 entries, 0 to 17586\n",
      "Data columns (total 44 columns):\n",
      " #   Column                     Non-Null Count  Dtype  \n",
      "---  ------                     --------------  -----  \n",
      " 0   UUID                       9553 non-null   object \n",
      " 1   Name                       9553 non-null   object \n",
      " 2   Create Time                9553 non-null   object \n",
      " 3   Update Time                9553 non-null   object \n",
      " 4   User Edit Time             62 non-null     object \n",
      " 5   Type                       9553 non-null   object \n",
      " 6   Associated UUID            9553 non-null   object \n",
      " 7   Note                       0 non-null      float64\n",
      " 8   Source Name                9553 non-null   object \n",
      " 9   Source Class               9553 non-null   object \n",
      " 10  Source LID                 9553 non-null   float64\n",
      " 11  Combat ID                  9553 non-null   object \n",
      " 12  Object ID                  9553 non-null   object \n",
      " 13  Range To Contact           9553 non-null   float64\n",
      " 14  Bearing To Contact         9553 non-null   float64\n",
      " 15  Creator                    0 non-null      float64\n",
      " 16  Editor                     0 non-null      float64\n",
      " 17  AZ                         9551 non-null   float64\n",
      " 18  EL                         9551 non-null   float64\n",
      " 19  Range                      9551 non-null   float64\n",
      " 20  Position (lat)             9553 non-null   float64\n",
      " 21  Position (lon)             9553 non-null   float64\n",
      " 22  Position (alt MSL)         9553 non-null   float64\n",
      " 23  Origin Position (lat)      9551 non-null   float64\n",
      " 24  Origin Position (lon)      9551 non-null   float64\n",
      " 25  Origin Position (alt MSL)  9551 non-null   float64\n",
      " 26  2525                       9553 non-null   object \n",
      " 27  Speed                      9553 non-null   float64\n",
      " 28  Radar Cross Section        9553 non-null   float64\n",
      " 29  Closest Time               9553 non-null   float64\n",
      " 30  Course                     0 non-null      float64\n",
      " 31  Source ID                  9553 non-null   float64\n",
      " 32  Radial Velocity            9553 non-null   float64\n",
      " 33  Closest Distance           9553 non-null   float64\n",
      " 34  Deleted                    9553 non-null   object \n",
      " 35  Deleted Time               9553 non-null   object \n",
      " 36  AIS MMSI                   9553 non-null   float64\n",
      " 37  AIS IMO                    9553 non-null   float64\n",
      " 38  AIS Call Sign              0 non-null      float64\n",
      " 39  AIS Ship Type              0 non-null      float64\n",
      " 40  AIS Destination            0 non-null      float64\n",
      " 41  AIS ETA                    0 non-null      float64\n",
      " 42  Fused                      9553 non-null   object \n",
      " 43  Fused Tracks               1529 non-null   object \n",
      "dtypes: float64(28), object(16)\n",
      "memory usage: 5.9+ MB\n",
      "None\n",
      "======================================================\n",
      "Columns in simulatedDroneData.csv: 5\n",
      "\n",
      "<class 'pandas.core.frame.DataFrame'>\n",
      "RangeIndex: 54 entries, 0 to 53\n",
      "Data columns (total 5 columns):\n",
      " #   Column    Non-Null Count  Dtype  \n",
      "---  ------    --------------  -----  \n",
      " 0   x         54 non-null     float64\n",
      " 1   y         54 non-null     float64\n",
      " 2   z         54 non-null     float64\n",
      " 3   velocity  54 non-null     float64\n",
      " 4   heading   54 non-null     float64\n",
      "dtypes: float64(5)\n",
      "memory usage: 2.2 KB\n",
      "None\n"
     ]
    },
    {
     "name": "stderr",
     "output_type": "stream",
     "text": [
      "/var/folders/sx/0gyr6z3573gdm1mnzzc8vw980000gn/T/ipykernel_31017/4126290521.py:2: DtypeWarning: Columns (0,1,2,3,4,5,6,8,9,11,12,26,34,35,42,43) have mixed types. Specify dtype option on import or set low_memory=False.\n",
      "  df_ecco = pd.read_csv('Data/ecco.csv')\n"
     ]
    }
   ],
   "source": [
    "# load ecco dataset\n",
    "df_ecco = pd.read_csv('Data/ecco.csv')\n",
    "df_ecco.name = 'ecco.csv'\n",
    "\n",
    "# load simulated dataset\n",
    "df_simu = pd.read_csv('Data/simulatedDroneData.csv')\n",
    "df_simu.name = 'simulatedDroneData.csv'\n",
    "\n",
    "# display a summary of the fields for each dataset\n",
    "printInfo(df_ecco, df_simu)"
   ]
  },
  {
   "cell_type": "code",
   "execution_count": 5,
   "metadata": {},
   "outputs": [
    {
     "name": "stdout",
     "output_type": "stream",
     "text": [
      "Columns in ecco.csv: 25\n",
      "\n",
      "<class 'pandas.core.frame.DataFrame'>\n",
      "RangeIndex: 17587 entries, 0 to 17586\n",
      "Data columns (total 25 columns):\n",
      " #   Column                     Non-Null Count  Dtype  \n",
      "---  ------                     --------------  -----  \n",
      " 0   UUID                       9553 non-null   object \n",
      " 1   Name                       9553 non-null   object \n",
      " 2   Create Time                9553 non-null   object \n",
      " 3   Update Time                9553 non-null   object \n",
      " 4   User Edit Time             62 non-null     object \n",
      " 5   Source Name                9553 non-null   object \n",
      " 6   Source Class               9553 non-null   object \n",
      " 7   Source LID                 9553 non-null   float64\n",
      " 8   Object ID                  9553 non-null   object \n",
      " 9   Range To Contact           9553 non-null   float64\n",
      " 10  Bearing To Contact         9553 non-null   float64\n",
      " 11  EL                         9551 non-null   float64\n",
      " 12  Position (lat)             9553 non-null   float64\n",
      " 13  Position (lon)             9553 non-null   float64\n",
      " 14  Position (alt MSL)         9553 non-null   float64\n",
      " 15  Origin Position (lat)      9551 non-null   float64\n",
      " 16  Origin Position (lon)      9551 non-null   float64\n",
      " 17  Origin Position (alt MSL)  9551 non-null   float64\n",
      " 18  Speed                      9553 non-null   float64\n",
      " 19  Radar Cross Section        9553 non-null   float64\n",
      " 20  Closest Time               9553 non-null   float64\n",
      " 21  Source ID                  9553 non-null   float64\n",
      " 22  Radial Velocity            9553 non-null   float64\n",
      " 23  Deleted                    9553 non-null   object \n",
      " 24  Deleted Time               9553 non-null   object \n",
      "dtypes: float64(15), object(10)\n",
      "memory usage: 3.4+ MB\n",
      "None\n",
      "======================================================\n",
      "Columns in simulatedDroneData.csv: 5\n",
      "\n",
      "<class 'pandas.core.frame.DataFrame'>\n",
      "RangeIndex: 54 entries, 0 to 53\n",
      "Data columns (total 5 columns):\n",
      " #   Column    Non-Null Count  Dtype  \n",
      "---  ------    --------------  -----  \n",
      " 0   x         54 non-null     float64\n",
      " 1   y         54 non-null     float64\n",
      " 2   z         54 non-null     float64\n",
      " 3   velocity  54 non-null     float64\n",
      " 4   heading   54 non-null     float64\n",
      "dtypes: float64(5)\n",
      "memory usage: 2.2 KB\n",
      "None\n"
     ]
    }
   ],
   "source": [
    "# drop non-important features from ecco dataset\n",
    "df_ecco.drop(columns=DROP_ECCO, inplace=True)\n",
    "\n",
    "# display a summary of the fields for each dataset\n",
    "printInfo(df_ecco, df_simu)\n",
    "\n"
   ]
  },
  {
   "cell_type": "code",
   "execution_count": null,
   "metadata": {},
   "outputs": [],
   "source": []
  }
 ],
 "metadata": {
  "kernelspec": {
   "display_name": "Python 3",
   "language": "python",
   "name": "python3"
  },
  "language_info": {
   "codemirror_mode": {
    "name": "ipython",
    "version": 3
   },
   "file_extension": ".py",
   "mimetype": "text/x-python",
   "name": "python",
   "nbconvert_exporter": "python",
   "pygments_lexer": "ipython3",
   "version": "3.12.0"
  }
 },
 "nbformat": 4,
 "nbformat_minor": 2
}
